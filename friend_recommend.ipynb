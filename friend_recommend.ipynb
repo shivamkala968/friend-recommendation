{
  "nbformat": 4,
  "nbformat_minor": 0,
  "metadata": {
    "kernelspec": {
      "display_name": "Python 3",
      "language": "python",
      "name": "python3"
    },
    "language_info": {
      "codemirror_mode": {
        "name": "ipython",
        "version": 3
      },
      "file_extension": ".py",
      "mimetype": "text/x-python",
      "name": "python",
      "nbconvert_exporter": "python",
      "pygments_lexer": "ipython3",
      "version": "3.6.7"
    },
    "colab": {
      "name": "fb_graph_link_prediction.ipynb",
      "provenance": [],
      "collapsed_sections": [],
      "toc_visible": true,
      "machine_shape": "hm"
    },
    "accelerator": "GPU"
  },
  "cells": [
    {
      "cell_type": "markdown",
      "metadata": {
        "id": "AkdI7A6l8r0O",
        "colab_type": "text"
      },
      "source": [
        "<p style=\"font-size:32px;text-align:center\"> <b>Social network Graph Link Prediction - Facebook Challenge</b> </p>"
      ]
    },
    {
      "cell_type": "markdown",
      "metadata": {
        "id": "x1EUbnvK8r0Q",
        "colab_type": "text"
      },
      "source": [
        "### Problem statement: \n",
        "Given a directed social graph, have to predict missing links to recommend users (Link Prediction in graph)"
      ]
    },
    {
      "cell_type": "code",
      "metadata": {
        "id": "76-HS-GPPfvM",
        "colab_type": "code",
        "outputId": "079cee99-4e4c-4490-df2e-c96a157b02d9",
        "colab": {
          "base_uri": "https://localhost:8080/",
          "height": 34
        }
      },
      "source": [
        "import tensorflow as tf\n",
        "tf.test.gpu_device_name()"
      ],
      "execution_count": 0,
      "outputs": [
        {
          "output_type": "execute_result",
          "data": {
            "text/plain": [
              "'/device:GPU:0'"
            ]
          },
          "metadata": {
            "tags": []
          },
          "execution_count": 2
        }
      ]
    },
    {
      "cell_type": "markdown",
      "metadata": {
        "id": "8Lp8Lxev8r0Q",
        "colab_type": "text"
      },
      "source": [
        "### Data Overview\n",
        "Taken data from facebook's recruting challenge on kaggle https://www.kaggle.com/c/FacebookRecruiting  \n",
        "data contains two columns source and destination eac edge in graph \n",
        "    - Data columns (total 2 columns):  \n",
        "    - source_node         int64  \n",
        "    - destination_node    int64  "
      ]
    },
    {
      "cell_type": "code",
      "metadata": {
        "id": "DvOXxN3MPm3G",
        "colab_type": "code",
        "outputId": "c2042bc7-65c3-4833-a97f-d9a10502f9c1",
        "colab": {
          "base_uri": "https://localhost:8080/",
          "height": 476
        }
      },
      "source": [
        "from tensorflow.python.client import device_lib\n",
        "device_lib.list_local_devices()"
      ],
      "execution_count": 0,
      "outputs": [
        {
          "output_type": "execute_result",
          "data": {
            "text/plain": [
              "[name: \"/device:CPU:0\"\n",
              " device_type: \"CPU\"\n",
              " memory_limit: 268435456\n",
              " locality {\n",
              " }\n",
              " incarnation: 3111772186750866801, name: \"/device:XLA_CPU:0\"\n",
              " device_type: \"XLA_CPU\"\n",
              " memory_limit: 17179869184\n",
              " locality {\n",
              " }\n",
              " incarnation: 17568134598352918681\n",
              " physical_device_desc: \"device: XLA_CPU device\", name: \"/device:XLA_GPU:0\"\n",
              " device_type: \"XLA_GPU\"\n",
              " memory_limit: 17179869184\n",
              " locality {\n",
              " }\n",
              " incarnation: 925720558921720063\n",
              " physical_device_desc: \"device: XLA_GPU device\", name: \"/device:GPU:0\"\n",
              " device_type: \"GPU\"\n",
              " memory_limit: 15701463552\n",
              " locality {\n",
              "   bus_id: 1\n",
              "   links {\n",
              "   }\n",
              " }\n",
              " incarnation: 13572598151718415047\n",
              " physical_device_desc: \"device: 0, name: Tesla P100-PCIE-16GB, pci bus id: 0000:00:04.0, compute capability: 6.0\"]"
            ]
          },
          "metadata": {
            "tags": []
          },
          "execution_count": 3
        }
      ]
    },
    {
      "cell_type": "markdown",
      "metadata": {
        "id": "UfjO4uyU8r0R",
        "colab_type": "text"
      },
      "source": [
        "### Mapping the problem into supervised learning problem:\n",
        "- Generated training samples of good and bad links from given directed graph and for each link got some features like no of followers, is he followed back, page rank, katz score, adar index, some svd fetures of adj matrix, some weight features etc. and trained ml model based on these features to predict link. \n",
        "- Some reference papers and videos :  \n",
        "    - https://www.cs.cornell.edu/home/kleinber/link-pred.pdf\n",
        "    - https://www3.nd.edu/~dial/publications/lichtenwalter2010new.pdf\n",
        "    - https://kaggle2.blob.core.windows.net/forum-message-attachments/2594/supervised_link_prediction.pdf\n",
        "    - https://www.youtube.com/watch?v=2M77Hgy17cg"
      ]
    },
    {
      "cell_type": "markdown",
      "metadata": {
        "id": "m1dm6ATV8r0S",
        "colab_type": "text"
      },
      "source": [
        "### Business objectives and constraints:  \n",
        "- No low-latency requirement.\n",
        "- Probability of prediction is useful to recommend ighest probability links"
      ]
    },
    {
      "cell_type": "markdown",
      "metadata": {
        "id": "BJTVAGtN8r0T",
        "colab_type": "text"
      },
      "source": [
        "### Performance metric for supervised learning:  \n",
        "- Both precision and recall is important so F1 score is good choice\n",
        "- Confusion matrix"
      ]
    },
    {
      "cell_type": "code",
      "metadata": {
        "id": "4NguXaVr8r0U",
        "colab_type": "code",
        "colab": {}
      },
      "source": [
        "#Importing Libraries\n",
        "# please do go through this python notebook: \n",
        "import warnings\n",
        "warnings.filterwarnings(\"ignore\")\n",
        "from tqdm import tqdm\n",
        "\n",
        "import csv\n",
        "import pandas as pd#pandas to create small dataframes \n",
        "import datetime #Convert to unix time\n",
        "import time #Convert to unix time\n",
        "# if numpy is not installed already : pip3 install numpy\n",
        "import numpy as np#Do aritmetic operations on arrays\n",
        "# matplotlib: used to plot graphs\n",
        "import matplotlib\n",
        "import matplotlib.pylab as plt\n",
        "import seaborn as sns#Plots\n",
        "from matplotlib import rcParams#Size of plots  \n",
        "from sklearn.cluster import MiniBatchKMeans, KMeans#Clustering\n",
        "import math\n",
        "import pickle\n",
        "import os\n",
        "# to install xgboost: pip3 install xgboost\n",
        "import xgboost as xgb\n",
        "\n",
        "import warnings\n",
        "import networkx as nx\n",
        "import pdb\n",
        "import pickle\n",
        "\n"
      ],
      "execution_count": 0,
      "outputs": []
    },
    {
      "cell_type": "code",
      "metadata": {
        "id": "TKtnFu21DSTY",
        "colab_type": "code",
        "outputId": "201a6192-4ba4-444e-f41c-1f0dec93d6e5",
        "colab": {
          "base_uri": "https://localhost:8080/",
          "height": 122
        }
      },
      "source": [
        "from google.colab import drive\n",
        "drive.mount('/content/drive')"
      ],
      "execution_count": 0,
      "outputs": [
        {
          "output_type": "stream",
          "text": [
            "Go to this URL in a browser: https://accounts.google.com/o/oauth2/auth?client_id=947318989803-6bn6qk8qdgf4n4g3pfee6491hc0brc4i.apps.googleusercontent.com&redirect_uri=urn%3aietf%3awg%3aoauth%3a2.0%3aoob&response_type=code&scope=email%20https%3a%2f%2fwww.googleapis.com%2fauth%2fdocs.test%20https%3a%2f%2fwww.googleapis.com%2fauth%2fdrive%20https%3a%2f%2fwww.googleapis.com%2fauth%2fdrive.photos.readonly%20https%3a%2f%2fwww.googleapis.com%2fauth%2fpeopleapi.readonly\n",
            "\n",
            "Enter your authorization code:\n",
            "··········\n",
            "Mounted at /content/drive\n"
          ],
          "name": "stdout"
        }
      ]
    },
    {
      "cell_type": "code",
      "metadata": {
        "id": "wuQlopgb8r0Y",
        "colab_type": "code",
        "outputId": "8f0301a9-3fdf-44ab-f0a3-930a45800b50",
        "colab": {
          "base_uri": "https://localhost:8080/",
          "height": 119
        }
      },
      "source": [
        "#reading graph\n",
        "if not os.path.isfile(\"/content/drive/My Drive/Colab Notebooks/train_woheader.csv\"):\n",
        "    traincsv = pd.read_csv('/content/drive/My Drive/Colab Notebooks/train.csv')\n",
        "    print(traincsv[traincsv.isna().any(1)])\n",
        "    print(traincsv.info())\n",
        "    print(\"Number of diplicate entries: \",sum(traincsv.duplicated()))\n",
        "    traincsv.to_csv('/content/drive/My Drive/Colab Notebooks/train_woheader.csv',header=False,index=False)\n",
        "    print(\"saved the graph into file\")\n",
        "else:\n",
        "    g=nx.read_edgelist('/content/drive/My Drive/Colab Notebooks/train_woheader.csv',delimiter=',',create_using=nx.DiGraph(),nodetype=int)\n",
        "    print(nx.info(g))"
      ],
      "execution_count": 0,
      "outputs": [
        {
          "output_type": "stream",
          "text": [
            "Name: \n",
            "Type: DiGraph\n",
            "Number of nodes: 1862220\n",
            "Number of edges: 9437519\n",
            "Average in degree:   5.0679\n",
            "Average out degree:   5.0679\n"
          ],
          "name": "stdout"
        }
      ]
    },
    {
      "cell_type": "code",
      "metadata": {
        "id": "rMbnqOP08r0d",
        "colab_type": "code",
        "colab": {}
      },
      "source": [
        "if not os.path.isfile('/content/drive/My Drive/Colab Notebooks/train_woheader_sample.csv'):\n",
        "    pd.read_csv('/content/drive/My Drive/Colab Notebooks/train.csv', nrows=50).to_csv('/content/drive/My Drive/Colab Notebooks/train_woheader_sample.csv',header=False,index=False)\n",
        "    \n"
      ],
      "execution_count": 0,
      "outputs": []
    },
    {
      "cell_type": "code",
      "metadata": {
        "id": "5GPClFa7L1r4",
        "colab_type": "code",
        "outputId": "1d47d791-56f4-47a8-eee4-39f97a58d1cd",
        "colab": {
          "base_uri": "https://localhost:8080/",
          "height": 421
        }
      },
      "source": [
        "subgraph=nx.read_edgelist('/content/drive/My Drive/Colab Notebooks/train_woheader_sample.csv',delimiter=',',create_using=nx.DiGraph(),nodetype=int)\n",
        "# https://stackoverflow.com/questions/9402255/drawing-a-huge-graph-with-networkx-and-matplotlib\n",
        "\n",
        "pos=nx.spring_layout(subgraph)\n",
        "nx.draw(subgraph,pos,node_color='#A0CBE2',edge_color='#00bb5e',width=1,edge_cmap=plt.cm.Blues,with_labels=True)\n",
        "plt.savefig(\"graph_sample.pdf\")\n",
        "print(nx.info(subgraph))\n"
      ],
      "execution_count": 0,
      "outputs": [
        {
          "output_type": "stream",
          "text": [
            "Name: \n",
            "Type: DiGraph\n",
            "Number of nodes: 66\n",
            "Number of edges: 50\n",
            "Average in degree:   0.7576\n",
            "Average out degree:   0.7576\n"
          ],
          "name": "stdout"
        },
        {
          "output_type": "display_data",
          "data": {
            "image/png": "[encoded data removed]",
            "text/plain": [
              "<Figure size 432x288 with 1 Axes>"
            ]
          },
          "metadata": {
            "tags": []
          }
        }
      ]
    },
    {
      "cell_type": "markdown",
      "metadata": {
        "id": "8G68GrwW8r0h",
        "colab_type": "text"
      },
      "source": [
        "# 1. Exploratory Data Analysis"
      ]
    },
    {
      "cell_type": "code",
      "metadata": {
        "id": "JPzXjGXm8r0i",
        "colab_type": "code",
        "outputId": "454cd7f9-f4ff-402f-d8e0-f52bcbe4d5ac",
        "colab": {
          "base_uri": "https://localhost:8080/",
          "height": 34
        }
      },
      "source": [
        "# No of Unique persons \n",
        "print(\"The number of unique persons\",len(g.nodes()))"
      ],
      "execution_count": 0,
      "outputs": [
        {
          "output_type": "stream",
          "text": [
            "The number of unique persons 1862220\n"
          ],
          "name": "stdout"
        }
      ]
    },
    {
      "cell_type": "markdown",
      "metadata": {
        "id": "BJtLQj6R8r0n",
        "colab_type": "text"
      },
      "source": [
        "## 1.1 No of followers for each person"
      ]
    },
    {
      "cell_type": "code",
      "metadata": {
        "id": "xTn3PJz08r0o",
        "colab_type": "code",
        "outputId": "bc2690e3-55db-4671-d6d5-d62c0579db0b",
        "colab": {
          "base_uri": "https://localhost:8080/",
          "height": 388
        }
      },
      "source": [
        "indegree_dist = list(dict(g.in_degree()).values())\n",
        "indegree_dist.sort()\n",
        "plt.figure(figsize=(10,6))\n",
        "plt.plot(indegree_dist)\n",
        "plt.xlabel('Index No')\n",
        "plt.ylabel('No Of Followers')\n",
        "plt.show()"
      ],
      "execution_count": 0,
      "outputs": [
        {
          "output_type": "display_data",
          "data": {
            "image/png": "[encoded data removed]",
            "text/plain": [
              "<Figure size 720x432 with 1 Axes>"
            ]
          },
          "metadata": {
            "tags": [],
            "needs_background": "light"
          }
        }
      ]
    },
    {
      "cell_type": "code",
      "metadata": {
        "id": "C-I_mlHS8r0t",
        "colab_type": "code",
        "outputId": "3d2cd0d7-a365-4a35-f9d2-8d24bb2a1fba",
        "colab": {
          "base_uri": "https://localhost:8080/",
          "height": 388
        }
      },
      "source": [
        "indegree_dist = list(dict(g.in_degree()).values())\n",
        "indegree_dist.sort()\n",
        "plt.figure(figsize=(10,6))\n",
        "plt.plot(indegree_dist[0:1500000])\n",
        "plt.xlabel('Index No')\n",
        "plt.ylabel('No Of Followers')\n",
        "plt.show()"
      ],
      "execution_count": 0,
      "outputs": [
        {
          "output_type": "display_data",
          "data": {
            "image/png": "[encoded data removed]",
            "text/plain": [
              "<Figure size 720x432 with 1 Axes>"
            ]
          },
          "metadata": {
            "tags": [],
            "needs_background": "light"
          }
        }
      ]
    },
    {
      "cell_type": "code",
      "metadata": {
        "id": "ysqnbIXs8r0z",
        "colab_type": "code",
        "outputId": "1f8cb7d9-dee4-46fa-ae75-f5aaa63d0099",
        "colab": {
          "base_uri": "https://localhost:8080/",
          "height": 265
        }
      },
      "source": [
        "plt.boxplot(indegree_dist)\n",
        "plt.ylabel('No Of Followers')\n",
        "plt.show()"
      ],
      "execution_count": 0,
      "outputs": [
        {
          "output_type": "display_data",
          "data": {
            "image/png": "[encoded data removed]",
            "text/plain": [
              "<Figure size 432x288 with 1 Axes>"
            ]
          },
          "metadata": {
            "tags": [],
            "needs_background": "light"
          }
        }
      ]
    },
    {
      "cell_type": "code",
      "metadata": {
        "id": "RgHeXpAC8r04",
        "colab_type": "code",
        "outputId": "14e6c311-95a3-49be-b7d4-f799699af520",
        "colab": {
          "base_uri": "https://localhost:8080/",
          "height": 204
        }
      },
      "source": [
        "### 90-100 percentile\n",
        "for i in range(0,11):\n",
        "    print(90+i,'percentile value is',np.percentile(indegree_dist,90+i))"
      ],
      "execution_count": 0,
      "outputs": [
        {
          "output_type": "stream",
          "text": [
            "90 percentile value is 12.0\n",
            "91 percentile value is 13.0\n",
            "92 percentile value is 14.0\n",
            "93 percentile value is 15.0\n",
            "94 percentile value is 17.0\n",
            "95 percentile value is 19.0\n",
            "96 percentile value is 21.0\n",
            "97 percentile value is 24.0\n",
            "98 percentile value is 29.0\n",
            "99 percentile value is 40.0\n",
            "100 percentile value is 552.0\n"
          ],
          "name": "stdout"
        }
      ]
    },
    {
      "cell_type": "code",
      "metadata": {
        "id": "KxQfmAR-8r09",
        "colab_type": "code",
        "outputId": "5018bd01-330c-4739-a8c5-72ab0372cd43",
        "colab": {
          "base_uri": "https://localhost:8080/",
          "height": 187
        }
      },
      "source": [
        "### 99-100 percentile\n",
        "for i in range(10,110,10):\n",
        "    print(99+(i/100),'percentile value is',np.percentile(indegree_dist,99+(i/100)))"
      ],
      "execution_count": 0,
      "outputs": [
        {
          "output_type": "stream",
          "text": [
            "99.1 percentile value is 42.0\n",
            "99.2 percentile value is 44.0\n",
            "99.3 percentile value is 47.0\n",
            "99.4 percentile value is 50.0\n",
            "99.5 percentile value is 55.0\n",
            "99.6 percentile value is 61.0\n",
            "99.7 percentile value is 70.0\n",
            "99.8 percentile value is 84.0\n",
            "99.9 percentile value is 112.0\n",
            "100.0 percentile value is 552.0\n"
          ],
          "name": "stdout"
        }
      ]
    },
    {
      "cell_type": "code",
      "metadata": {
        "id": "MxW4d6SI8r1B",
        "colab_type": "code",
        "outputId": "37ede2e7-f797-4a4d-f339-330145f15ed5",
        "colab": {
          "base_uri": "https://localhost:8080/",
          "height": 511
        }
      },
      "source": [
        "%matplotlib inline\n",
        "sns.set_style('ticks')\n",
        "fig, ax = plt.subplots()\n",
        "fig.set_size_inches(11.7, 8.27)\n",
        "sns.distplot(indegree_dist, color='#16A085')\n",
        "plt.xlabel('PDF of Indegree')\n",
        "sns.despine()\n",
        "#plt.show()"
      ],
      "execution_count": 0,
      "outputs": [
        {
          "output_type": "display_data",
          "data": {
            "image/png": "[encoded data removed]",
            "text/plain": [
              "<Figure size 842.4x595.44 with 1 Axes>"
            ]
          },
          "metadata": {
            "tags": []
          }
        }
      ]
    },
    {
      "cell_type": "markdown",
      "metadata": {
        "id": "jS9NTDjK8r1F",
        "colab_type": "text"
      },
      "source": [
        "## 1.2 No of people each person is following"
      ]
    },
    {
      "cell_type": "code",
      "metadata": {
        "id": "_4snokE88r1G",
        "colab_type": "code",
        "outputId": "aab15c37-b7a5-4909-8f0a-445cd96a63e8",
        "colab": {
          "base_uri": "https://localhost:8080/",
          "height": 388
        }
      },
      "source": [
        "outdegree_dist = list(dict(g.out_degree()).values())\n",
        "outdegree_dist.sort()\n",
        "plt.figure(figsize=(10,6))\n",
        "plt.plot(outdegree_dist)\n",
        "plt.xlabel('Index No')\n",
        "plt.ylabel('No Of people each person is following')\n",
        "plt.show()"
      ],
      "execution_count": 0,
      "outputs": [
        {
          "output_type": "display_data",
          "data": {
            "image/png": "[encoded data removed]",
            "text/plain": [
              "<Figure size 720x432 with 1 Axes>"
            ]
          },
          "metadata": {
            "tags": []
          }
        }
      ]
    },
    {
      "cell_type": "code",
      "metadata": {
        "id": "BbYJrh-18r1J",
        "colab_type": "code",
        "outputId": "4c4f1fe2-0538-4eda-aeef-85f2feb022f4",
        "colab": {
          "base_uri": "https://localhost:8080/",
          "height": 388
        }
      },
      "source": [
        "indegree_dist = list(dict(g.in_degree()).values())\n",
        "indegree_dist.sort()\n",
        "plt.figure(figsize=(10,6))\n",
        "plt.plot(outdegree_dist[0:1500000])\n",
        "plt.xlabel('Index No')\n",
        "plt.ylabel('No Of people each person is following')\n",
        "plt.show()"
      ],
      "execution_count": 0,
      "outputs": [
        {
          "output_type": "display_data",
          "data": {
            "image/png": "[encoded data removed]",
            "text/plain": [
              "<Figure size 720x432 with 1 Axes>"
            ]
          },
          "metadata": {
            "tags": []
          }
        }
      ]
    },
    {
      "cell_type": "code",
      "metadata": {
        "id": "SbCy9Svu8r1O",
        "colab_type": "code",
        "outputId": "128b51da-0a8c-4890-d1c9-08cc2525660d",
        "colab": {
          "base_uri": "https://localhost:8080/",
          "height": 265
        }
      },
      "source": [
        "plt.boxplot(indegree_dist)\n",
        "plt.ylabel('No Of people each person is following')\n",
        "plt.show()"
      ],
      "execution_count": 0,
      "outputs": [
        {
          "output_type": "display_data",
          "data": {
            "image/png": "[encoded data removed]",
            "text/plain": [
              "<Figure size 432x288 with 1 Axes>"
            ]
          },
          "metadata": {
            "tags": []
          }
        }
      ]
    },
    {
      "cell_type": "code",
      "metadata": {
        "id": "PkJTAORO8r1R",
        "colab_type": "code",
        "outputId": "70c72dac-c85d-457a-bf40-6dcb2d500225",
        "colab": {
          "base_uri": "https://localhost:8080/",
          "height": 204
        }
      },
      "source": [
        "### 90-100 percentile\n",
        "for i in range(0,11):\n",
        "    print(90+i,'percentile value is',np.percentile(outdegree_dist,90+i))"
      ],
      "execution_count": 0,
      "outputs": [
        {
          "output_type": "stream",
          "text": [
            "90 percentile value is 12.0\n",
            "91 percentile value is 13.0\n",
            "92 percentile value is 14.0\n",
            "93 percentile value is 15.0\n",
            "94 percentile value is 17.0\n",
            "95 percentile value is 19.0\n",
            "96 percentile value is 21.0\n",
            "97 percentile value is 24.0\n",
            "98 percentile value is 29.0\n",
            "99 percentile value is 40.0\n",
            "100 percentile value is 1566.0\n"
          ],
          "name": "stdout"
        }
      ]
    },
    {
      "cell_type": "code",
      "metadata": {
        "id": "xRu1efoE8r1U",
        "colab_type": "code",
        "outputId": "da7d5feb-ef37-440e-f448-952affe97479",
        "colab": {
          "base_uri": "https://localhost:8080/",
          "height": 187
        }
      },
      "source": [
        "### 99-100 percentile\n",
        "for i in range(10,110,10):\n",
        "    print(99+(i/100),'percentile value is',np.percentile(outdegree_dist,99+(i/100)))"
      ],
      "execution_count": 0,
      "outputs": [
        {
          "output_type": "stream",
          "text": [
            "99.1 percentile value is 42.0\n",
            "99.2 percentile value is 45.0\n",
            "99.3 percentile value is 48.0\n",
            "99.4 percentile value is 52.0\n",
            "99.5 percentile value is 56.0\n",
            "99.6 percentile value is 63.0\n",
            "99.7 percentile value is 73.0\n",
            "99.8 percentile value is 90.0\n",
            "99.9 percentile value is 123.0\n",
            "100.0 percentile value is 1566.0\n"
          ],
          "name": "stdout"
        }
      ]
    },
    {
      "cell_type": "code",
      "metadata": {
        "id": "TqnKJWHY8r1X",
        "colab_type": "code",
        "outputId": "087eaf60-4076-4eb3-cbd9-034ae6537b5f",
        "colab": {
          "base_uri": "https://localhost:8080/",
          "height": 511
        }
      },
      "source": [
        "sns.set_style('ticks')\n",
        "fig, ax = plt.subplots()\n",
        "fig.set_size_inches(11.7, 8.27)\n",
        "sns.distplot(outdegree_dist, color='#16A085')\n",
        "plt.xlabel('PDF of Outdegree')\n",
        "sns.despine()"
      ],
      "execution_count": 0,
      "outputs": [
        {
          "output_type": "display_data",
          "data": {
            "image/png": "[encoded data removed]",
            "text/plain": [
              "<Figure size 842.4x595.44 with 1 Axes>"
            ]
          },
          "metadata": {
            "tags": []
          }
        }
      ]
    },
    {
      "cell_type": "code",
      "metadata": {
        "id": "bDXhWUzJ8r1c",
        "colab_type": "code",
        "outputId": "77508c5d-fe4f-445b-c6b8-0dfc130e5789",
        "colab": {
          "base_uri": "https://localhost:8080/",
          "height": 34
        }
      },
      "source": [
        "print('No of persons those are not following anyone are' ,sum(np.array(outdegree_dist)==0),'and % is',\n",
        "                                sum(np.array(outdegree_dist)==0)*100/len(outdegree_dist) )"
      ],
      "execution_count": 0,
      "outputs": [
        {
          "output_type": "stream",
          "text": [
            "No of persons those are not following anyone are 274512 and % is 14.741115442858524\n"
          ],
          "name": "stdout"
        }
      ]
    },
    {
      "cell_type": "code",
      "metadata": {
        "id": "IYlT6nNX8r1g",
        "colab_type": "code",
        "outputId": "5f204ca7-37ff-470b-ec82-a24f94af7f31",
        "colab": {
          "base_uri": "https://localhost:8080/",
          "height": 34
        }
      },
      "source": [
        "print('No of persons having zero followers are' ,sum(np.array(indegree_dist)==0),'and % is',\n",
        "                                sum(np.array(indegree_dist)==0)*100/len(indegree_dist) )"
      ],
      "execution_count": 0,
      "outputs": [
        {
          "output_type": "stream",
          "text": [
            "No of persons having zero followers are 188043 and % is 10.097786512871734\n"
          ],
          "name": "stdout"
        }
      ]
    },
    {
      "cell_type": "code",
      "metadata": {
        "id": "Gd-si0ok8r1j",
        "colab_type": "code",
        "outputId": "061dc39c-619e-4372-80e9-bdb3bb7c89dc",
        "colab": {
          "base_uri": "https://localhost:8080/",
          "height": 34
        }
      },
      "source": [
        "count=0\n",
        "for i in g.nodes():\n",
        "    if len(list(g.predecessors(i)))==0 :\n",
        "        if len(list(g.successors(i)))==0:\n",
        "            count+=1\n",
        "print('No of persons those are not not following anyone and also not having any followers are',count)"
      ],
      "execution_count": 0,
      "outputs": [
        {
          "output_type": "stream",
          "text": [
            "No of persons those are not not following anyone and also not having any followers are 0\n"
          ],
          "name": "stdout"
        }
      ]
    },
    {
      "cell_type": "markdown",
      "metadata": {
        "id": "4HW6_YmV8r1l",
        "colab_type": "text"
      },
      "source": [
        "## 1.3 both followers + following "
      ]
    },
    {
      "cell_type": "code",
      "metadata": {
        "id": "NwqHFWC-8r1m",
        "colab_type": "code",
        "colab": {}
      },
      "source": [
        "from collections import Counter\n",
        "dict_in = dict(g.in_degree())\n",
        "dict_out = dict(g.out_degree())\n",
        "d = Counter(dict_in) + Counter(dict_out)\n",
        "in_out_degree = np.array(list(d.values()))"
      ],
      "execution_count": 0,
      "outputs": []
    },
    {
      "cell_type": "code",
      "metadata": {
        "id": "hw0bKdiK8r1p",
        "colab_type": "code",
        "outputId": "5d7988e0-a143-4cc4-850a-cc45a908f5ce",
        "colab": {
          "base_uri": "https://localhost:8080/",
          "height": 388
        }
      },
      "source": [
        "in_out_degree_sort = sorted(in_out_degree)\n",
        "plt.figure(figsize=(10,6))\n",
        "plt.plot(in_out_degree_sort)\n",
        "plt.xlabel('Index No')\n",
        "plt.ylabel('No Of people each person is following + followers')\n",
        "plt.show()"
      ],
      "execution_count": 0,
      "outputs": [
        {
          "output_type": "display_data",
          "data": {
            "image/png": "[encoded data removed]",
            "text/plain": [
              "<Figure size 720x432 with 1 Axes>"
            ]
          },
          "metadata": {
            "tags": []
          }
        }
      ]
    },
    {
      "cell_type": "code",
      "metadata": {
        "id": "LufXJ8a88r1t",
        "colab_type": "code",
        "outputId": "86f13ac4-9517-44a8-d5d0-f8c1f550cfee",
        "colab": {
          "base_uri": "https://localhost:8080/",
          "height": 388
        }
      },
      "source": [
        "in_out_degree_sort = sorted(in_out_degree)\n",
        "plt.figure(figsize=(10,6))\n",
        "plt.plot(in_out_degree_sort[0:1500000])\n",
        "plt.xlabel('Index No')\n",
        "plt.ylabel('No Of people each person is following + followers')\n",
        "plt.show()"
      ],
      "execution_count": 0,
      "outputs": [
        {
          "output_type": "display_data",
          "data": {
            "image/png": "[encoded data removed]",
            "text/plain": [
              "<Figure size 720x432 with 1 Axes>"
            ]
          },
          "metadata": {
            "tags": []
          }
        }
      ]
    },
    {
      "cell_type": "code",
      "metadata": {
        "id": "f1UdNkcq8r1w",
        "colab_type": "code",
        "outputId": "db9d15b4-359b-4515-e581-3951e45d0399",
        "colab": {
          "base_uri": "https://localhost:8080/",
          "height": 204
        }
      },
      "source": [
        "### 90-100 percentile\n",
        "for i in range(0,11):\n",
        "    print(90+i,'percentile value is',np.percentile(in_out_degree_sort,90+i))"
      ],
      "execution_count": 0,
      "outputs": [
        {
          "output_type": "stream",
          "text": [
            "90 percentile value is 24.0\n",
            "91 percentile value is 26.0\n",
            "92 percentile value is 28.0\n",
            "93 percentile value is 31.0\n",
            "94 percentile value is 33.0\n",
            "95 percentile value is 37.0\n",
            "96 percentile value is 41.0\n",
            "97 percentile value is 48.0\n",
            "98 percentile value is 58.0\n",
            "99 percentile value is 79.0\n",
            "100 percentile value is 1579.0\n"
          ],
          "name": "stdout"
        }
      ]
    },
    {
      "cell_type": "code",
      "metadata": {
        "id": "nSecAaHx8r10",
        "colab_type": "code",
        "outputId": "158cd954-16f7-409d-a921-cba1a577486a",
        "colab": {
          "base_uri": "https://localhost:8080/",
          "height": 187
        }
      },
      "source": [
        "### 99-100 percentile\n",
        "for i in range(10,110,10):\n",
        "    print(99+(i/100),'percentile value is',np.percentile(in_out_degree_sort,99+(i/100)))"
      ],
      "execution_count": 0,
      "outputs": [
        {
          "output_type": "stream",
          "text": [
            "99.1 percentile value is 83.0\n",
            "99.2 percentile value is 87.0\n",
            "99.3 percentile value is 93.0\n",
            "99.4 percentile value is 99.0\n",
            "99.5 percentile value is 108.0\n",
            "99.6 percentile value is 120.0\n",
            "99.7 percentile value is 138.0\n",
            "99.8 percentile value is 168.0\n",
            "99.9 percentile value is 221.0\n",
            "100.0 percentile value is 1579.0\n"
          ],
          "name": "stdout"
        }
      ]
    },
    {
      "cell_type": "code",
      "metadata": {
        "id": "WkkNzCci8r13",
        "colab_type": "code",
        "outputId": "34d44938-982b-4e9c-e931-5fe9e887e585",
        "colab": {
          "base_uri": "https://localhost:8080/",
          "height": 51
        }
      },
      "source": [
        "print('Min of no of followers + following is',in_out_degree.min())\n",
        "print(np.sum(in_out_degree==in_out_degree.min()),' persons having minimum no of followers + following')"
      ],
      "execution_count": 0,
      "outputs": [
        {
          "output_type": "stream",
          "text": [
            "Min of no of followers + following is 1\n",
            "334291  persons having minimum no of followers + following\n"
          ],
          "name": "stdout"
        }
      ]
    },
    {
      "cell_type": "code",
      "metadata": {
        "id": "yFnnojqu8r15",
        "colab_type": "code",
        "outputId": "1e3e850d-fffc-435e-aff7-6ab005fe40d7",
        "colab": {
          "base_uri": "https://localhost:8080/",
          "height": 51
        }
      },
      "source": [
        "print('Max of no of followers + following is',in_out_degree.max())\n",
        "print(np.sum(in_out_degree==in_out_degree.max()),' persons having maximum no of followers + following')"
      ],
      "execution_count": 0,
      "outputs": [
        {
          "output_type": "stream",
          "text": [
            "Max of no of followers + following is 1579\n",
            "1  persons having maximum no of followers + following\n"
          ],
          "name": "stdout"
        }
      ]
    },
    {
      "cell_type": "code",
      "metadata": {
        "id": "uI49X0pb8r18",
        "colab_type": "code",
        "outputId": "d952d6e0-797f-427e-ef97-deb06c152697",
        "colab": {
          "base_uri": "https://localhost:8080/",
          "height": 34
        }
      },
      "source": [
        "print('No of persons having followers + following less than 10 are',np.sum(in_out_degree<10))"
      ],
      "execution_count": 0,
      "outputs": [
        {
          "output_type": "stream",
          "text": [
            "No of persons having followers + following less than 10 are 1320326\n"
          ],
          "name": "stdout"
        }
      ]
    },
    {
      "cell_type": "code",
      "metadata": {
        "id": "caFXxvYm8r2A",
        "colab_type": "code",
        "outputId": "30ae6df8-3c9f-49f5-8fc4-4fc23d710317",
        "colab": {
          "base_uri": "https://localhost:8080/",
          "height": 51
        }
      },
      "source": [
        "print('No of weakly connected components',len(list(nx.weakly_connected_components(g))))\n",
        "count=0\n",
        "for i in list(nx.weakly_connected_components(g)):\n",
        "    if len(i)==2:\n",
        "        count+=1\n",
        "print('weakly connected components wit 2 nodes',count)"
      ],
      "execution_count": 0,
      "outputs": [
        {
          "output_type": "stream",
          "text": [
            "No of weakly connected components 45558\n",
            "weakly connected components wit 2 nodes 32195\n"
          ],
          "name": "stdout"
        }
      ]
    },
    {
      "cell_type": "markdown",
      "metadata": {
        "id": "z92q2WIs8r2F",
        "colab_type": "text"
      },
      "source": [
        "# 2. Posing a problem as classification problem "
      ]
    },
    {
      "cell_type": "markdown",
      "metadata": {
        "id": "fGfY7LUS8r2G",
        "colab_type": "text"
      },
      "source": [
        "## 2.1 Generating some edges which are not present in graph for supervised learning  \n",
        "Generated Bad links from graph which are not in graph and whose shortest path is greater than 2. "
      ]
    },
    {
      "cell_type": "code",
      "metadata": {
        "id": "YJwictLgO0-t",
        "colab_type": "code",
        "outputId": "9eb91245-1a6c-41af-bca9-aa9346cb5262",
        "colab": {
          "base_uri": "https://localhost:8080/",
          "height": 34
        }
      },
      "source": [
        "import tensorflow as tf\n",
        "tf.test.gpu_device_name()"
      ],
      "execution_count": 0,
      "outputs": [
        {
          "output_type": "execute_result",
          "data": {
            "text/plain": [
              "'/device:GPU:0'"
            ]
          },
          "metadata": {
            "tags": []
          },
          "execution_count": 34
        }
      ]
    },
    {
      "cell_type": "code",
      "metadata": {
        "id": "l7mCZVnbO1Kk",
        "colab_type": "code",
        "colab": {}
      },
      "source": [
        ""
      ],
      "execution_count": 0,
      "outputs": []
    },
    {
      "cell_type": "code",
      "metadata": {
        "id": "gY_CufRJ8r2G",
        "colab_type": "code",
        "outputId": "838e4ee6-d16c-4820-d511-163453451546",
        "colab": {
          "base_uri": "https://localhost:8080/",
          "height": 51
        }
      },
      "source": [
        "%%time\n",
        "###generating bad edges from given graph\n",
        "import random\n",
        "if not os.path.isfile('/content/drive/My Drive/Colab Notebooks/missing_edges_final.p'):\n",
        "    #getting all set of edges\n",
        "    r = csv.reader(open('/content/drive/My Drive/Colab Notebooks/train_woheader.csv','r'))\n",
        "    edges = dict()\n",
        "    for edge in tqdm(r):\n",
        "        edges[(edge[0], edge[1])] = 1\n",
        "        \n",
        "        \n",
        "    missing_edges = set([])\n",
        "    count=0\n",
        "    \n",
        "    while (len(missing_edges)<9437519):\n",
        "        \n",
        "        a=random.randint(1, 1862220)\n",
        "        b=random.randint(1, 1862220)\n",
        "        tmp = edges.get((a,b),-1)\n",
        "        if tmp == -1 and a!=b:\n",
        "            try:\n",
        "                if nx.shortest_path_length(g,source=a,target=b) > 2: \n",
        "\n",
        "                    missing_edges.add((a,b))\n",
        "                else:\n",
        "                    continue  \n",
        "            except:  \n",
        "                    missing_edges.add((a,b))              \n",
        "        else:\n",
        "\n",
        "            continue\n",
        "        count=count+1\n",
        "        print(count)\n",
        "    \n",
        "    pickle.dump(missing_edges,open('/content/drive/My Drive/Colab Notebooks/missing_edges_final.p','wb'))\n",
        "else:\n",
        "    missing_edges = pickle.load(open('/content/drive/My Drive/Colab Notebooks/missing_edges_final.p','rb'))"
      ],
      "execution_count": 0,
      "outputs": [
        {
          "output_type": "stream",
          "text": [
            "CPU times: user 2.25 s, sys: 801 ms, total: 3.05 s\n",
            "Wall time: 4.23 s\n"
          ],
          "name": "stdout"
        }
      ]
    },
    {
      "cell_type": "code",
      "metadata": {
        "id": "fgd9ntS88r2J",
        "colab_type": "code",
        "outputId": "b1a931e0-ee22-41aa-f002-f49aa1a42f31",
        "colab": {
          "base_uri": "https://localhost:8080/",
          "height": 34
        }
      },
      "source": [
        "missing_edges = pickle.load(open('/content/drive/My Drive/Colab Notebooks/missing_edges_final.p','rb'))\n",
        "len(missing_edges)"
      ],
      "execution_count": 0,
      "outputs": [
        {
          "output_type": "execute_result",
          "data": {
            "text/plain": [
              "9437519"
            ]
          },
          "metadata": {
            "tags": []
          },
          "execution_count": 36
        }
      ]
    },
    {
      "cell_type": "markdown",
      "metadata": {
        "id": "lfqqs_nw8r2M",
        "colab_type": "text"
      },
      "source": [
        "## 2.2 Training and Test data split:  \n",
        "Removed edges from Graph and used as test data and after removing used that graph for creating features for Train and test data"
      ]
    },
    {
      "cell_type": "code",
      "metadata": {
        "id": "MUSwpXlg8r2N",
        "colab_type": "code",
        "outputId": "4cddec06-3be6-4316-e938-fcd77a1cd105",
        "colab": {
          "base_uri": "https://localhost:8080/",
          "height": 153
        }
      },
      "source": [
        "from sklearn.model_selection import train_test_split\n",
        "#if (not os.path.isfile('/content/drive/My Drive/Colab Notebooks/train_pos_after_eda.csv')) and (not os.path.isfile('/content/drive/My Drive/Colab Notebooks/test_pos_after_eda.csv')):\n",
        "    #reading total data df\n",
        "df_pos = pd.read_csv('/content/drive/My Drive/Colab Notebooks/train.csv')\n",
        "df_neg = pd.DataFrame(list(missing_edges), columns=['source_node', 'destination_node'])\n",
        "    \n",
        "print(\"Number of nodes in the graph with edges\", df_pos.shape[0])\n",
        "print(\"Number of nodes in the graph without edges\", df_neg.shape[0])\n",
        "    \n",
        "    #Trian test split \n",
        "    #Spiltted data into 80-20 \n",
        "    #positive links and negative links seperatly because we need positive training data only for creating graph \n",
        "    #and for feature generation\n",
        "X_train_pos, X_test_pos, y_train_pos, y_test_pos  = train_test_split(df_pos,np.ones(len(df_pos)),test_size=0.2, random_state=9)\n",
        "X_train_neg, X_test_neg, y_train_neg, y_test_neg  = train_test_split(df_neg,np.zeros(len(df_neg)),test_size=0.2, random_state=9)\n",
        "    \n",
        "print('='*60)\n",
        "print(\"Number of nodes in the train data graph with edges\", X_train_pos.shape[0],\"=\",y_train_pos.shape[0])\n",
        "print(\"Number of nodes in the train data graph without edges\", X_train_neg.shape[0],\"=\", y_train_neg.shape[0])\n",
        "print('='*60)\n",
        "print(\"Number of nodes in the test data graph with edges\", X_test_pos.shape[0],\"=\",y_test_pos.shape[0])\n",
        "print(\"Number of nodes in the test data graph without edges\", X_test_neg.shape[0],\"=\",y_test_neg.shape[0])\n",
        "\n",
        "    #removing header and saving\n",
        "X_train_pos.to_csv('/content/drive/My Drive/Colab Notebooks/train_pos_after_eda.csv',header=False, index=False)\n",
        "X_test_pos.to_csv('/content/drive/My Drive/Colab Notebooks/test_pos_after_eda.csv',header=False, index=False)\n",
        "X_train_neg.to_csv('/content/drive/My Drive/Colab Notebooks/train_neg_after_eda.csv',header=False, index=False)\n",
        "\n",
        "X_test_neg.to_csv('/content/drive/My Drive/Colab Notebooks/test_neg_after_eda.csv',header=False, index=False)"
      ],
      "execution_count": 0,
      "outputs": [
        {
          "output_type": "stream",
          "text": [
            "Number of nodes in the graph with edges 9437519\n",
            "Number of nodes in the graph without edges 9437519\n",
            "============================================================\n",
            "Number of nodes in the train data graph with edges 7550015 = 7550015\n",
            "Number of nodes in the train data graph without edges 7550015 = 7550015\n",
            "============================================================\n",
            "Number of nodes in the test data graph with edges 1887504 = 1887504\n",
            "Number of nodes in the test data graph without edges 1887504 = 1887504\n"
          ],
          "name": "stdout"
        }
      ]
    },
    {
      "cell_type": "code",
      "metadata": {
        "id": "ZSbUpFU68r2V",
        "colab_type": "code",
        "outputId": "f7d81f39-5b74-424a-8684-2f0ef186abac",
        "colab": {
          "base_uri": "https://localhost:8080/",
          "height": 289
        }
      },
      "source": [
        "if (os.path.isfile('/content/drive/My Drive/Colab Notebooks/train_pos_after_eda.csv')) and (os.path.isfile('/content/drive/My Drive/Colab Notebooks/test_pos_after_eda.csv')):        \n",
        "    train_graph=nx.read_edgelist('/content/drive/My Drive/Colab Notebooks/train_pos_after_eda.csv',delimiter=',',create_using=nx.DiGraph(),nodetype=int)\n",
        "    test_graph=nx.read_edgelist('/content/drive/My Drive/Colab Notebooks/test_pos_after_eda.csv',delimiter=',',create_using=nx.DiGraph(),nodetype=int)\n",
        "    print(nx.info(train_graph))\n",
        "    print(nx.info(test_graph))\n",
        "\n",
        "    # finding the unique nodes in the both train and test graphs\n",
        "    train_nodes_pos = set(train_graph.nodes())\n",
        "    test_nodes_pos = set(test_graph.nodes())\n",
        "\n",
        "    trY_teY = len(train_nodes_pos.intersection(test_nodes_pos))\n",
        "    trY_teN = len(train_nodes_pos - test_nodes_pos)\n",
        "    teY_trN = len(test_nodes_pos - train_nodes_pos)\n",
        "\n",
        "    print('no of people common in train and test -- ',trY_teY)\n",
        "    print('no of people present in train but not present in test -- ',trY_teN)\n",
        "\n",
        "    print('no of people present in test but not present in train -- ',teY_trN)\n",
        "    print(' % of people not there in Train but exist in Test in total Test data are {} %'.format(teY_trN/len(test_nodes_pos)*100))"
      ],
      "execution_count": 0,
      "outputs": [
        {
          "output_type": "stream",
          "text": [
            "Name: \n",
            "Type: DiGraph\n",
            "Number of nodes: 1780722\n",
            "Number of edges: 7550015\n",
            "Average in degree:   4.2399\n",
            "Average out degree:   4.2399\n",
            "Name: \n",
            "Type: DiGraph\n",
            "Number of nodes: 1144623\n",
            "Number of edges: 1887504\n",
            "Average in degree:   1.6490\n",
            "Average out degree:   1.6490\n",
            "no of people common in train and test --  1063125\n",
            "no of people present in train but not present in test --  717597\n",
            "no of people present in test but not present in train --  81498\n",
            " % of people not there in Train but exist in Test in total Test data are 7.1200735962845405 %\n"
          ],
          "name": "stdout"
        }
      ]
    },
    {
      "cell_type": "code",
      "metadata": {
        "id": "e7qzqSMd8r2Z",
        "colab_type": "code",
        "outputId": "f468404c-8054-4b4e-e5ae-471cd0243324",
        "colab": {
          "base_uri": "https://localhost:8080/",
          "height": 119
        }
      },
      "source": [
        "#final train and te\n",
        "    \n",
        "    \n",
        "X_train_pos = pd.read_csv('/content/drive/My Drive/Colab Notebooks/train_pos_after_eda.csv', names=['source_node', 'destination_node'])\n",
        "X_test_pos = pd.read_csv('/content/drive/My Drive/Colab Notebooks/test_pos_after_eda.csv', names=['source_node', 'destination_node'])\n",
        "X_train_neg = pd.read_csv('/content/drive/My Drive/Colab Notebooks/train_neg_after_eda.csv', names=['source_node', 'destination_node'])\n",
        "X_test_neg = pd.read_csv('/content/drive/My Drive/Colab Notebooks/test_neg_after_eda.csv', names=['source_node', 'destination_node'])\n",
        "\n",
        "print('='*60)\n",
        "print(\"Number of nodes in the train data graph with edges\", X_train_pos.shape[0])\n",
        "print(\"Number of nodes in the train data graph without edges\", X_train_neg.shape[0])\n",
        "print('='*60)\n",
        "print(\"Number of nodes in the test data graph with edges\", X_test_pos.shape[0])\n",
        "print(\"Number of nodes in the test data graph without edges\", X_test_neg.shape[0])\n",
        "\n",
        "X_train = X_train_pos.append(X_train_neg,ignore_index=True)\n",
        "y_train = np.concatenate((y_train_pos,y_train_neg))\n",
        "X_test = X_test_pos.append(X_test_neg,ignore_index=True)\n",
        "y_test = np.concatenate((y_test_pos,y_test_neg)) \n",
        "    \n",
        "X_train.to_csv('/content/drive/My Drive/Colab Notebooks/train_after_eda.csv',header=False,index=False)\n",
        "X_test.to_csv('/content/drive/My Drive/Colab Notebooks/test_after_eda.csv',header=False,index=False)\n",
        "pd.DataFrame(y_train.astype(int)).to_csv('/content/drive/My Drive/Colab Notebooks/train_y.csv',header=False,index=False)\n",
        "pd.DataFrame(y_test.astype(int)).to_csv('/content/drive/My Drive/Colab Notebooks/test_y.csv',header=False,index=False)"
      ],
      "execution_count": 0,
      "outputs": [
        {
          "output_type": "stream",
          "text": [
            "============================================================\n",
            "Number of nodes in the train data graph with edges 7550015\n",
            "Number of nodes in the train data graph without edges 7550015\n",
            "============================================================\n",
            "Number of nodes in the test data graph with edges 1887504\n",
            "Number of nodes in the test data graph without edges 1887504\n"
          ],
          "name": "stdout"
        }
      ]
    },
    {
      "cell_type": "code",
      "metadata": {
        "id": "hLc9x_4kNMb8",
        "colab_type": "code",
        "colab": {}
      },
      "source": [
        ""
      ],
      "execution_count": 0,
      "outputs": []
    },
    {
      "cell_type": "code",
      "metadata": {
        "id": "iCFNxiCD8r2c",
        "colab_type": "code",
        "outputId": "822e9306-21e7-4456-fa57-f459052027ad",
        "colab": {
          "base_uri": "https://localhost:8080/",
          "height": 85
        }
      },
      "source": [
        "\n",
        "\n",
        " \n",
        "    \n",
        "print(\"Data points in train data\",X_train.shape)\n",
        "print(\"Data points in test data\",X_test.shape)\n",
        "print(\"Shape of traget variable in train\",y_train.shape)\n",
        "print(\"Shape of traget variable in test\", y_test.shape)"
      ],
      "execution_count": 0,
      "outputs": [
        {
          "output_type": "stream",
          "text": [
            "Data points in train data (15100030, 2)\n",
            "Data points in test data (3775008, 2)\n",
            "Shape of traget variable in train (15100030,)\n",
            "Shape of traget variable in test (3775008,)\n"
          ],
          "name": "stdout"
        }
      ]
    },
    {
      "cell_type": "code",
      "metadata": {
        "id": "iRdBuTKP8r2h",
        "colab_type": "code",
        "colab": {}
      },
      "source": [
        " #Importing Libraries\n",
        "# please do go through this python notebook: \n",
        "import warnings\n",
        "warnings.filterwarnings(\"ignore\")\n",
        "\n",
        "import csv\n",
        "import pandas as pd#pandas to create small dataframes \n",
        "import datetime #Convert to unix time\n",
        "import time #Convert to unix time\n",
        "# if numpy is not installed already : pip3 install numpy\n",
        "import numpy as np#Do aritmetic operations on arrays\n",
        "# matplotlib: used to plot graphs\n",
        "import matplotlib\n",
        "import matplotlib.pylab as plt\n",
        "import seaborn as sns#Plots\n",
        "from matplotlib import rcParams#Size of plots  \n",
        "from sklearn.cluster import MiniBatchKMeans, KMeans#Clustering\n",
        "import math\n",
        "import pickle\n",
        "import os\n",
        "# to install xgboost: pip3 install xgboost\n",
        "import xgboost as xgb\n",
        "\n",
        "import warnings\n",
        "import networkx as nx\n",
        "import pdb\n",
        "import pickle\n",
        "from pandas import HDFStore,DataFrame\n",
        "from pandas import read_hdf\n",
        "from scipy.sparse.linalg import svds, eigs\n",
        "import gc\n",
        "from tqdm import tqdm"
      ],
      "execution_count": 0,
      "outputs": []
    },
    {
      "cell_type": "markdown",
      "metadata": {
        "id": "4jTXa_6H8r2m",
        "colab_type": "text"
      },
      "source": [
        "# 1. Reading Data"
      ]
    },
    {
      "cell_type": "code",
      "metadata": {
        "id": "GtGbZhtK8r2m",
        "colab_type": "code",
        "outputId": "cded0e62-4ca6-4fb8-e5a9-3ad3642060f9",
        "colab": {
          "base_uri": "https://localhost:8080/",
          "height": 119
        }
      },
      "source": [
        "train_graph=nx.read_edgelist('/content/drive/My Drive/Colab Notebooks/train_pos_after_eda.csv',delimiter=',',create_using=nx.DiGraph(),nodetype=int)\n",
        "print(nx.info(train_graph))"
      ],
      "execution_count": 0,
      "outputs": [
        {
          "output_type": "stream",
          "text": [
            "Name: \n",
            "Type: DiGraph\n",
            "Number of nodes: 1780722\n",
            "Number of edges: 7550015\n",
            "Average in degree:   4.2399\n",
            "Average out degree:   4.2399\n"
          ],
          "name": "stdout"
        }
      ]
    },
    {
      "cell_type": "markdown",
      "metadata": {
        "id": "v3GiRNyZ8r2p",
        "colab_type": "text"
      },
      "source": [
        " # 2. Similarity measures"
      ]
    },
    {
      "cell_type": "markdown",
      "metadata": {
        "id": "jRV9l14r8r2q",
        "colab_type": "text"
      },
      "source": [
        "## 2.1 Jaccard Distance:\n",
        "http://www.statisticshowto.com/jaccard-index/"
      ]
    },
    {
      "cell_type": "markdown",
      "metadata": {
        "id": "GaJKn6f98r2q",
        "colab_type": "text"
      },
      "source": [
        "\\begin{equation}\n",
        "j = \\frac{|X\\cap Y|}{|X \\cup Y|} \n",
        "\\end{equation}"
      ]
    },
    {
      "cell_type": "code",
      "metadata": {
        "id": "Kp0BlBWH8r2s",
        "colab_type": "code",
        "colab": {}
      },
      "source": [
        "#for followees\n",
        "def jaccard_for_followees(a,b):\n",
        "    try:\n",
        "        if len(set(train_graph.successors(a))) == 0  | len(set(train_graph.successors(b))) == 0:\n",
        "            return 0\n",
        "        sim = (len(set(train_graph.successors(a)).intersection(set(train_graph.successors(b)))))/\\\n",
        "                                    (len(set(train_graph.successors(a)).union(set(train_graph.successors(b)))))\n",
        "    except:\n",
        "        return 0\n",
        "    return sim"
      ],
      "execution_count": 0,
      "outputs": []
    },
    {
      "cell_type": "code",
      "metadata": {
        "id": "if297rYf8r2w",
        "colab_type": "code",
        "outputId": "cd8f738c-6ed5-4569-b0e6-aeefbae6c8be",
        "colab": {
          "base_uri": "https://localhost:8080/",
          "height": 34
        }
      },
      "source": [
        "#one test case\n",
        "print(jaccard_for_followees(273084,1505602))"
      ],
      "execution_count": 0,
      "outputs": [
        {
          "output_type": "stream",
          "text": [
            "0.0\n"
          ],
          "name": "stdout"
        }
      ]
    },
    {
      "cell_type": "code",
      "metadata": {
        "id": "UraBDXN-8r20",
        "colab_type": "code",
        "outputId": "840c242c-a748-4694-887b-774e1186031e",
        "colab": {
          "base_uri": "https://localhost:8080/",
          "height": 34
        }
      },
      "source": [
        "#node 1635354 not in graph \n",
        "print(jaccard_for_followees(273084,1505602))"
      ],
      "execution_count": 0,
      "outputs": [
        {
          "output_type": "stream",
          "text": [
            "0.0\n"
          ],
          "name": "stdout"
        }
      ]
    },
    {
      "cell_type": "code",
      "metadata": {
        "id": "FK641NR-8r23",
        "colab_type": "code",
        "colab": {}
      },
      "source": [
        "#for followers\n",
        "def jaccard_for_followers(a,b):\n",
        "    try:\n",
        "        if len(set(train_graph.predecessors(a))) == 0  | len(set(g.predecessors(b))) == 0:\n",
        "            return 0\n",
        "        sim = (len(set(train_graph.predecessors(a)).intersection(set(train_graph.predecessors(b)))))/\\\n",
        "                                 (len(set(train_graph.predecessors(a)).union(set(train_graph.predecessors(b)))))\n",
        "        return sim\n",
        "    except:\n",
        "        return 0"
      ],
      "execution_count": 0,
      "outputs": []
    },
    {
      "cell_type": "code",
      "metadata": {
        "id": "FEypVQit8r25",
        "colab_type": "code",
        "outputId": "f684366f-b539-4e92-b988-caa2b83f5773",
        "colab": {
          "base_uri": "https://localhost:8080/",
          "height": 34
        }
      },
      "source": [
        "print(jaccard_for_followers(273084,470294))"
      ],
      "execution_count": 0,
      "outputs": [
        {
          "output_type": "stream",
          "text": [
            "0.0\n"
          ],
          "name": "stdout"
        }
      ]
    },
    {
      "cell_type": "code",
      "metadata": {
        "id": "A0R2DU-x8r28",
        "colab_type": "code",
        "outputId": "147228e2-c137-4275-8b8e-beee2f4955d7",
        "colab": {
          "base_uri": "https://localhost:8080/",
          "height": 34
        }
      },
      "source": [
        "#node 1635354 not in graph \n",
        "print(jaccard_for_followees(669354,1635354))"
      ],
      "execution_count": 0,
      "outputs": [
        {
          "output_type": "stream",
          "text": [
            "0\n"
          ],
          "name": "stdout"
        }
      ]
    },
    {
      "cell_type": "markdown",
      "metadata": {
        "id": "f2DY1tES8r3A",
        "colab_type": "text"
      },
      "source": [
        "## 2.2 Cosine distance"
      ]
    },
    {
      "cell_type": "markdown",
      "metadata": {
        "id": "A7cDSYag8r3B",
        "colab_type": "text"
      },
      "source": [
        "\\begin{equation}\n",
        "CosineDistance = \\frac{|X\\cap Y|}{|X|\\cdot|Y|} \n",
        "\\end{equation}"
      ]
    },
    {
      "cell_type": "code",
      "metadata": {
        "id": "3rENkGRy8r3C",
        "colab_type": "code",
        "colab": {}
      },
      "source": [
        "#for followees\n",
        "def cosine_for_followees(a,b):\n",
        "    try:\n",
        "        if len(set(train_graph.successors(a))) == 0  | len(set(train_graph.successors(b))) == 0:\n",
        "            return 0\n",
        "        sim = (len(set(train_graph.successors(a)).intersection(set(train_graph.successors(b)))))/\\\n",
        "                                    (math.sqrt(len(set(train_graph.successors(a)))*len((set(train_graph.successors(b))))))\n",
        "        return sim\n",
        "    except:\n",
        "        return 0"
      ],
      "execution_count": 0,
      "outputs": []
    },
    {
      "cell_type": "code",
      "metadata": {
        "id": "OfHsdCbY8r3G",
        "colab_type": "code",
        "outputId": "816e8cdd-44ff-4657-cd80-9066b22c83d0",
        "colab": {
          "base_uri": "https://localhost:8080/",
          "height": 34
        }
      },
      "source": [
        "print(cosine_for_followees(273084,1505602))"
      ],
      "execution_count": 0,
      "outputs": [
        {
          "output_type": "stream",
          "text": [
            "0.0\n"
          ],
          "name": "stdout"
        }
      ]
    },
    {
      "cell_type": "code",
      "metadata": {
        "id": "ImmBdm2y8r3K",
        "colab_type": "code",
        "outputId": "7edf8574-04dc-4464-a8aa-641c86be2830",
        "colab": {
          "base_uri": "https://localhost:8080/",
          "height": 34
        }
      },
      "source": [
        "print(cosine_for_followees(273084,1635354))"
      ],
      "execution_count": 0,
      "outputs": [
        {
          "output_type": "stream",
          "text": [
            "0\n"
          ],
          "name": "stdout"
        }
      ]
    },
    {
      "cell_type": "code",
      "metadata": {
        "id": "TpOKCHPm8r3M",
        "colab_type": "code",
        "colab": {}
      },
      "source": [
        "def cosine_for_followers(a,b):\n",
        "    try:\n",
        "        \n",
        "        if len(set(train_graph.predecessors(a))) == 0  | len(set(train_graph.predecessors(b))) == 0:\n",
        "            return 0\n",
        "        sim = (len(set(train_graph.predecessors(a)).intersection(set(train_graph.predecessors(b)))))/\\\n",
        "                                     (math.sqrt(len(set(train_graph.predecessors(a))))*(len(set(train_graph.predecessors(b)))))\n",
        "        return sim\n",
        "    except:\n",
        "        return 0"
      ],
      "execution_count": 0,
      "outputs": []
    },
    {
      "cell_type": "code",
      "metadata": {
        "id": "tK4KnuFY8r3P",
        "colab_type": "code",
        "outputId": "01bd6790-bcb0-40b6-b549-24d6f8f8e3d0",
        "colab": {
          "base_uri": "https://localhost:8080/",
          "height": 34
        }
      },
      "source": [
        "print(cosine_for_followers(2,470294))"
      ],
      "execution_count": 0,
      "outputs": [
        {
          "output_type": "stream",
          "text": [
            "0.02886751345948129\n"
          ],
          "name": "stdout"
        }
      ]
    },
    {
      "cell_type": "code",
      "metadata": {
        "id": "dS-DgI0R8r3S",
        "colab_type": "code",
        "outputId": "fa8ce497-5a0b-4051-99dc-a60cf8537c37",
        "colab": {
          "base_uri": "https://localhost:8080/",
          "height": 34
        }
      },
      "source": [
        "print(cosine_for_followers(669354,1635354))"
      ],
      "execution_count": 0,
      "outputs": [
        {
          "output_type": "stream",
          "text": [
            "0\n"
          ],
          "name": "stdout"
        }
      ]
    },
    {
      "cell_type": "markdown",
      "metadata": {
        "id": "706eItmb8r3W",
        "colab_type": "text"
      },
      "source": [
        "## 3. Ranking Measures"
      ]
    },
    {
      "cell_type": "markdown",
      "metadata": {
        "id": "ZmTw88jp8r3X",
        "colab_type": "text"
      },
      "source": [
        "https://networkx.github.io/documentation/networkx-1.10/reference/generated/networkx.algorithms.link_analysis.pagerank_alg.pagerank.html\n",
        "\n",
        "PageRank computes a ranking of the nodes in the graph G based on the structure of the incoming links.\n",
        "\n",
        "<img src='PageRanks-Example.jpg'/>\n",
        "\n",
        "Mathematical PageRanks for a simple network, expressed as percentages. (Google uses a logarithmic scale.) Page C has a higher PageRank than Page E, even though there are fewer links to C; the one link to C comes from an important page and hence is of high value. If web surfers who start on a random page have an 85% likelihood of choosing a random link from the page they are currently visiting, and a 15% likelihood of jumping to a page chosen at random from the entire web, they will reach Page E 8.1% of the time. <b>(The 15% likelihood of jumping to an arbitrary page corresponds to a damping factor of 85%.) Without damping, all web surfers would eventually end up on Pages A, B, or C, and all other pages would have PageRank zero. In the presence of damping, Page A effectively links to all pages in the web, even though it has no outgoing links of its own.</b>"
      ]
    },
    {
      "cell_type": "markdown",
      "metadata": {
        "id": "w59zPT728r3Y",
        "colab_type": "text"
      },
      "source": [
        "## 3.1 Page Ranking\n",
        "\n",
        "https://en.wikipedia.org/wiki/PageRank\n"
      ]
    },
    {
      "cell_type": "code",
      "metadata": {
        "id": "6ChIqgVC8r3Y",
        "colab_type": "code",
        "colab": {}
      },
      "source": [
        "if not os.path.isfile('/content/drive/My Drive/Colab Notebooks/page_rank.p'):\n",
        "    pr = nx.pagerank(train_graph, alpha=0.85)\n",
        "    pickle.dump(pr,open('/content/drive/My Drive/Colab Notebooks/page_rank.p','wb'))\n",
        "else:\n",
        "    pr = pickle.load(open('/content/drive/My Drive/Colab Notebooks/page_rank.p','rb'))"
      ],
      "execution_count": 0,
      "outputs": []
    },
    {
      "cell_type": "code",
      "metadata": {
        "id": "5CS-e3LP8r3c",
        "colab_type": "code",
        "outputId": "aa736be6-2ea7-4960-920c-b0a9e9d332be",
        "colab": {
          "base_uri": "https://localhost:8080/",
          "height": 68
        }
      },
      "source": [
        "print('min',pr[min(pr, key=pr.get)])\n",
        "print('max',pr[max(pr, key=pr.get)])\n",
        "print('mean',float(sum(pr.values())) / len(pr))"
      ],
      "execution_count": 0,
      "outputs": [
        {
          "output_type": "stream",
          "text": [
            "min 1.6556497245737814e-07\n",
            "max 2.7098251341935827e-05\n",
            "mean 5.615699699389075e-07\n"
          ],
          "name": "stdout"
        }
      ]
    },
    {
      "cell_type": "code",
      "metadata": {
        "id": "67g0ehsd8r3i",
        "colab_type": "code",
        "outputId": "8fc6a26d-9824-4502-e827-b3103242fdc3",
        "colab": {
          "base_uri": "https://localhost:8080/",
          "height": 34
        }
      },
      "source": [
        "#for imputing to nodes which are not there in Train data\n",
        "mean_pr = float(sum(pr.values())) / len(pr)\n",
        "print(mean_pr)"
      ],
      "execution_count": 0,
      "outputs": [
        {
          "output_type": "stream",
          "text": [
            "5.615699699389075e-07\n"
          ],
          "name": "stdout"
        }
      ]
    },
    {
      "cell_type": "markdown",
      "metadata": {
        "id": "yvssQY9q8r3m",
        "colab_type": "text"
      },
      "source": [
        "# 4. Other Graph Features"
      ]
    },
    {
      "cell_type": "markdown",
      "metadata": {
        "id": "Gag2qMDe8r3n",
        "colab_type": "text"
      },
      "source": [
        "## 4.1 Shortest path:"
      ]
    },
    {
      "cell_type": "markdown",
      "metadata": {
        "id": "l8KuWGUj8r3o",
        "colab_type": "text"
      },
      "source": [
        "Getting Shortest path between twoo nodes, if nodes have direct path i.e directly connected then we are removing that edge and calculating path. "
      ]
    },
    {
      "cell_type": "code",
      "metadata": {
        "id": "e9C-LocF8r3o",
        "colab_type": "code",
        "colab": {}
      },
      "source": [
        "#if has direct edge then deleting that edge and calculating shortest path\n",
        "def compute_shortest_path_length(a,b):\n",
        "    p=-1\n",
        "    try:\n",
        "        if train_graph.has_edge(a,b):\n",
        "            train_graph.remove_edge(a,b)\n",
        "            p= nx.shortest_path_length(train_graph,source=a,target=b)\n",
        "            train_graph.add_edge(a,b)\n",
        "        else:\n",
        "            p= nx.shortest_path_length(train_graph,source=a,target=b)\n",
        "        return p\n",
        "    except:\n",
        "        return -1"
      ],
      "execution_count": 0,
      "outputs": []
    },
    {
      "cell_type": "code",
      "metadata": {
        "id": "VsmxavhC8r3s",
        "colab_type": "code",
        "outputId": "8a3f0d48-9234-4431-f911-dd741c2c727b",
        "colab": {
          "base_uri": "https://localhost:8080/",
          "height": 34
        }
      },
      "source": [
        "#testing\n",
        "compute_shortest_path_length(77697, 826021)"
      ],
      "execution_count": 0,
      "outputs": [
        {
          "output_type": "execute_result",
          "data": {
            "text/plain": [
              "10"
            ]
          },
          "metadata": {
            "tags": []
          },
          "execution_count": 59
        }
      ]
    },
    {
      "cell_type": "code",
      "metadata": {
        "id": "h3NdkPaD8r3u",
        "colab_type": "code",
        "outputId": "2f820cf9-dba6-4004-e46b-ea85c839cb93",
        "colab": {
          "base_uri": "https://localhost:8080/",
          "height": 34
        }
      },
      "source": [
        "#testing\n",
        "compute_shortest_path_length(669354,1635354)"
      ],
      "execution_count": 0,
      "outputs": [
        {
          "output_type": "execute_result",
          "data": {
            "text/plain": [
              "-1"
            ]
          },
          "metadata": {
            "tags": []
          },
          "execution_count": 60
        }
      ]
    },
    {
      "cell_type": "markdown",
      "metadata": {
        "id": "Ffw6moJp8r34",
        "colab_type": "text"
      },
      "source": [
        "## 4.2 Checking for same community"
      ]
    },
    {
      "cell_type": "code",
      "metadata": {
        "id": "Pdf5F_wx8r36",
        "colab_type": "code",
        "colab": {}
      },
      "source": [
        "#getting weekly connected edges from graph \n",
        "wcc=list(nx.weakly_connected_components(train_graph))\n",
        "def belongs_to_same_wcc(a,b):\n",
        "    index = []\n",
        "    if train_graph.has_edge(b,a):\n",
        "        return 1\n",
        "    if train_graph.has_edge(a,b):\n",
        "            for i in wcc:\n",
        "                if a in i:\n",
        "                    index= i\n",
        "                    break\n",
        "            if (b in index):\n",
        "                train_graph.remove_edge(a,b)\n",
        "                if compute_shortest_path_length(a,b)==-1:\n",
        "                    train_graph.add_edge(a,b)\n",
        "                    return 0\n",
        "                else:\n",
        "                    train_graph.add_edge(a,b)\n",
        "                    return 1\n",
        "            else:\n",
        "                return 0\n",
        "    else:\n",
        "            for i in wcc:\n",
        "                if a in i:\n",
        "                    index= i\n",
        "                    break\n",
        "            if(b in index):\n",
        "                return 1\n",
        "            else:\n",
        "                return 0"
      ],
      "execution_count": 0,
      "outputs": []
    },
    {
      "cell_type": "code",
      "metadata": {
        "id": "CcpGjfaW8r39",
        "colab_type": "code",
        "outputId": "0faa0bd9-5f17-40a7-eb3b-2c939740d6fe",
        "colab": {
          "base_uri": "https://localhost:8080/",
          "height": 34
        }
      },
      "source": [
        "belongs_to_same_wcc(861, 1659750)"
      ],
      "execution_count": 0,
      "outputs": [
        {
          "output_type": "execute_result",
          "data": {
            "text/plain": [
              "0"
            ]
          },
          "metadata": {
            "tags": []
          },
          "execution_count": 62
        }
      ]
    },
    {
      "cell_type": "code",
      "metadata": {
        "id": "9f7Wk0FU8r4B",
        "colab_type": "code",
        "outputId": "14c20ab4-f29c-4ea4-9eaf-1f50cee61b55",
        "colab": {
          "base_uri": "https://localhost:8080/",
          "height": 34
        }
      },
      "source": [
        "belongs_to_same_wcc(669354,1635354)"
      ],
      "execution_count": 0,
      "outputs": [
        {
          "output_type": "execute_result",
          "data": {
            "text/plain": [
              "0"
            ]
          },
          "metadata": {
            "tags": []
          },
          "execution_count": 63
        }
      ]
    },
    {
      "cell_type": "markdown",
      "metadata": {
        "id": "PGE1mXs-8r4E",
        "colab_type": "text"
      },
      "source": [
        "## 4.3 Adamic/Adar Index:\n",
        "Adamic/Adar measures is defined as inverted sum of degrees of common neighbours for given two vertices.\n",
        "$$A(x,y)=\\sum_{u \\in N(x) \\cap N(y)}\\frac{1}{log(|N(u)|)}$$"
      ]
    },
    {
      "cell_type": "code",
      "metadata": {
        "id": "HR2zk94t8r4F",
        "colab_type": "code",
        "colab": {}
      },
      "source": [
        "#adar index\n",
        "def calc_adar_in(a,b):\n",
        "    sum=0\n",
        "    try:\n",
        "        n=list(set(train_graph.successors(a)).intersection(set(train_graph.successors(b))))\n",
        "        if len(n)!=0:\n",
        "            for i in n:\n",
        "                sum=sum+(1/np.log10(len(list(train_graph.predecessors(i)))))\n",
        "            return sum\n",
        "        else:\n",
        "            return 0\n",
        "    except:\n",
        "        return 0"
      ],
      "execution_count": 0,
      "outputs": []
    },
    {
      "cell_type": "code",
      "metadata": {
        "id": "bmL9fAzD8r4H",
        "colab_type": "code",
        "outputId": "cd893cb4-8924-40bb-94d0-67c98fff60be",
        "colab": {
          "base_uri": "https://localhost:8080/",
          "height": 34
        }
      },
      "source": [
        "calc_adar_in(1,189226)"
      ],
      "execution_count": 0,
      "outputs": [
        {
          "output_type": "execute_result",
          "data": {
            "text/plain": [
              "0"
            ]
          },
          "metadata": {
            "tags": []
          },
          "execution_count": 65
        }
      ]
    },
    {
      "cell_type": "code",
      "metadata": {
        "id": "zUi2djmE8r4L",
        "colab_type": "code",
        "outputId": "00e40ec3-02ef-40fc-bb9f-450be5a72278",
        "colab": {
          "base_uri": "https://localhost:8080/",
          "height": 34
        }
      },
      "source": [
        "calc_adar_in(669354,1635354)"
      ],
      "execution_count": 0,
      "outputs": [
        {
          "output_type": "execute_result",
          "data": {
            "text/plain": [
              "0"
            ]
          },
          "metadata": {
            "tags": []
          },
          "execution_count": 66
        }
      ]
    },
    {
      "cell_type": "markdown",
      "metadata": {
        "id": "TC-R1eeL8r4M",
        "colab_type": "text"
      },
      "source": [
        "## 4.4 Is persion was following back:"
      ]
    },
    {
      "cell_type": "code",
      "metadata": {
        "id": "BKt1kOIH8r4N",
        "colab_type": "code",
        "colab": {}
      },
      "source": [
        "def follows_back(a,b):\n",
        "    if train_graph.has_edge(b,a):\n",
        "        return 1\n",
        "    else:\n",
        "        return 0"
      ],
      "execution_count": 0,
      "outputs": []
    },
    {
      "cell_type": "code",
      "metadata": {
        "id": "FZ8QJA2u8r4O",
        "colab_type": "code",
        "outputId": "0f523056-8160-4905-f578-5959e29ec973",
        "colab": {
          "base_uri": "https://localhost:8080/",
          "height": 34
        }
      },
      "source": [
        "follows_back(1,189226)"
      ],
      "execution_count": 0,
      "outputs": [
        {
          "output_type": "execute_result",
          "data": {
            "text/plain": [
              "1"
            ]
          },
          "metadata": {
            "tags": []
          },
          "execution_count": 68
        }
      ]
    },
    {
      "cell_type": "code",
      "metadata": {
        "id": "dcG82j768r4R",
        "colab_type": "code",
        "outputId": "03490a1a-9c95-4a3f-ec7d-f4e0e24b568c",
        "colab": {
          "base_uri": "https://localhost:8080/",
          "height": 34
        }
      },
      "source": [
        "follows_back(669354,1635354)"
      ],
      "execution_count": 0,
      "outputs": [
        {
          "output_type": "execute_result",
          "data": {
            "text/plain": [
              "0"
            ]
          },
          "metadata": {
            "tags": []
          },
          "execution_count": 69
        }
      ]
    },
    {
      "cell_type": "markdown",
      "metadata": {
        "id": "qkYHFPJc8r4S",
        "colab_type": "text"
      },
      "source": [
        "## 4.5 Katz Centrality:\n",
        "https://en.wikipedia.org/wiki/Katz_centrality\n",
        "\n",
        "https://www.geeksforgeeks.org/katz-centrality-centrality-measure/\n",
        " Katz centrality computes the centrality for a node \n",
        "    based on the centrality of its neighbors. It is a \n",
        "    generalization of the eigenvector centrality. The\n",
        "    Katz centrality for node `i` is\n",
        " \n",
        "$$x_i = \\alpha \\sum_{j} A_{ij} x_j + \\beta,$$\n",
        "where `A` is the adjacency matrix of the graph G \n",
        "with eigenvalues $$\\lambda$$.\n",
        "\n",
        "The parameter $$\\beta$$ controls the initial centrality and \n",
        "\n",
        "$$\\alpha < \\frac{1}{\\lambda_{max}}.$$"
      ]
    },
    {
      "cell_type": "code",
      "metadata": {
        "id": "DJWA1fKH8r4T",
        "colab_type": "code",
        "colab": {}
      },
      "source": [
        "if not os.path.isfile('/content/drive/My Drive/Colab Notebooks/katz.p'):\n",
        "    katz = nx.katz.katz_centrality(train_graph,alpha=0.005,beta=1)\n",
        "    pickle.dump(katz,open('/content/drive/My Drive/Colab Notebooks/katz.p','wb'))\n",
        "else:\n",
        "    katz = pickle.load(open('/content/drive/My Drive/Colab Notebooks/katz.p','rb'))"
      ],
      "execution_count": 0,
      "outputs": []
    },
    {
      "cell_type": "code",
      "metadata": {
        "id": "bCel8Qqe8r4U",
        "colab_type": "code",
        "outputId": "1f2ff295-54b0-4b7a-eb43-0b624e48393a",
        "colab": {
          "base_uri": "https://localhost:8080/",
          "height": 68
        }
      },
      "source": [
        "print('min',katz[min(katz, key=katz.get)])\n",
        "print('max',katz[max(katz, key=katz.get)])\n",
        "print('mean',float(sum(katz.values())) / len(katz))"
      ],
      "execution_count": 0,
      "outputs": [
        {
          "output_type": "stream",
          "text": [
            "min 0.0007313532484065916\n",
            "max 0.003394554981699122\n",
            "mean 0.0007483800935562018\n"
          ],
          "name": "stdout"
        }
      ]
    },
    {
      "cell_type": "code",
      "metadata": {
        "id": "yQFb1MUo8r4Y",
        "colab_type": "code",
        "outputId": "d9495203-adc4-4c9b-e18d-9c6fb13840d0",
        "colab": {
          "base_uri": "https://localhost:8080/",
          "height": 34
        }
      },
      "source": [
        "mean_katz = float(sum(katz.values())) / len(katz)\n",
        "print(mean_katz)"
      ],
      "execution_count": 0,
      "outputs": [
        {
          "output_type": "stream",
          "text": [
            "0.0007483800935562018\n"
          ],
          "name": "stdout"
        }
      ]
    },
    {
      "cell_type": "markdown",
      "metadata": {
        "id": "oEgCmlLt8r4a",
        "colab_type": "text"
      },
      "source": [
        "## 4.6 Hits Score\n",
        "The HITS algorithm computes two numbers for a node. Authorities estimates the node value based on the incoming links. Hubs estimates the node value based on outgoing links.\n",
        "\n",
        "https://en.wikipedia.org/wiki/HITS_algorithm"
      ]
    },
    {
      "cell_type": "code",
      "metadata": {
        "id": "rBG3CoJg8r4b",
        "colab_type": "code",
        "colab": {}
      },
      "source": [
        "if not os.path.isfile('/content/drive/My Drive/Colab Notebooks/hits.p'):\n",
        "    hits = nx.hits(train_graph, max_iter=100, tol=1e-08, nstart=None, normalized=True)\n",
        "    pickle.dump(hits,open('/content/drive/My Drive/Colab Notebooks/hits.p','wb'))\n",
        "else:\n",
        "    hits = pickle.load(open('/content/drive/My Drive/Colab Notebooks/hits.p','rb'))"
      ],
      "execution_count": 0,
      "outputs": []
    },
    {
      "cell_type": "code",
      "metadata": {
        "id": "OxiX0W-q8r4e",
        "colab_type": "code",
        "outputId": "dfeee9b8-e545-49aa-9d64-601fcf8c0358",
        "colab": {
          "base_uri": "https://localhost:8080/",
          "height": 68
        }
      },
      "source": [
        " print('min',hits[0][min(hits[0], key=hits[0].get)])\n",
        "print('max',hits[0][max(hits[0], key=hits[0].get)])\n",
        "print('mean',float(sum(hits[0].values())) / len(hits[0]))"
      ],
      "execution_count": 0,
      "outputs": [
        {
          "output_type": "stream",
          "text": [
            "min 0.0\n",
            "max 0.004868653378780953\n",
            "mean 5.615699699344123e-07\n"
          ],
          "name": "stdout"
        }
      ]
    },
    {
      "cell_type": "markdown",
      "metadata": {
        "id": "GM2R3sIw8r4g",
        "colab_type": "text"
      },
      "source": [
        "# 5. Featurization"
      ]
    },
    {
      "cell_type": "code",
      "metadata": {
        "id": "bowpPgKI8r4g",
        "colab_type": "code",
        "colab": {}
      },
      "source": [
        "import random\n",
        "if os.path.isfile('/content/drive/My Drive/Colab Notebooks/train_after_eda.csv'):\n",
        "    filename = \"/content/drive/My Drive/Colab Notebooks/train_after_eda.csv\"\n",
        "    # you uncomment this line, if you dont know the lentgh of the file name\n",
        "    # here we have hardcoded the number of lines as 15100030\n",
        "    # n_train = sum(1 for line in open(filename)) #number of records in file (excludes header)\n",
        "    n_train =  15100028\n",
        "    s = 100000 #desired sample size\n",
        "    skip_train = sorted(random.sample(range(1,n_train+1),n_train-s))\n",
        "    #https://stackoverflow.com/a/22259008/4084039"
      ],
      "execution_count": 0,
      "outputs": []
    },
    {
      "cell_type": "code",
      "metadata": {
        "id": "mhtFCcE78r4k",
        "colab_type": "code",
        "colab": {}
      },
      "source": [
        "if os.path.isfile('/content/drive/My Drive/Colab Notebooks/test_after_eda.csv'):\n",
        "    filename = \"/content/drive/My Drive/Colab Notebooks/test_after_eda.csv\"\n",
        "    # you uncomment this line, if you dont know the lentgh of the file name\n",
        "    # here we have hardcoded the number of lines as 3775008\n",
        "    # n_test = sum(1 for line in open(filename)) #number of records in file (excludes header)\n",
        "    n_test = 3775006\n",
        "    s = 50000 #desired sample size\n",
        "    skip_test = sorted(random.sample(range(1,n_test+1),n_test-s))\n",
        "    #https://stackoverflow.com/a/22259008/4084039"
      ],
      "execution_count": 0,
      "outputs": []
    },
    {
      "cell_type": "code",
      "metadata": {
        "id": "09ctiFuC8r4m",
        "colab_type": "code",
        "outputId": "6806f0c0-c55a-48bb-db20-c0ac7eb13e22",
        "colab": {
          "base_uri": "https://localhost:8080/",
          "height": 85
        }
      },
      "source": [
        "print(\"Number of rows in the train data file:\", n_train)\n",
        "print(\"Number of rows we are going to elimiate in train data are\",len(skip_train))\n",
        "print(\"Number of rows in the test data file:\", n_test)\n",
        "print(\"Number of rows we are going to elimiate in test data are\",len(skip_test))"
      ],
      "execution_count": 0,
      "outputs": [
        {
          "output_type": "stream",
          "text": [
            "Number of rows in the train data file: 15100028\n",
            "Number of rows we are going to elimiate in train data are 15000028\n",
            "Number of rows in the test data file: 3775006\n",
            "Number of rows we are going to elimiate in test data are 3725006\n"
          ],
          "name": "stdout"
        }
      ]
    },
    {
      "cell_type": "code",
      "metadata": {
        "id": "Td4sAwgY8wtr",
        "colab_type": "code",
        "colab": {}
      },
      "source": [
        ""
      ],
      "execution_count": 0,
      "outputs": []
    },
    {
      "cell_type": "code",
      "metadata": {
        "id": "UA_gHdPW8FEO",
        "colab_type": "code",
        "colab": {}
      },
      "source": [
        "\n",
        "    \n",
        "    "
      ],
      "execution_count": 0,
      "outputs": []
    },
    {
      "cell_type": "code",
      "metadata": {
        "id": "oP3LE90M8r4p",
        "colab_type": "code",
        "outputId": "416bec1e-8e20-4e8f-925f-0feb39057b53",
        "colab": {
          "base_uri": "https://localhost:8080/",
          "height": 128
        }
      },
      "source": [
        "df_final_train = pd.read_csv('/content/drive/My Drive/Colab Notebooks/train_after_eda.csv', skiprows=skip_train, names=['source_node', 'destination_node'])\n",
        "df_final_train['indicator_link'] = pd.read_csv('/content/drive/My Drive/Colab Notebooks/train_y.csv', skiprows=skip_train, names=['indicator_link'])\n",
        "print(\"Our train matrix size \",df_final_train.shape)\n",
        "df_final_train.head(2)"
      ],
      "execution_count": 0,
      "outputs": [
        {
          "output_type": "stream",
          "text": [
            "Our train matrix size  (100002, 3)\n"
          ],
          "name": "stdout"
        },
        {
          "output_type": "execute_result",
          "data": {
            "text/html": [
              "<div>\n",
              "<style scoped>\n",
              "    .dataframe tbody tr th:only-of-type {\n",
              "        vertical-align: middle;\n",
              "    }\n",
              "\n",
              "    .dataframe tbody tr th {\n",
              "        vertical-align: top;\n",
              "    }\n",
              "\n",
              "    .dataframe thead th {\n",
              "        text-align: right;\n",
              "    }\n",
              "</style>\n",
              "<table border=\"1\" class=\"dataframe\">\n",
              "  <thead>\n",
              "    <tr style=\"text-align: right;\">\n",
              "      <th></th>\n",
              "      <th>source_node</th>\n",
              "      <th>destination_node</th>\n",
              "      <th>indicator_link</th>\n",
              "    </tr>\n",
              "  </thead>\n",
              "  <tbody>\n",
              "    <tr>\n",
              "      <th>0</th>\n",
              "      <td>273084</td>\n",
              "      <td>1505602</td>\n",
              "      <td>1</td>\n",
              "    </tr>\n",
              "    <tr>\n",
              "      <th>1</th>\n",
              "      <td>1210429</td>\n",
              "      <td>1684048</td>\n",
              "      <td>1</td>\n",
              "    </tr>\n",
              "  </tbody>\n",
              "</table>\n",
              "</div>"
            ],
            "text/plain": [
              "   source_node  destination_node  indicator_link\n",
              "0       273084           1505602               1\n",
              "1      1210429           1684048               1"
            ]
          },
          "metadata": {
            "tags": []
          },
          "execution_count": 78
        }
      ]
    },
    {
      "cell_type": "code",
      "metadata": {
        "id": "m6MWfy_08r4s",
        "colab_type": "code",
        "outputId": "2cdc03af-d50c-4897-f0b9-558af3250223",
        "colab": {
          "base_uri": "https://localhost:8080/",
          "height": 128
        }
      },
      "source": [
        "df_final_test = pd.read_csv('/content/drive/My Drive/Colab Notebooks/test_after_eda.csv', skiprows=skip_test, names=['source_node', 'destination_node'])\n",
        "df_final_test['indicator_link'] = pd.read_csv('/content/drive/My Drive/Colab Notebooks/test_y.csv', skiprows=skip_test, names=['indicator_link'])\n",
        "print(\"Our test matrix size \",df_final_test.shape)\n",
        "df_final_test.head(2)"
      ],
      "execution_count": 0,
      "outputs": [
        {
          "output_type": "stream",
          "text": [
            "Our test matrix size  (50002, 3)\n"
          ],
          "name": "stdout"
        },
        {
          "output_type": "execute_result",
          "data": {
            "text/html": [
              "<div>\n",
              "<style scoped>\n",
              "    .dataframe tbody tr th:only-of-type {\n",
              "        vertical-align: middle;\n",
              "    }\n",
              "\n",
              "    .dataframe tbody tr th {\n",
              "        vertical-align: top;\n",
              "    }\n",
              "\n",
              "    .dataframe thead th {\n",
              "        text-align: right;\n",
              "    }\n",
              "</style>\n",
              "<table border=\"1\" class=\"dataframe\">\n",
              "  <thead>\n",
              "    <tr style=\"text-align: right;\">\n",
              "      <th></th>\n",
              "      <th>source_node</th>\n",
              "      <th>destination_node</th>\n",
              "      <th>indicator_link</th>\n",
              "    </tr>\n",
              "  </thead>\n",
              "  <tbody>\n",
              "    <tr>\n",
              "      <th>0</th>\n",
              "      <td>848424</td>\n",
              "      <td>784690</td>\n",
              "      <td>1</td>\n",
              "    </tr>\n",
              "    <tr>\n",
              "      <th>1</th>\n",
              "      <td>264224</td>\n",
              "      <td>132395</td>\n",
              "      <td>1</td>\n",
              "    </tr>\n",
              "  </tbody>\n",
              "</table>\n",
              "</div>"
            ],
            "text/plain": [
              "   source_node  destination_node  indicator_link\n",
              "0       848424            784690               1\n",
              "1       264224            132395               1"
            ]
          },
          "metadata": {
            "tags": []
          },
          "execution_count": 79
        }
      ]
    },
    {
      "cell_type": "markdown",
      "metadata": {
        "id": "Tl10u0M58r4v",
        "colab_type": "text"
      },
      "source": [
        "## 5.2 Adding a set of features\n",
        "\n",
        "__we will create these each of these features for both train and test data points__\n",
        "<ol>\n",
        "<li>jaccard_followers</li>\n",
        "<li>jaccard_followees</li>\n",
        "<li>cosine_followers</li>\n",
        "<li>cosine_followees</li>\n",
        "<li>num_followers_s</li>\n",
        "<li>num_followees_s</li>\n",
        "<li>num_followers_d</li>\n",
        "<li>num_followees_d</li>\n",
        "<li>inter_followers</li>\n",
        "<li>inter_followees</li>\n",
        "</ol>"
      ]
    },
    {
      "cell_type": "code",
      "metadata": {
        "id": "wg9nl_7I8r4v",
        "colab_type": "code",
        "colab": {}
      },
      "source": [
        "if not os.path.isfile('/content/drive/My Drive/Colab Notebooks/storage_sample_stage1.h5'):\n",
        "    #mapping jaccrd followers to train and test data\n",
        "    df_final_train['jaccard_followers'] = df_final_train.apply(lambda row:\n",
        "                                            jaccard_for_followers(row['source_node'],row['destination_node']),axis=1)\n",
        "    df_final_test['jaccard_followers'] = df_final_test.apply(lambda row:\n",
        "                                            jaccard_for_followers(row['source_node'],row['destination_node']),axis=1)\n",
        "\n",
        "    #mapping jaccrd followees to train and test data\n",
        "    df_final_train['jaccard_followees'] = df_final_train.apply(lambda row:\n",
        "                                            jaccard_for_followees(row['source_node'],row['destination_node']),axis=1)\n",
        "    df_final_test['jaccard_followees'] = df_final_test.apply(lambda row:\n",
        "                                            jaccard_for_followees(row['source_node'],row['destination_node']),axis=1)\n",
        "    \n",
        "\n",
        "        #mapping jaccrd followers to train and test data\n",
        "    df_final_train['cosine_followers'] = df_final_train.apply(lambda row:\n",
        "                                            cosine_for_followers(row['source_node'],row['destination_node']),axis=1)\n",
        "    df_final_test['cosine_followers'] = df_final_test.apply(lambda row:\n",
        "                                            cosine_for_followers(row['source_node'],row['destination_node']),axis=1)\n",
        "\n",
        "    #mapping jaccrd followees to train and test data\n",
        "    df_final_train['cosine_followees'] = df_final_train.apply(lambda row:\n",
        "                                            cosine_for_followees(row['source_node'],row['destination_node']),axis=1)\n",
        "    df_final_test['cosine_followees'] = df_final_test.apply(lambda row:\n",
        "                                            cosine_for_followees(row['source_node'],row['destination_node']),axis=1)"
      ],
      "execution_count": 0,
      "outputs": []
    },
    {
      "cell_type": "code",
      "metadata": {
        "id": "3TwiL0c98r4x",
        "colab_type": "code",
        "colab": {}
      },
      "source": [
        "def compute_features_stage1(df_final):\n",
        "    #calculating no of followers followees for source and destination\n",
        "    #calculating intersection of followers and followees for source and destination\n",
        "    num_followers_s=[]\n",
        "    num_followees_s=[]\n",
        "    num_followers_d=[]\n",
        "    num_followees_d=[]\n",
        "    inter_followers=[]\n",
        "    inter_followees=[]\n",
        "    for i,row in df_final.iterrows():\n",
        "        try:\n",
        "            s1=set(train_graph.predecessors(row['source_node']))\n",
        "            s2=set(train_graph.successors(row['source_node']))\n",
        "        except:\n",
        "            s1 = set()\n",
        "            s2 = set()\n",
        "        try:\n",
        "            d1=set(train_graph.predecessors(row['destination_node']))\n",
        "            d2=set(train_graph.successors(row['destination_node']))\n",
        "        except:\n",
        "            d1 = set()\n",
        "            d2 = set()\n",
        "        num_followers_s.append(len(s1))\n",
        "        num_followees_s.append(len(s2))\n",
        "\n",
        "        num_followers_d.append(len(d1))\n",
        "        num_followees_d.append(len(d2))\n",
        "\n",
        "        inter_followers.append(len(s1.intersection(d1)))\n",
        "        inter_followees.append(len(s2.intersection(d2)))\n",
        "    \n",
        "    return num_followers_s, num_followers_d, num_followees_s, num_followees_d, inter_followers, inter_followees"
      ],
      "execution_count": 0,
      "outputs": []
    },
    {
      "cell_type": "code",
      "metadata": {
        "id": "ESBq-GLw8r4z",
        "colab_type": "code",
        "colab": {}
      },
      "source": [
        "if not os.path.isfile('/content/drive/My Drive/Colab Notebooks/storage_sample_stage1.h5'):\n",
        "    df_final_train['num_followers_s'], df_final_train['num_followers_d'], \\\n",
        "    df_final_train['num_followees_s'], df_final_train['num_followees_d'], \\\n",
        "    df_final_train['inter_followers'], df_final_train['inter_followees']= compute_features_stage1(df_final_train)\n",
        "    \n",
        "    df_final_test['num_followers_s'], df_final_test['num_followers_d'], \\\n",
        "    df_final_test['num_followees_s'], df_final_test['num_followees_d'], \\\n",
        "    df_final_test['inter_followers'], df_final_test['inter_followees']= compute_features_stage1(df_final_test)\n",
        "    \n",
        "    hdf = HDFStore('/content/drive/My Drive/Colab Notebooks/storage_sample_stage1.h5')\n",
        "    hdf.put('/content/drive/My Drive/Colab Notebooks/train_df',df_final_train, format='table', data_columns=True)\n",
        "    hdf.put('/content/drive/My Drive/Colab Notebooks/test_df',df_final_test, format='table', data_columns=True)\n",
        "    hdf.close()\n",
        "else:\n",
        "    df_final_train = read_hdf('/content/drive/My Drive/Colab Notebooks/storage_sample_stage1.h5', '/content/drive/My Drive/Colab Notebooks/train_df',mode='r')\n",
        "    df_final_test = read_hdf('/content/drive/My Drive/Colab Notebooks/storage_sample_stage1.h5', '/content/drive/My Drive/Colab Notebooks/test_df',mode='r')"
      ],
      "execution_count": 0,
      "outputs": []
    },
    {
      "cell_type": "markdown",
      "metadata": {
        "id": "T_Xbosgx8r44",
        "colab_type": "text"
      },
      "source": [
        "## 5.3 Adding new set of features\n",
        "\n",
        "__we will create these each of these features for both train and test data points__\n",
        "<ol>\n",
        "<li>adar index</li>\n",
        "<li>is following back</li>\n",
        "<li>belongs to same weakly connect components</li>\n",
        "<li>shortest path between source and destination</li>\n",
        "</ol>"
      ]
    },
    {
      "cell_type": "code",
      "metadata": {
        "id": "QO5rkOJf8r44",
        "colab_type": "code",
        "colab": {}
      },
      "source": [
        "if not os.path.isfile('/content/drive/My Drive/Colab Notebooks/storage_sample_stage2.h5'):\n",
        "    #mapping adar index on train\n",
        "    df_final_train['adar_index'] = df_final_train.apply(lambda row: calc_adar_in(row['source_node'],row['destination_node']),axis=1)\n",
        "    #mapping adar index on test\n",
        "    df_final_test['adar_index'] = df_final_test.apply(lambda row: calc_adar_in(row['source_node'],row['destination_node']),axis=1)\n",
        "\n",
        "    #--------------------------------------------------------------------------------------------------------\n",
        "    #mapping followback or not on train\n",
        "    df_final_train['follows_back'] = df_final_train.apply(lambda row: follows_back(row['source_node'],row['destination_node']),axis=1)\n",
        "\n",
        "    #mapping followback or not on test\n",
        "    df_final_test['follows_back'] = df_final_test.apply(lambda row: follows_back(row['source_node'],row['destination_node']),axis=1)\n",
        "\n",
        "    #--------------------------------------------------------------------------------------------------------\n",
        "    #mapping same component of wcc or not on train\n",
        "    df_final_train['same_comp'] = df_final_train.apply(lambda row: belongs_to_same_wcc(row['source_node'],row['destination_node']),axis=1)\n",
        "\n",
        "    ##mapping same component of wcc or not on train\n",
        "    df_final_test['same_comp'] = df_final_test.apply(lambda row: belongs_to_same_wcc(row['source_node'],row['destination_node']),axis=1)\n",
        "    \n",
        "    #mapping shortest path on train \n",
        "    df_final_train['shortest_path'] = df_final_train.apply(lambda row: compute_shortest_path_length(row['source_node'],row['destination_node']),axis=1)\n",
        "    #mapping shortest path on test\n",
        "    df_final_test['shortest_path'] = df_final_test.apply(lambda row: compute_shortest_path_length(row['source_node'],row['destination_node']),axis=1)\n",
        "\n",
        "    hdf = HDFStore('/content/drive/My Drive/Colab Notebooks/storage_sample_stage2.h5')\n",
        "    hdf.put('/content/drive/My Drive/Colab Notebooks/train_df',df_final_train, format='table', data_columns=True)\n",
        "    hdf.put('/content/drive/My Drive/Colab Notebooks/test_df',df_final_test, format='table', data_columns=True)\n",
        "    hdf.close()\n",
        "else:\n",
        "    df_final_train = read_hdf('/content/drive/My Drive/Colab Notebooks/storage_sample_stage2.h5', '/content/drive/My Drive/Colab Notebooks/train_df',mode='r')\n",
        "    df_final_test = read_hdf('/content/drive/My Drive/Colab Notebooks/storage_sample_stage2.h5', '/content/drive/My Drive/Colab Notebooks/test_df',mode='r')"
      ],
      "execution_count": 0,
      "outputs": []
    },
    {
      "cell_type": "markdown",
      "metadata": {
        "id": "ApmENJMU8r47",
        "colab_type": "text"
      },
      "source": [
        "## 5.4 Adding new set of features\n",
        "\n",
        "__we will create these each of these features for both train and test data points__\n",
        "<ol>\n",
        "<li>Weight Features\n",
        "    <ul>\n",
        "        <li>weight of incoming edges</li>\n",
        "        <li>weight of outgoing edges</li>\n",
        "        <li>weight of incoming edges + weight of outgoing edges</li>\n",
        "        <li>weight of incoming edges * weight of outgoing edges</li>\n",
        "        <li>2*weight of incoming edges + weight of outgoing edges</li>\n",
        "        <li>weight of incoming edges + 2*weight of outgoing edges</li>\n",
        "    </ul>\n",
        "</li>\n",
        "<li>Page Ranking of source</li>\n",
        "<li>Page Ranking of dest</li>\n",
        "<li>katz of source</li>\n",
        "<li>katz of dest</li>\n",
        "<li>hubs of source</li>\n",
        "<li>hubs of dest</li>\n",
        "<li>authorities_s of source</li>\n",
        "<li>authorities_s of dest</li>\n",
        "</ol>"
      ]
    },
    {
      "cell_type": "markdown",
      "metadata": {
        "id": "aqKPVM9m8r47",
        "colab_type": "text"
      },
      "source": [
        "#### Weight Features"
      ]
    },
    {
      "cell_type": "markdown",
      "metadata": {
        "id": "bC5HHrvh8r48",
        "colab_type": "text"
      },
      "source": [
        "In order to determine the similarity of nodes, an edge weight value was calculated between nodes. Edge weight decreases as the neighbor count goes up. Intuitively, consider one million people following a celebrity on a social network then chances are most of them never met each other or the celebrity. On the other hand, if a user has 30 contacts in his/her social network, the chances are higher that many of them know each other. \n",
        "`credit` - Graph-based Features for Supervised Link Prediction\n",
        "William Cukierski, Benjamin Hamner, Bo Yang"
      ]
    },
    {
      "cell_type": "markdown",
      "metadata": {
        "id": "Xe7CF1N68r48",
        "colab_type": "text"
      },
      "source": [
        "\\begin{equation}\n",
        "W = \\frac{1}{\\sqrt{1+|X|}}\n",
        "\\end{equation}"
      ]
    },
    {
      "cell_type": "markdown",
      "metadata": {
        "id": "Q2tUAx_68r49",
        "colab_type": "text"
      },
      "source": [
        "it is directed graph so calculated Weighted in and Weighted out differently"
      ]
    },
    {
      "cell_type": "code",
      "metadata": {
        "id": "N9Mbfdlr8r49",
        "colab_type": "code",
        "outputId": "7bce484a-437d-4eb7-9485-aaaec7b74d42",
        "colab": {
          "base_uri": "https://localhost:8080/",
          "height": 34
        }
      },
      "source": [
        "#weight for source and destination of each link\n",
        "Weight_in = {}\n",
        "Weight_out = {}\n",
        "for i in  tqdm(train_graph.nodes()):\n",
        "    s1=set(train_graph.predecessors(i))\n",
        "    w_in = 1.0/(np.sqrt(1+len(s1)))\n",
        "    Weight_in[i]=w_in\n",
        "    \n",
        "    s2=set(train_graph.successors(i))\n",
        "    w_out = 1.0/(np.sqrt(1+len(s2)))\n",
        "    Weight_out[i]=w_out\n",
        "    \n",
        "#for imputing with mean\n",
        "mean_weight_in = np.mean(list(Weight_in.values()))\n",
        "mean_weight_out = np.mean(list(Weight_out.values()))"
      ],
      "execution_count": 0,
      "outputs": [
        {
          "output_type": "stream",
          "text": [
            "100%|██████████| 1780722/1780722 [00:16<00:00, 108588.96it/s]\n"
          ],
          "name": "stderr"
        }
      ]
    },
    {
      "cell_type": "code",
      "metadata": {
        "id": "xM6c_PIJ8r5A",
        "colab_type": "code",
        "colab": {}
      },
      "source": [
        "if not os.path.isfile('/content/drive/My Drive/Colab Notebooks/storage_sample_stage3.h5'):\n",
        "    #mapping to pandas train\n",
        "    df_final_train['weight_in'] = df_final_train.destination_node.apply(lambda x: Weight_in.get(x,mean_weight_in))\n",
        "    df_final_train['weight_out'] = df_final_train.source_node.apply(lambda x: Weight_out.get(x,mean_weight_out))\n",
        "\n",
        "    #mapping to pandas test\n",
        "    df_final_test['weight_in'] = df_final_test.destination_node.apply(lambda x: Weight_in.get(x,mean_weight_in))\n",
        "    df_final_test['weight_out'] = df_final_test.source_node.apply(lambda x: Weight_out.get(x,mean_weight_out))\n",
        "\n",
        "\n",
        "    #some features engineerings on the in and out weights\n",
        "    df_final_train['weight_f1'] = df_final_train.weight_in + df_final_train.weight_out\n",
        "    df_final_train['weight_f2'] = df_final_train.weight_in * df_final_train.weight_out\n",
        "    df_final_train['weight_f3'] = (2*df_final_train.weight_in + 1*df_final_train.weight_out)\n",
        "    df_final_train['weight_f4'] = (1*df_final_train.weight_in + 2*df_final_train.weight_out)\n",
        "\n",
        "    #some features engineerings on the in and out weights\n",
        "    df_final_test['weight_f1'] = df_final_test.weight_in + df_final_test.weight_out\n",
        "    df_final_test['weight_f2'] = df_final_test.weight_in * df_final_test.weight_out\n",
        "    df_final_test['weight_f3'] = (2*df_final_test.weight_in + 1*df_final_test.weight_out)\n",
        "    df_final_test['weight_f4'] = (1*df_final_test.weight_in + 2*df_final_test.weight_out)"
      ],
      "execution_count": 0,
      "outputs": []
    },
    {
      "cell_type": "code",
      "metadata": {
        "id": "QeyGbpo58r5B",
        "colab_type": "code",
        "colab": {}
      },
      "source": [
        "if not os.path.isfile('/content/drive/My Drive/Colab Notebooks/storage_sample_stage3.h5'):\n",
        "    \n",
        "    #page rank for source and destination in Train and Test\n",
        "    #if anything not there in train graph then adding mean page rank \n",
        "    df_final_train['page_rank_s'] = df_final_train.source_node.apply(lambda x:pr.get(x,mean_pr))\n",
        "    df_final_train['page_rank_d'] = df_final_train.destination_node.apply(lambda x:pr.get(x,mean_pr))\n",
        "\n",
        "    df_final_test['page_rank_s'] = df_final_test.source_node.apply(lambda x:pr.get(x,mean_pr))\n",
        "    df_final_test['page_rank_d'] = df_final_test.destination_node.apply(lambda x:pr.get(x,mean_pr))\n",
        "    #================================================================================\n",
        "\n",
        "    #Katz centrality score for source and destination in Train and test\n",
        "    #if anything not there in train graph then adding mean katz score\n",
        "    df_final_train['katz_s'] = df_final_train.source_node.apply(lambda x: katz.get(x,mean_katz))\n",
        "    df_final_train['katz_d'] = df_final_train.destination_node.apply(lambda x: katz.get(x,mean_katz))\n",
        "\n",
        "    df_final_test['katz_s'] = df_final_test.source_node.apply(lambda x: katz.get(x,mean_katz))\n",
        "    df_final_test['katz_d'] = df_final_test.destination_node.apply(lambda x: katz.get(x,mean_katz))\n",
        "    #================================================================================\n",
        "\n",
        "    #Hits algorithm score for source and destination in Train and test\n",
        "    #if anything not there in train graph then adding 0\n",
        "    df_final_train['hubs_s'] = df_final_train.source_node.apply(lambda x: hits[0].get(x,0))\n",
        "    df_final_train['hubs_d'] = df_final_train.destination_node.apply(lambda x: hits[0].get(x,0))\n",
        "\n",
        "    df_final_test['hubs_s'] = df_final_test.source_node.apply(lambda x: hits[0].get(x,0))\n",
        "    df_final_test['hubs_d'] = df_final_test.destination_node.apply(lambda x: hits[0].get(x,0))\n",
        "    #================================================================================\n",
        "\n",
        "    #Hits algorithm score for source and destination in Train and Test\n",
        "    #if anything not there in train graph then adding 0\n",
        "    df_final_train['authorities_s'] = df_final_train.source_node.apply(lambda x: hits[1].get(x,0))\n",
        "    df_final_train['authorities_d'] = df_final_train.destination_node.apply(lambda x: hits[1].get(x,0))\n",
        "\n",
        "    df_final_test['authorities_s'] = df_final_test.source_node.apply(lambda x: hits[1].get(x,0))\n",
        "    df_final_test['authorities_d'] = df_final_test.destination_node.apply(lambda x: hits[1].get(x,0))\n",
        "    #================================================================================\n",
        "\n",
        "    hdf = HDFStore('/content/drive/My Drive/Colab Notebooks/storage_sample_stage3.h5')\n",
        "    hdf.put('/content/drive/My Drive/Colab Notebooks/train_df',df_final_train, format='table', data_columns=True)\n",
        "    hdf.put('/content/drive/My Drive/Colab Notebooks/test_df',df_final_test, format='table', data_columns=True)\n",
        "    hdf.close()\n",
        "else:\n",
        "    df_final_train = read_hdf('/content/drive/My Drive/Colab Notebooks/storage_sample_stage3.h5', '/content/drive/My Drive/Colab Notebooks/train_df',mode='r')\n",
        "    df_final_test = read_hdf('/content/drive/My Drive/Colab Notebooks/storage_sample_stage3.h5', '/content/drive/My Drive/Colab Notebooks/test_df',mode='r')"
      ],
      "execution_count": 0,
      "outputs": []
    },
    {
      "cell_type": "code",
      "metadata": {
        "id": "0drWPaI-8r5D",
        "colab_type": "code",
        "outputId": "252b138a-35a4-4995-fc62-f44776730e77",
        "colab": {
          "base_uri": "https://localhost:8080/",
          "height": 309
        }
      },
      "source": [
        "df_final_train.head()"
      ],
      "execution_count": 0,
      "outputs": [
        {
          "output_type": "execute_result",
          "data": {
            "text/html": [
              "<div>\n",
              "<style scoped>\n",
              "    .dataframe tbody tr th:only-of-type {\n",
              "        vertical-align: middle;\n",
              "    }\n",
              "\n",
              "    .dataframe tbody tr th {\n",
              "        vertical-align: top;\n",
              "    }\n",
              "\n",
              "    .dataframe thead th {\n",
              "        text-align: right;\n",
              "    }\n",
              "</style>\n",
              "<table border=\"1\" class=\"dataframe\">\n",
              "  <thead>\n",
              "    <tr style=\"text-align: right;\">\n",
              "      <th></th>\n",
              "      <th>source_node</th>\n",
              "      <th>destination_node</th>\n",
              "      <th>indicator_link</th>\n",
              "      <th>jaccard_followers</th>\n",
              "      <th>jaccard_followees</th>\n",
              "      <th>cosine_followers</th>\n",
              "      <th>cosine_followees</th>\n",
              "      <th>num_followers_s</th>\n",
              "      <th>num_followers_d</th>\n",
              "      <th>num_followees_s</th>\n",
              "      <th>num_followees_d</th>\n",
              "      <th>inter_followers</th>\n",
              "      <th>inter_followees</th>\n",
              "      <th>adar_index</th>\n",
              "      <th>follows_back</th>\n",
              "      <th>same_comp</th>\n",
              "      <th>shortest_path</th>\n",
              "      <th>weight_in</th>\n",
              "      <th>weight_out</th>\n",
              "      <th>weight_f1</th>\n",
              "      <th>weight_f2</th>\n",
              "      <th>weight_f3</th>\n",
              "      <th>weight_f4</th>\n",
              "      <th>page_rank_s</th>\n",
              "      <th>page_rank_d</th>\n",
              "      <th>katz_s</th>\n",
              "      <th>katz_d</th>\n",
              "      <th>hubs_s</th>\n",
              "      <th>hubs_d</th>\n",
              "      <th>authorities_s</th>\n",
              "      <th>authorities_d</th>\n",
              "    </tr>\n",
              "  </thead>\n",
              "  <tbody>\n",
              "    <tr>\n",
              "      <th>0</th>\n",
              "      <td>273084</td>\n",
              "      <td>1505602</td>\n",
              "      <td>1</td>\n",
              "      <td>0.000000</td>\n",
              "      <td>0.000000</td>\n",
              "      <td>0.000000</td>\n",
              "      <td>0.00000</td>\n",
              "      <td>11</td>\n",
              "      <td>6</td>\n",
              "      <td>15</td>\n",
              "      <td>8</td>\n",
              "      <td>0</td>\n",
              "      <td>0</td>\n",
              "      <td>0.000000</td>\n",
              "      <td>0</td>\n",
              "      <td>1</td>\n",
              "      <td>4</td>\n",
              "      <td>0.377964</td>\n",
              "      <td>0.250000</td>\n",
              "      <td>0.627964</td>\n",
              "      <td>0.094491</td>\n",
              "      <td>1.005929</td>\n",
              "      <td>0.877964</td>\n",
              "      <td>2.045290e-06</td>\n",
              "      <td>3.459963e-07</td>\n",
              "      <td>0.000773</td>\n",
              "      <td>0.000756</td>\n",
              "      <td>1.943132e-13</td>\n",
              "      <td>1.941103e-13</td>\n",
              "      <td>9.226339e-16</td>\n",
              "      <td>2.231877e-15</td>\n",
              "    </tr>\n",
              "    <tr>\n",
              "      <th>1</th>\n",
              "      <td>546636</td>\n",
              "      <td>283651</td>\n",
              "      <td>1</td>\n",
              "      <td>0.000000</td>\n",
              "      <td>0.000000</td>\n",
              "      <td>0.000000</td>\n",
              "      <td>0.00000</td>\n",
              "      <td>4</td>\n",
              "      <td>4</td>\n",
              "      <td>3</td>\n",
              "      <td>9</td>\n",
              "      <td>0</td>\n",
              "      <td>0</td>\n",
              "      <td>0.000000</td>\n",
              "      <td>1</td>\n",
              "      <td>1</td>\n",
              "      <td>7</td>\n",
              "      <td>0.447214</td>\n",
              "      <td>0.500000</td>\n",
              "      <td>0.947214</td>\n",
              "      <td>0.223607</td>\n",
              "      <td>1.394427</td>\n",
              "      <td>1.447214</td>\n",
              "      <td>5.254600e-07</td>\n",
              "      <td>4.823673e-07</td>\n",
              "      <td>0.000746</td>\n",
              "      <td>0.000747</td>\n",
              "      <td>6.992918e-18</td>\n",
              "      <td>1.718237e-16</td>\n",
              "      <td>1.588886e-16</td>\n",
              "      <td>3.125732e-17</td>\n",
              "    </tr>\n",
              "    <tr>\n",
              "      <th>2</th>\n",
              "      <td>1059200</td>\n",
              "      <td>1664635</td>\n",
              "      <td>1</td>\n",
              "      <td>0.333333</td>\n",
              "      <td>0.578947</td>\n",
              "      <td>0.222718</td>\n",
              "      <td>0.73994</td>\n",
              "      <td>14</td>\n",
              "      <td>6</td>\n",
              "      <td>17</td>\n",
              "      <td>13</td>\n",
              "      <td>5</td>\n",
              "      <td>11</td>\n",
              "      <td>11.424889</td>\n",
              "      <td>1</td>\n",
              "      <td>1</td>\n",
              "      <td>2</td>\n",
              "      <td>0.377964</td>\n",
              "      <td>0.235702</td>\n",
              "      <td>0.613667</td>\n",
              "      <td>0.089087</td>\n",
              "      <td>0.991631</td>\n",
              "      <td>0.849369</td>\n",
              "      <td>1.085197e-06</td>\n",
              "      <td>3.825109e-07</td>\n",
              "      <td>0.000785</td>\n",
              "      <td>0.000754</td>\n",
              "      <td>1.791779e-17</td>\n",
              "      <td>1.799380e-17</td>\n",
              "      <td>1.414347e-17</td>\n",
              "      <td>5.376350e-19</td>\n",
              "    </tr>\n",
              "    <tr>\n",
              "      <th>3</th>\n",
              "      <td>1099490</td>\n",
              "      <td>664927</td>\n",
              "      <td>1</td>\n",
              "      <td>0.190476</td>\n",
              "      <td>0.100000</td>\n",
              "      <td>0.084327</td>\n",
              "      <td>0.18490</td>\n",
              "      <td>10</td>\n",
              "      <td>15</td>\n",
              "      <td>9</td>\n",
              "      <td>13</td>\n",
              "      <td>4</td>\n",
              "      <td>2</td>\n",
              "      <td>1.772964</td>\n",
              "      <td>1</td>\n",
              "      <td>1</td>\n",
              "      <td>2</td>\n",
              "      <td>0.250000</td>\n",
              "      <td>0.316228</td>\n",
              "      <td>0.566228</td>\n",
              "      <td>0.079057</td>\n",
              "      <td>0.816228</td>\n",
              "      <td>0.882456</td>\n",
              "      <td>1.029007e-06</td>\n",
              "      <td>1.070835e-06</td>\n",
              "      <td>0.000770</td>\n",
              "      <td>0.000792</td>\n",
              "      <td>4.069371e-16</td>\n",
              "      <td>1.669981e-15</td>\n",
              "      <td>2.134915e-15</td>\n",
              "      <td>1.056871e-14</td>\n",
              "    </tr>\n",
              "    <tr>\n",
              "      <th>4</th>\n",
              "      <td>137977</td>\n",
              "      <td>1745118</td>\n",
              "      <td>1</td>\n",
              "      <td>0.125000</td>\n",
              "      <td>0.000000</td>\n",
              "      <td>0.136083</td>\n",
              "      <td>0.00000</td>\n",
              "      <td>6</td>\n",
              "      <td>3</td>\n",
              "      <td>6</td>\n",
              "      <td>1</td>\n",
              "      <td>1</td>\n",
              "      <td>0</td>\n",
              "      <td>0.000000</td>\n",
              "      <td>0</td>\n",
              "      <td>1</td>\n",
              "      <td>2</td>\n",
              "      <td>0.500000</td>\n",
              "      <td>0.377964</td>\n",
              "      <td>0.877964</td>\n",
              "      <td>0.188982</td>\n",
              "      <td>1.377964</td>\n",
              "      <td>1.255929</td>\n",
              "      <td>8.132038e-07</td>\n",
              "      <td>4.440101e-07</td>\n",
              "      <td>0.000754</td>\n",
              "      <td>0.000743</td>\n",
              "      <td>2.353959e-21</td>\n",
              "      <td>1.921704e-20</td>\n",
              "      <td>1.189724e-17</td>\n",
              "      <td>1.936694e-21</td>\n",
              "    </tr>\n",
              "  </tbody>\n",
              "</table>\n",
              "</div>"
            ],
            "text/plain": [
              "   source_node  destination_node  ...  authorities_s  authorities_d\n",
              "0       273084           1505602  ...   9.226339e-16   2.231877e-15\n",
              "1       546636            283651  ...   1.588886e-16   3.125732e-17\n",
              "2      1059200           1664635  ...   1.414347e-17   5.376350e-19\n",
              "3      1099490            664927  ...   2.134915e-15   1.056871e-14\n",
              "4       137977           1745118  ...   1.189724e-17   1.936694e-21\n",
              "\n",
              "[5 rows x 31 columns]"
            ]
          },
          "metadata": {
            "tags": []
          },
          "execution_count": 87
        }
      ]
    },
    {
      "cell_type": "markdown",
      "metadata": {
        "id": "_nmNgy1P8r5F",
        "colab_type": "text"
      },
      "source": [
        "### Adding new feature Preferential Attachement "
      ]
    },
    {
      "cell_type": "markdown",
      "metadata": {
        "id": "xGNKoSu48r5F",
        "colab_type": "text"
      },
      "source": [
        " One well-known concept in social networks is that users with many friends tend to create more connections in the future. This is due to the fact that in some social networks, like in finance, the rich get richer. We estimate how ”rich” our two vertices are by calculating the multiplication between the number of friends (|Γ(x)|) or followers each vertex has."
      ]
    },
    {
      "cell_type": "markdown",
      "metadata": {
        "id": "I1VCi3eq8r5G",
        "colab_type": "text"
      },
      "source": [
        "#### Preferential Attachement for followers"
      ]
    },
    {
      "cell_type": "code",
      "metadata": {
        "id": "iXBlmGEO8r5G",
        "colab_type": "code",
        "outputId": "0af57902-f7a7-4d21-c7e0-7a41502a3d5a",
        "colab": {
          "base_uri": "https://localhost:8080/",
          "height": 309
        }
      },
      "source": [
        "#for train dataset\n",
        "nfs=np.array(df_final_train['num_followers_s'])\n",
        "nfd=np.array(df_final_train['num_followers_d'])\n",
        "preferential_followers=[]\n",
        "for i in range(len(nfs)):\n",
        "    preferential_followers.append(nfd[i]*nfs[i])\n",
        "df_final_train['prefer_Attach_followers']= preferential_followers\n",
        "df_final_train.head()"
      ],
      "execution_count": 0,
      "outputs": [
        {
          "output_type": "execute_result",
          "data": {
            "text/html": [
              "<div>\n",
              "<style scoped>\n",
              "    .dataframe tbody tr th:only-of-type {\n",
              "        vertical-align: middle;\n",
              "    }\n",
              "\n",
              "    .dataframe tbody tr th {\n",
              "        vertical-align: top;\n",
              "    }\n",
              "\n",
              "    .dataframe thead th {\n",
              "        text-align: right;\n",
              "    }\n",
              "</style>\n",
              "<table border=\"1\" class=\"dataframe\">\n",
              "  <thead>\n",
              "    <tr style=\"text-align: right;\">\n",
              "      <th></th>\n",
              "      <th>source_node</th>\n",
              "      <th>destination_node</th>\n",
              "      <th>indicator_link</th>\n",
              "      <th>jaccard_followers</th>\n",
              "      <th>jaccard_followees</th>\n",
              "      <th>cosine_followers</th>\n",
              "      <th>cosine_followees</th>\n",
              "      <th>num_followers_s</th>\n",
              "      <th>num_followers_d</th>\n",
              "      <th>num_followees_s</th>\n",
              "      <th>num_followees_d</th>\n",
              "      <th>inter_followers</th>\n",
              "      <th>inter_followees</th>\n",
              "      <th>adar_index</th>\n",
              "      <th>follows_back</th>\n",
              "      <th>same_comp</th>\n",
              "      <th>shortest_path</th>\n",
              "      <th>weight_in</th>\n",
              "      <th>weight_out</th>\n",
              "      <th>weight_f1</th>\n",
              "      <th>weight_f2</th>\n",
              "      <th>weight_f3</th>\n",
              "      <th>weight_f4</th>\n",
              "      <th>page_rank_s</th>\n",
              "      <th>page_rank_d</th>\n",
              "      <th>katz_s</th>\n",
              "      <th>katz_d</th>\n",
              "      <th>hubs_s</th>\n",
              "      <th>hubs_d</th>\n",
              "      <th>authorities_s</th>\n",
              "      <th>authorities_d</th>\n",
              "      <th>prefer_Attach_followers</th>\n",
              "    </tr>\n",
              "  </thead>\n",
              "  <tbody>\n",
              "    <tr>\n",
              "      <th>0</th>\n",
              "      <td>273084</td>\n",
              "      <td>1505602</td>\n",
              "      <td>1</td>\n",
              "      <td>0.000000</td>\n",
              "      <td>0.000000</td>\n",
              "      <td>0.000000</td>\n",
              "      <td>0.00000</td>\n",
              "      <td>11</td>\n",
              "      <td>6</td>\n",
              "      <td>15</td>\n",
              "      <td>8</td>\n",
              "      <td>0</td>\n",
              "      <td>0</td>\n",
              "      <td>0.000000</td>\n",
              "      <td>0</td>\n",
              "      <td>1</td>\n",
              "      <td>4</td>\n",
              "      <td>0.377964</td>\n",
              "      <td>0.250000</td>\n",
              "      <td>0.627964</td>\n",
              "      <td>0.094491</td>\n",
              "      <td>1.005929</td>\n",
              "      <td>0.877964</td>\n",
              "      <td>2.045290e-06</td>\n",
              "      <td>3.459963e-07</td>\n",
              "      <td>0.000773</td>\n",
              "      <td>0.000756</td>\n",
              "      <td>1.943132e-13</td>\n",
              "      <td>1.941103e-13</td>\n",
              "      <td>9.226339e-16</td>\n",
              "      <td>2.231877e-15</td>\n",
              "      <td>66</td>\n",
              "    </tr>\n",
              "    <tr>\n",
              "      <th>1</th>\n",
              "      <td>546636</td>\n",
              "      <td>283651</td>\n",
              "      <td>1</td>\n",
              "      <td>0.000000</td>\n",
              "      <td>0.000000</td>\n",
              "      <td>0.000000</td>\n",
              "      <td>0.00000</td>\n",
              "      <td>4</td>\n",
              "      <td>4</td>\n",
              "      <td>3</td>\n",
              "      <td>9</td>\n",
              "      <td>0</td>\n",
              "      <td>0</td>\n",
              "      <td>0.000000</td>\n",
              "      <td>1</td>\n",
              "      <td>1</td>\n",
              "      <td>7</td>\n",
              "      <td>0.447214</td>\n",
              "      <td>0.500000</td>\n",
              "      <td>0.947214</td>\n",
              "      <td>0.223607</td>\n",
              "      <td>1.394427</td>\n",
              "      <td>1.447214</td>\n",
              "      <td>5.254600e-07</td>\n",
              "      <td>4.823673e-07</td>\n",
              "      <td>0.000746</td>\n",
              "      <td>0.000747</td>\n",
              "      <td>6.992918e-18</td>\n",
              "      <td>1.718237e-16</td>\n",
              "      <td>1.588886e-16</td>\n",
              "      <td>3.125732e-17</td>\n",
              "      <td>16</td>\n",
              "    </tr>\n",
              "    <tr>\n",
              "      <th>2</th>\n",
              "      <td>1059200</td>\n",
              "      <td>1664635</td>\n",
              "      <td>1</td>\n",
              "      <td>0.333333</td>\n",
              "      <td>0.578947</td>\n",
              "      <td>0.222718</td>\n",
              "      <td>0.73994</td>\n",
              "      <td>14</td>\n",
              "      <td>6</td>\n",
              "      <td>17</td>\n",
              "      <td>13</td>\n",
              "      <td>5</td>\n",
              "      <td>11</td>\n",
              "      <td>11.424889</td>\n",
              "      <td>1</td>\n",
              "      <td>1</td>\n",
              "      <td>2</td>\n",
              "      <td>0.377964</td>\n",
              "      <td>0.235702</td>\n",
              "      <td>0.613667</td>\n",
              "      <td>0.089087</td>\n",
              "      <td>0.991631</td>\n",
              "      <td>0.849369</td>\n",
              "      <td>1.085197e-06</td>\n",
              "      <td>3.825109e-07</td>\n",
              "      <td>0.000785</td>\n",
              "      <td>0.000754</td>\n",
              "      <td>1.791779e-17</td>\n",
              "      <td>1.799380e-17</td>\n",
              "      <td>1.414347e-17</td>\n",
              "      <td>5.376350e-19</td>\n",
              "      <td>84</td>\n",
              "    </tr>\n",
              "    <tr>\n",
              "      <th>3</th>\n",
              "      <td>1099490</td>\n",
              "      <td>664927</td>\n",
              "      <td>1</td>\n",
              "      <td>0.190476</td>\n",
              "      <td>0.100000</td>\n",
              "      <td>0.084327</td>\n",
              "      <td>0.18490</td>\n",
              "      <td>10</td>\n",
              "      <td>15</td>\n",
              "      <td>9</td>\n",
              "      <td>13</td>\n",
              "      <td>4</td>\n",
              "      <td>2</td>\n",
              "      <td>1.772964</td>\n",
              "      <td>1</td>\n",
              "      <td>1</td>\n",
              "      <td>2</td>\n",
              "      <td>0.250000</td>\n",
              "      <td>0.316228</td>\n",
              "      <td>0.566228</td>\n",
              "      <td>0.079057</td>\n",
              "      <td>0.816228</td>\n",
              "      <td>0.882456</td>\n",
              "      <td>1.029007e-06</td>\n",
              "      <td>1.070835e-06</td>\n",
              "      <td>0.000770</td>\n",
              "      <td>0.000792</td>\n",
              "      <td>4.069371e-16</td>\n",
              "      <td>1.669981e-15</td>\n",
              "      <td>2.134915e-15</td>\n",
              "      <td>1.056871e-14</td>\n",
              "      <td>150</td>\n",
              "    </tr>\n",
              "    <tr>\n",
              "      <th>4</th>\n",
              "      <td>137977</td>\n",
              "      <td>1745118</td>\n",
              "      <td>1</td>\n",
              "      <td>0.125000</td>\n",
              "      <td>0.000000</td>\n",
              "      <td>0.136083</td>\n",
              "      <td>0.00000</td>\n",
              "      <td>6</td>\n",
              "      <td>3</td>\n",
              "      <td>6</td>\n",
              "      <td>1</td>\n",
              "      <td>1</td>\n",
              "      <td>0</td>\n",
              "      <td>0.000000</td>\n",
              "      <td>0</td>\n",
              "      <td>1</td>\n",
              "      <td>2</td>\n",
              "      <td>0.500000</td>\n",
              "      <td>0.377964</td>\n",
              "      <td>0.877964</td>\n",
              "      <td>0.188982</td>\n",
              "      <td>1.377964</td>\n",
              "      <td>1.255929</td>\n",
              "      <td>8.132038e-07</td>\n",
              "      <td>4.440101e-07</td>\n",
              "      <td>0.000754</td>\n",
              "      <td>0.000743</td>\n",
              "      <td>2.353959e-21</td>\n",
              "      <td>1.921704e-20</td>\n",
              "      <td>1.189724e-17</td>\n",
              "      <td>1.936694e-21</td>\n",
              "      <td>18</td>\n",
              "    </tr>\n",
              "  </tbody>\n",
              "</table>\n",
              "</div>"
            ],
            "text/plain": [
              "   source_node  destination_node  ...  authorities_d  prefer_Attach_followers\n",
              "0       273084           1505602  ...   2.231877e-15                       66\n",
              "1       546636            283651  ...   3.125732e-17                       16\n",
              "2      1059200           1664635  ...   5.376350e-19                       84\n",
              "3      1099490            664927  ...   1.056871e-14                      150\n",
              "4       137977           1745118  ...   1.936694e-21                       18\n",
              "\n",
              "[5 rows x 32 columns]"
            ]
          },
          "metadata": {
            "tags": []
          },
          "execution_count": 88
        }
      ]
    },
    {
      "cell_type": "code",
      "metadata": {
        "id": "m7TJfmir8r5I",
        "colab_type": "code",
        "outputId": "9c4c92c7-850e-4051-eb12-0580341cafd9",
        "colab": {
          "base_uri": "https://localhost:8080/",
          "height": 309
        }
      },
      "source": [
        "#for test dataset\n",
        "nfs=np.array(df_final_test['num_followers_s'])\n",
        "nfd=np.array(df_final_test['num_followers_d'])\n",
        "preferential_followers=[]\n",
        "for i in range(len(nfs)):\n",
        "    preferential_followers.append(nfd[i]*nfs[i])\n",
        "df_final_test['prefer_Attach_followers']= preferential_followers\n",
        "df_final_test.head()"
      ],
      "execution_count": 0,
      "outputs": [
        {
          "output_type": "execute_result",
          "data": {
            "text/html": [
              "<div>\n",
              "<style scoped>\n",
              "    .dataframe tbody tr th:only-of-type {\n",
              "        vertical-align: middle;\n",
              "    }\n",
              "\n",
              "    .dataframe tbody tr th {\n",
              "        vertical-align: top;\n",
              "    }\n",
              "\n",
              "    .dataframe thead th {\n",
              "        text-align: right;\n",
              "    }\n",
              "</style>\n",
              "<table border=\"1\" class=\"dataframe\">\n",
              "  <thead>\n",
              "    <tr style=\"text-align: right;\">\n",
              "      <th></th>\n",
              "      <th>source_node</th>\n",
              "      <th>destination_node</th>\n",
              "      <th>indicator_link</th>\n",
              "      <th>jaccard_followers</th>\n",
              "      <th>jaccard_followees</th>\n",
              "      <th>cosine_followers</th>\n",
              "      <th>cosine_followees</th>\n",
              "      <th>num_followers_s</th>\n",
              "      <th>num_followers_d</th>\n",
              "      <th>num_followees_s</th>\n",
              "      <th>num_followees_d</th>\n",
              "      <th>inter_followers</th>\n",
              "      <th>inter_followees</th>\n",
              "      <th>adar_index</th>\n",
              "      <th>follows_back</th>\n",
              "      <th>same_comp</th>\n",
              "      <th>shortest_path</th>\n",
              "      <th>weight_in</th>\n",
              "      <th>weight_out</th>\n",
              "      <th>weight_f1</th>\n",
              "      <th>weight_f2</th>\n",
              "      <th>weight_f3</th>\n",
              "      <th>weight_f4</th>\n",
              "      <th>page_rank_s</th>\n",
              "      <th>page_rank_d</th>\n",
              "      <th>katz_s</th>\n",
              "      <th>katz_d</th>\n",
              "      <th>hubs_s</th>\n",
              "      <th>hubs_d</th>\n",
              "      <th>authorities_s</th>\n",
              "      <th>authorities_d</th>\n",
              "      <th>prefer_Attach_followers</th>\n",
              "    </tr>\n",
              "  </thead>\n",
              "  <tbody>\n",
              "    <tr>\n",
              "      <th>0</th>\n",
              "      <td>848424</td>\n",
              "      <td>784690</td>\n",
              "      <td>1</td>\n",
              "      <td>0.052632</td>\n",
              "      <td>0.000000</td>\n",
              "      <td>0.029161</td>\n",
              "      <td>0.000000</td>\n",
              "      <td>6</td>\n",
              "      <td>14</td>\n",
              "      <td>6</td>\n",
              "      <td>9</td>\n",
              "      <td>1</td>\n",
              "      <td>0</td>\n",
              "      <td>0.000000</td>\n",
              "      <td>1</td>\n",
              "      <td>1</td>\n",
              "      <td>2</td>\n",
              "      <td>0.258199</td>\n",
              "      <td>0.377964</td>\n",
              "      <td>0.636163</td>\n",
              "      <td>0.097590</td>\n",
              "      <td>0.894362</td>\n",
              "      <td>1.014128</td>\n",
              "      <td>6.557971e-07</td>\n",
              "      <td>1.559547e-06</td>\n",
              "      <td>0.000754</td>\n",
              "      <td>0.000786</td>\n",
              "      <td>3.243237e-16</td>\n",
              "      <td>1.745627e-16</td>\n",
              "      <td>2.969838e-15</td>\n",
              "      <td>9.269213e-14</td>\n",
              "      <td>84</td>\n",
              "    </tr>\n",
              "    <tr>\n",
              "      <th>1</th>\n",
              "      <td>1822193</td>\n",
              "      <td>1077524</td>\n",
              "      <td>1</td>\n",
              "      <td>0.050000</td>\n",
              "      <td>0.000000</td>\n",
              "      <td>0.050000</td>\n",
              "      <td>0.000000</td>\n",
              "      <td>1</td>\n",
              "      <td>20</td>\n",
              "      <td>0</td>\n",
              "      <td>11</td>\n",
              "      <td>1</td>\n",
              "      <td>0</td>\n",
              "      <td>0.000000</td>\n",
              "      <td>0</td>\n",
              "      <td>1</td>\n",
              "      <td>-1</td>\n",
              "      <td>0.218218</td>\n",
              "      <td>1.000000</td>\n",
              "      <td>1.218218</td>\n",
              "      <td>0.218218</td>\n",
              "      <td>1.436436</td>\n",
              "      <td>2.218218</td>\n",
              "      <td>2.022830e-07</td>\n",
              "      <td>2.846635e-06</td>\n",
              "      <td>0.000735</td>\n",
              "      <td>0.000807</td>\n",
              "      <td>0.000000e+00</td>\n",
              "      <td>2.013714e-16</td>\n",
              "      <td>8.451050e-18</td>\n",
              "      <td>4.730001e-15</td>\n",
              "      <td>20</td>\n",
              "    </tr>\n",
              "    <tr>\n",
              "      <th>2</th>\n",
              "      <td>1018119</td>\n",
              "      <td>1112834</td>\n",
              "      <td>1</td>\n",
              "      <td>0.583333</td>\n",
              "      <td>0.312500</td>\n",
              "      <td>0.288675</td>\n",
              "      <td>0.481125</td>\n",
              "      <td>12</td>\n",
              "      <td>7</td>\n",
              "      <td>9</td>\n",
              "      <td>12</td>\n",
              "      <td>7</td>\n",
              "      <td>5</td>\n",
              "      <td>5.723648</td>\n",
              "      <td>1</td>\n",
              "      <td>1</td>\n",
              "      <td>2</td>\n",
              "      <td>0.353553</td>\n",
              "      <td>0.316228</td>\n",
              "      <td>0.669781</td>\n",
              "      <td>0.111803</td>\n",
              "      <td>1.023335</td>\n",
              "      <td>0.986009</td>\n",
              "      <td>8.508862e-07</td>\n",
              "      <td>5.510196e-07</td>\n",
              "      <td>0.000777</td>\n",
              "      <td>0.000758</td>\n",
              "      <td>1.953464e-17</td>\n",
              "      <td>1.959485e-17</td>\n",
              "      <td>1.308623e-18</td>\n",
              "      <td>7.574892e-19</td>\n",
              "      <td>84</td>\n",
              "    </tr>\n",
              "    <tr>\n",
              "      <th>3</th>\n",
              "      <td>1413625</td>\n",
              "      <td>433027</td>\n",
              "      <td>1</td>\n",
              "      <td>0.000000</td>\n",
              "      <td>0.000000</td>\n",
              "      <td>0.000000</td>\n",
              "      <td>0.000000</td>\n",
              "      <td>8</td>\n",
              "      <td>2</td>\n",
              "      <td>8</td>\n",
              "      <td>7</td>\n",
              "      <td>0</td>\n",
              "      <td>0</td>\n",
              "      <td>0.000000</td>\n",
              "      <td>1</td>\n",
              "      <td>1</td>\n",
              "      <td>6</td>\n",
              "      <td>0.577350</td>\n",
              "      <td>0.333333</td>\n",
              "      <td>0.910684</td>\n",
              "      <td>0.192450</td>\n",
              "      <td>1.488034</td>\n",
              "      <td>1.244017</td>\n",
              "      <td>1.008305e-06</td>\n",
              "      <td>7.110901e-07</td>\n",
              "      <td>0.000761</td>\n",
              "      <td>0.000739</td>\n",
              "      <td>1.498920e-17</td>\n",
              "      <td>3.241607e-15</td>\n",
              "      <td>2.651439e-16</td>\n",
              "      <td>2.499681e-17</td>\n",
              "      <td>16</td>\n",
              "    </tr>\n",
              "    <tr>\n",
              "      <th>4</th>\n",
              "      <td>1392993</td>\n",
              "      <td>1453960</td>\n",
              "      <td>1</td>\n",
              "      <td>0.454545</td>\n",
              "      <td>0.666667</td>\n",
              "      <td>0.263523</td>\n",
              "      <td>0.800000</td>\n",
              "      <td>10</td>\n",
              "      <td>6</td>\n",
              "      <td>10</td>\n",
              "      <td>10</td>\n",
              "      <td>5</td>\n",
              "      <td>8</td>\n",
              "      <td>8.290385</td>\n",
              "      <td>1</td>\n",
              "      <td>1</td>\n",
              "      <td>2</td>\n",
              "      <td>0.377964</td>\n",
              "      <td>0.301511</td>\n",
              "      <td>0.679476</td>\n",
              "      <td>0.113961</td>\n",
              "      <td>1.057440</td>\n",
              "      <td>0.980987</td>\n",
              "      <td>7.449960e-07</td>\n",
              "      <td>4.754708e-07</td>\n",
              "      <td>0.000770</td>\n",
              "      <td>0.000754</td>\n",
              "      <td>3.556369e-224</td>\n",
              "      <td>3.591658e-224</td>\n",
              "      <td>4.991326e-223</td>\n",
              "      <td>3.212966e-223</td>\n",
              "      <td>60</td>\n",
              "    </tr>\n",
              "  </tbody>\n",
              "</table>\n",
              "</div>"
            ],
            "text/plain": [
              "   source_node  destination_node  ...  authorities_d  prefer_Attach_followers\n",
              "0       848424            784690  ...   9.269213e-14                       84\n",
              "1      1822193           1077524  ...   4.730001e-15                       20\n",
              "2      1018119           1112834  ...   7.574892e-19                       84\n",
              "3      1413625            433027  ...   2.499681e-17                       16\n",
              "4      1392993           1453960  ...  3.212966e-223                       60\n",
              "\n",
              "[5 rows x 32 columns]"
            ]
          },
          "metadata": {
            "tags": []
          },
          "execution_count": 89
        }
      ]
    },
    {
      "cell_type": "markdown",
      "metadata": {
        "id": "djeUvRym8r5K",
        "colab_type": "text"
      },
      "source": [
        "#### Preferential Attachement for followers"
      ]
    },
    {
      "cell_type": "markdown",
      "metadata": {
        "id": "Xg4rSmNsk0V5",
        "colab_type": "text"
      },
      "source": [
        "preferential attachment=no. of follower of source node * number of follwers of destination node"
      ]
    },
    {
      "cell_type": "code",
      "metadata": {
        "id": "_WtZ3E-38r5K",
        "colab_type": "code",
        "outputId": "ab76aa56-a682-41d6-9870-6eac044917a3",
        "colab": {
          "base_uri": "https://localhost:8080/",
          "height": 309
        }
      },
      "source": [
        "#for train dataset\n",
        "nfs=np.array(df_final_train['num_followees_s'])\n",
        "nfd=np.array(df_final_train['num_followees_d'])\n",
        "preferential_followees=[]\n",
        "for i in range(len(nfs)):\n",
        "    preferential_followees.append(nfd[i]*nfs[i])\n",
        "df_final_train['prefer_Attach_followees']= preferential_followees\n",
        "df_final_train.head()"
      ],
      "execution_count": 0,
      "outputs": [
        {
          "output_type": "execute_result",
          "data": {
            "text/html": [
              "<div>\n",
              "<style scoped>\n",
              "    .dataframe tbody tr th:only-of-type {\n",
              "        vertical-align: middle;\n",
              "    }\n",
              "\n",
              "    .dataframe tbody tr th {\n",
              "        vertical-align: top;\n",
              "    }\n",
              "\n",
              "    .dataframe thead th {\n",
              "        text-align: right;\n",
              "    }\n",
              "</style>\n",
              "<table border=\"1\" class=\"dataframe\">\n",
              "  <thead>\n",
              "    <tr style=\"text-align: right;\">\n",
              "      <th></th>\n",
              "      <th>source_node</th>\n",
              "      <th>destination_node</th>\n",
              "      <th>indicator_link</th>\n",
              "      <th>jaccard_followers</th>\n",
              "      <th>jaccard_followees</th>\n",
              "      <th>cosine_followers</th>\n",
              "      <th>cosine_followees</th>\n",
              "      <th>num_followers_s</th>\n",
              "      <th>num_followers_d</th>\n",
              "      <th>num_followees_s</th>\n",
              "      <th>num_followees_d</th>\n",
              "      <th>inter_followers</th>\n",
              "      <th>inter_followees</th>\n",
              "      <th>adar_index</th>\n",
              "      <th>follows_back</th>\n",
              "      <th>same_comp</th>\n",
              "      <th>shortest_path</th>\n",
              "      <th>weight_in</th>\n",
              "      <th>weight_out</th>\n",
              "      <th>weight_f1</th>\n",
              "      <th>weight_f2</th>\n",
              "      <th>weight_f3</th>\n",
              "      <th>weight_f4</th>\n",
              "      <th>page_rank_s</th>\n",
              "      <th>page_rank_d</th>\n",
              "      <th>katz_s</th>\n",
              "      <th>katz_d</th>\n",
              "      <th>hubs_s</th>\n",
              "      <th>hubs_d</th>\n",
              "      <th>authorities_s</th>\n",
              "      <th>authorities_d</th>\n",
              "      <th>prefer_Attach_followers</th>\n",
              "      <th>prefer_Attach_followees</th>\n",
              "    </tr>\n",
              "  </thead>\n",
              "  <tbody>\n",
              "    <tr>\n",
              "      <th>0</th>\n",
              "      <td>273084</td>\n",
              "      <td>1505602</td>\n",
              "      <td>1</td>\n",
              "      <td>0.000000</td>\n",
              "      <td>0.000000</td>\n",
              "      <td>0.000000</td>\n",
              "      <td>0.00000</td>\n",
              "      <td>11</td>\n",
              "      <td>6</td>\n",
              "      <td>15</td>\n",
              "      <td>8</td>\n",
              "      <td>0</td>\n",
              "      <td>0</td>\n",
              "      <td>0.000000</td>\n",
              "      <td>0</td>\n",
              "      <td>1</td>\n",
              "      <td>4</td>\n",
              "      <td>0.377964</td>\n",
              "      <td>0.250000</td>\n",
              "      <td>0.627964</td>\n",
              "      <td>0.094491</td>\n",
              "      <td>1.005929</td>\n",
              "      <td>0.877964</td>\n",
              "      <td>2.045290e-06</td>\n",
              "      <td>3.459963e-07</td>\n",
              "      <td>0.000773</td>\n",
              "      <td>0.000756</td>\n",
              "      <td>1.943132e-13</td>\n",
              "      <td>1.941103e-13</td>\n",
              "      <td>9.226339e-16</td>\n",
              "      <td>2.231877e-15</td>\n",
              "      <td>66</td>\n",
              "      <td>120</td>\n",
              "    </tr>\n",
              "    <tr>\n",
              "      <th>1</th>\n",
              "      <td>546636</td>\n",
              "      <td>283651</td>\n",
              "      <td>1</td>\n",
              "      <td>0.000000</td>\n",
              "      <td>0.000000</td>\n",
              "      <td>0.000000</td>\n",
              "      <td>0.00000</td>\n",
              "      <td>4</td>\n",
              "      <td>4</td>\n",
              "      <td>3</td>\n",
              "      <td>9</td>\n",
              "      <td>0</td>\n",
              "      <td>0</td>\n",
              "      <td>0.000000</td>\n",
              "      <td>1</td>\n",
              "      <td>1</td>\n",
              "      <td>7</td>\n",
              "      <td>0.447214</td>\n",
              "      <td>0.500000</td>\n",
              "      <td>0.947214</td>\n",
              "      <td>0.223607</td>\n",
              "      <td>1.394427</td>\n",
              "      <td>1.447214</td>\n",
              "      <td>5.254600e-07</td>\n",
              "      <td>4.823673e-07</td>\n",
              "      <td>0.000746</td>\n",
              "      <td>0.000747</td>\n",
              "      <td>6.992918e-18</td>\n",
              "      <td>1.718237e-16</td>\n",
              "      <td>1.588886e-16</td>\n",
              "      <td>3.125732e-17</td>\n",
              "      <td>16</td>\n",
              "      <td>27</td>\n",
              "    </tr>\n",
              "    <tr>\n",
              "      <th>2</th>\n",
              "      <td>1059200</td>\n",
              "      <td>1664635</td>\n",
              "      <td>1</td>\n",
              "      <td>0.333333</td>\n",
              "      <td>0.578947</td>\n",
              "      <td>0.222718</td>\n",
              "      <td>0.73994</td>\n",
              "      <td>14</td>\n",
              "      <td>6</td>\n",
              "      <td>17</td>\n",
              "      <td>13</td>\n",
              "      <td>5</td>\n",
              "      <td>11</td>\n",
              "      <td>11.424889</td>\n",
              "      <td>1</td>\n",
              "      <td>1</td>\n",
              "      <td>2</td>\n",
              "      <td>0.377964</td>\n",
              "      <td>0.235702</td>\n",
              "      <td>0.613667</td>\n",
              "      <td>0.089087</td>\n",
              "      <td>0.991631</td>\n",
              "      <td>0.849369</td>\n",
              "      <td>1.085197e-06</td>\n",
              "      <td>3.825109e-07</td>\n",
              "      <td>0.000785</td>\n",
              "      <td>0.000754</td>\n",
              "      <td>1.791779e-17</td>\n",
              "      <td>1.799380e-17</td>\n",
              "      <td>1.414347e-17</td>\n",
              "      <td>5.376350e-19</td>\n",
              "      <td>84</td>\n",
              "      <td>221</td>\n",
              "    </tr>\n",
              "    <tr>\n",
              "      <th>3</th>\n",
              "      <td>1099490</td>\n",
              "      <td>664927</td>\n",
              "      <td>1</td>\n",
              "      <td>0.190476</td>\n",
              "      <td>0.100000</td>\n",
              "      <td>0.084327</td>\n",
              "      <td>0.18490</td>\n",
              "      <td>10</td>\n",
              "      <td>15</td>\n",
              "      <td>9</td>\n",
              "      <td>13</td>\n",
              "      <td>4</td>\n",
              "      <td>2</td>\n",
              "      <td>1.772964</td>\n",
              "      <td>1</td>\n",
              "      <td>1</td>\n",
              "      <td>2</td>\n",
              "      <td>0.250000</td>\n",
              "      <td>0.316228</td>\n",
              "      <td>0.566228</td>\n",
              "      <td>0.079057</td>\n",
              "      <td>0.816228</td>\n",
              "      <td>0.882456</td>\n",
              "      <td>1.029007e-06</td>\n",
              "      <td>1.070835e-06</td>\n",
              "      <td>0.000770</td>\n",
              "      <td>0.000792</td>\n",
              "      <td>4.069371e-16</td>\n",
              "      <td>1.669981e-15</td>\n",
              "      <td>2.134915e-15</td>\n",
              "      <td>1.056871e-14</td>\n",
              "      <td>150</td>\n",
              "      <td>117</td>\n",
              "    </tr>\n",
              "    <tr>\n",
              "      <th>4</th>\n",
              "      <td>137977</td>\n",
              "      <td>1745118</td>\n",
              "      <td>1</td>\n",
              "      <td>0.125000</td>\n",
              "      <td>0.000000</td>\n",
              "      <td>0.136083</td>\n",
              "      <td>0.00000</td>\n",
              "      <td>6</td>\n",
              "      <td>3</td>\n",
              "      <td>6</td>\n",
              "      <td>1</td>\n",
              "      <td>1</td>\n",
              "      <td>0</td>\n",
              "      <td>0.000000</td>\n",
              "      <td>0</td>\n",
              "      <td>1</td>\n",
              "      <td>2</td>\n",
              "      <td>0.500000</td>\n",
              "      <td>0.377964</td>\n",
              "      <td>0.877964</td>\n",
              "      <td>0.188982</td>\n",
              "      <td>1.377964</td>\n",
              "      <td>1.255929</td>\n",
              "      <td>8.132038e-07</td>\n",
              "      <td>4.440101e-07</td>\n",
              "      <td>0.000754</td>\n",
              "      <td>0.000743</td>\n",
              "      <td>2.353959e-21</td>\n",
              "      <td>1.921704e-20</td>\n",
              "      <td>1.189724e-17</td>\n",
              "      <td>1.936694e-21</td>\n",
              "      <td>18</td>\n",
              "      <td>6</td>\n",
              "    </tr>\n",
              "  </tbody>\n",
              "</table>\n",
              "</div>"
            ],
            "text/plain": [
              "   source_node  ...  prefer_Attach_followees\n",
              "0       273084  ...                      120\n",
              "1       546636  ...                       27\n",
              "2      1059200  ...                      221\n",
              "3      1099490  ...                      117\n",
              "4       137977  ...                        6\n",
              "\n",
              "[5 rows x 33 columns]"
            ]
          },
          "metadata": {
            "tags": []
          },
          "execution_count": 90
        }
      ]
    },
    {
      "cell_type": "code",
      "metadata": {
        "id": "dtguUai58r5M",
        "colab_type": "code",
        "outputId": "693d4ce4-47f5-4afd-fef1-514ee9eed992",
        "colab": {
          "base_uri": "https://localhost:8080/",
          "height": 309
        }
      },
      "source": [
        "#for test dataset\n",
        "nfs=np.array(df_final_test['num_followees_s'])\n",
        "nfd=np.array(df_final_test['num_followees_d'])\n",
        "preferential_followees=[]\n",
        "for i in range(len(nfs)):\n",
        "    preferential_followees.append(nfd[i]*nfs[i])\n",
        "df_final_test['prefer_Attach_followees']= preferential_followees\n",
        "df_final_test.head()"
      ],
      "execution_count": 0,
      "outputs": [
        {
          "output_type": "execute_result",
          "data": {
            "text/html": [
              "<div>\n",
              "<style scoped>\n",
              "    .dataframe tbody tr th:only-of-type {\n",
              "        vertical-align: middle;\n",
              "    }\n",
              "\n",
              "    .dataframe tbody tr th {\n",
              "        vertical-align: top;\n",
              "    }\n",
              "\n",
              "    .dataframe thead th {\n",
              "        text-align: right;\n",
              "    }\n",
              "</style>\n",
              "<table border=\"1\" class=\"dataframe\">\n",
              "  <thead>\n",
              "    <tr style=\"text-align: right;\">\n",
              "      <th></th>\n",
              "      <th>source_node</th>\n",
              "      <th>destination_node</th>\n",
              "      <th>indicator_link</th>\n",
              "      <th>jaccard_followers</th>\n",
              "      <th>jaccard_followees</th>\n",
              "      <th>cosine_followers</th>\n",
              "      <th>cosine_followees</th>\n",
              "      <th>num_followers_s</th>\n",
              "      <th>num_followers_d</th>\n",
              "      <th>num_followees_s</th>\n",
              "      <th>num_followees_d</th>\n",
              "      <th>inter_followers</th>\n",
              "      <th>inter_followees</th>\n",
              "      <th>adar_index</th>\n",
              "      <th>follows_back</th>\n",
              "      <th>same_comp</th>\n",
              "      <th>shortest_path</th>\n",
              "      <th>weight_in</th>\n",
              "      <th>weight_out</th>\n",
              "      <th>weight_f1</th>\n",
              "      <th>weight_f2</th>\n",
              "      <th>weight_f3</th>\n",
              "      <th>weight_f4</th>\n",
              "      <th>page_rank_s</th>\n",
              "      <th>page_rank_d</th>\n",
              "      <th>katz_s</th>\n",
              "      <th>katz_d</th>\n",
              "      <th>hubs_s</th>\n",
              "      <th>hubs_d</th>\n",
              "      <th>authorities_s</th>\n",
              "      <th>authorities_d</th>\n",
              "      <th>prefer_Attach_followers</th>\n",
              "      <th>prefer_Attach_followees</th>\n",
              "    </tr>\n",
              "  </thead>\n",
              "  <tbody>\n",
              "    <tr>\n",
              "      <th>0</th>\n",
              "      <td>848424</td>\n",
              "      <td>784690</td>\n",
              "      <td>1</td>\n",
              "      <td>0.052632</td>\n",
              "      <td>0.000000</td>\n",
              "      <td>0.029161</td>\n",
              "      <td>0.000000</td>\n",
              "      <td>6</td>\n",
              "      <td>14</td>\n",
              "      <td>6</td>\n",
              "      <td>9</td>\n",
              "      <td>1</td>\n",
              "      <td>0</td>\n",
              "      <td>0.000000</td>\n",
              "      <td>1</td>\n",
              "      <td>1</td>\n",
              "      <td>2</td>\n",
              "      <td>0.258199</td>\n",
              "      <td>0.377964</td>\n",
              "      <td>0.636163</td>\n",
              "      <td>0.097590</td>\n",
              "      <td>0.894362</td>\n",
              "      <td>1.014128</td>\n",
              "      <td>6.557971e-07</td>\n",
              "      <td>1.559547e-06</td>\n",
              "      <td>0.000754</td>\n",
              "      <td>0.000786</td>\n",
              "      <td>3.243237e-16</td>\n",
              "      <td>1.745627e-16</td>\n",
              "      <td>2.969838e-15</td>\n",
              "      <td>9.269213e-14</td>\n",
              "      <td>84</td>\n",
              "      <td>54</td>\n",
              "    </tr>\n",
              "    <tr>\n",
              "      <th>1</th>\n",
              "      <td>1822193</td>\n",
              "      <td>1077524</td>\n",
              "      <td>1</td>\n",
              "      <td>0.050000</td>\n",
              "      <td>0.000000</td>\n",
              "      <td>0.050000</td>\n",
              "      <td>0.000000</td>\n",
              "      <td>1</td>\n",
              "      <td>20</td>\n",
              "      <td>0</td>\n",
              "      <td>11</td>\n",
              "      <td>1</td>\n",
              "      <td>0</td>\n",
              "      <td>0.000000</td>\n",
              "      <td>0</td>\n",
              "      <td>1</td>\n",
              "      <td>-1</td>\n",
              "      <td>0.218218</td>\n",
              "      <td>1.000000</td>\n",
              "      <td>1.218218</td>\n",
              "      <td>0.218218</td>\n",
              "      <td>1.436436</td>\n",
              "      <td>2.218218</td>\n",
              "      <td>2.022830e-07</td>\n",
              "      <td>2.846635e-06</td>\n",
              "      <td>0.000735</td>\n",
              "      <td>0.000807</td>\n",
              "      <td>0.000000e+00</td>\n",
              "      <td>2.013714e-16</td>\n",
              "      <td>8.451050e-18</td>\n",
              "      <td>4.730001e-15</td>\n",
              "      <td>20</td>\n",
              "      <td>0</td>\n",
              "    </tr>\n",
              "    <tr>\n",
              "      <th>2</th>\n",
              "      <td>1018119</td>\n",
              "      <td>1112834</td>\n",
              "      <td>1</td>\n",
              "      <td>0.583333</td>\n",
              "      <td>0.312500</td>\n",
              "      <td>0.288675</td>\n",
              "      <td>0.481125</td>\n",
              "      <td>12</td>\n",
              "      <td>7</td>\n",
              "      <td>9</td>\n",
              "      <td>12</td>\n",
              "      <td>7</td>\n",
              "      <td>5</td>\n",
              "      <td>5.723648</td>\n",
              "      <td>1</td>\n",
              "      <td>1</td>\n",
              "      <td>2</td>\n",
              "      <td>0.353553</td>\n",
              "      <td>0.316228</td>\n",
              "      <td>0.669781</td>\n",
              "      <td>0.111803</td>\n",
              "      <td>1.023335</td>\n",
              "      <td>0.986009</td>\n",
              "      <td>8.508862e-07</td>\n",
              "      <td>5.510196e-07</td>\n",
              "      <td>0.000777</td>\n",
              "      <td>0.000758</td>\n",
              "      <td>1.953464e-17</td>\n",
              "      <td>1.959485e-17</td>\n",
              "      <td>1.308623e-18</td>\n",
              "      <td>7.574892e-19</td>\n",
              "      <td>84</td>\n",
              "      <td>108</td>\n",
              "    </tr>\n",
              "    <tr>\n",
              "      <th>3</th>\n",
              "      <td>1413625</td>\n",
              "      <td>433027</td>\n",
              "      <td>1</td>\n",
              "      <td>0.000000</td>\n",
              "      <td>0.000000</td>\n",
              "      <td>0.000000</td>\n",
              "      <td>0.000000</td>\n",
              "      <td>8</td>\n",
              "      <td>2</td>\n",
              "      <td>8</td>\n",
              "      <td>7</td>\n",
              "      <td>0</td>\n",
              "      <td>0</td>\n",
              "      <td>0.000000</td>\n",
              "      <td>1</td>\n",
              "      <td>1</td>\n",
              "      <td>6</td>\n",
              "      <td>0.577350</td>\n",
              "      <td>0.333333</td>\n",
              "      <td>0.910684</td>\n",
              "      <td>0.192450</td>\n",
              "      <td>1.488034</td>\n",
              "      <td>1.244017</td>\n",
              "      <td>1.008305e-06</td>\n",
              "      <td>7.110901e-07</td>\n",
              "      <td>0.000761</td>\n",
              "      <td>0.000739</td>\n",
              "      <td>1.498920e-17</td>\n",
              "      <td>3.241607e-15</td>\n",
              "      <td>2.651439e-16</td>\n",
              "      <td>2.499681e-17</td>\n",
              "      <td>16</td>\n",
              "      <td>56</td>\n",
              "    </tr>\n",
              "    <tr>\n",
              "      <th>4</th>\n",
              "      <td>1392993</td>\n",
              "      <td>1453960</td>\n",
              "      <td>1</td>\n",
              "      <td>0.454545</td>\n",
              "      <td>0.666667</td>\n",
              "      <td>0.263523</td>\n",
              "      <td>0.800000</td>\n",
              "      <td>10</td>\n",
              "      <td>6</td>\n",
              "      <td>10</td>\n",
              "      <td>10</td>\n",
              "      <td>5</td>\n",
              "      <td>8</td>\n",
              "      <td>8.290385</td>\n",
              "      <td>1</td>\n",
              "      <td>1</td>\n",
              "      <td>2</td>\n",
              "      <td>0.377964</td>\n",
              "      <td>0.301511</td>\n",
              "      <td>0.679476</td>\n",
              "      <td>0.113961</td>\n",
              "      <td>1.057440</td>\n",
              "      <td>0.980987</td>\n",
              "      <td>7.449960e-07</td>\n",
              "      <td>4.754708e-07</td>\n",
              "      <td>0.000770</td>\n",
              "      <td>0.000754</td>\n",
              "      <td>3.556369e-224</td>\n",
              "      <td>3.591658e-224</td>\n",
              "      <td>4.991326e-223</td>\n",
              "      <td>3.212966e-223</td>\n",
              "      <td>60</td>\n",
              "      <td>100</td>\n",
              "    </tr>\n",
              "  </tbody>\n",
              "</table>\n",
              "</div>"
            ],
            "text/plain": [
              "   source_node  ...  prefer_Attach_followees\n",
              "0       848424  ...                       54\n",
              "1      1822193  ...                        0\n",
              "2      1018119  ...                      108\n",
              "3      1413625  ...                       56\n",
              "4      1392993  ...                      100\n",
              "\n",
              "[5 rows x 33 columns]"
            ]
          },
          "metadata": {
            "tags": []
          },
          "execution_count": 91
        }
      ]
    },
    {
      "cell_type": "markdown",
      "metadata": {
        "id": "fsm7iVH68r5N",
        "colab_type": "text"
      },
      "source": [
        "## 5.5 Adding new set of features\n",
        "\n",
        "__we will create these each of these features for both train and test data points__\n",
        "<ol>\n",
        "<li>SVD features for both source and destination</li>\n",
        "</ol>"
      ]
    },
    {
      "cell_type": "code",
      "metadata": {
        "id": "kqghmqXd8r5O",
        "colab_type": "code",
        "colab": {}
      },
      "source": [
        "def svd(x, S):\n",
        "    try:\n",
        "        z = sadj_dict[x]\n",
        "        return S[z]\n",
        "    except:\n",
        "        return [0,0,0,0,0,0]"
      ],
      "execution_count": 0,
      "outputs": []
    },
    {
      "cell_type": "code",
      "metadata": {
        "id": "wTSbH0Nn8r5P",
        "colab_type": "code",
        "colab": {}
      },
      "source": [
        "#for svd features to get feature vector creating a dict node val and inedx in svd vector\n",
        "sadj_col = sorted(train_graph.nodes())\n",
        "sadj_dict = { val:idx for idx,val in enumerate(sadj_col)}"
      ],
      "execution_count": 0,
      "outputs": []
    },
    {
      "cell_type": "code",
      "metadata": {
        "id": "Yf7f-sQl8r5S",
        "colab_type": "code",
        "colab": {}
      },
      "source": [
        "Adj = nx.adjacency_matrix(train_graph,nodelist=sorted(train_graph.nodes())).asfptype()"
      ],
      "execution_count": 0,
      "outputs": []
    },
    {
      "cell_type": "code",
      "metadata": {
        "id": "DLr0bnnA8r5U",
        "colab_type": "code",
        "outputId": "fba53e11-27e0-487b-8b3c-25fe53905adf",
        "colab": {
          "base_uri": "https://localhost:8080/",
          "height": 85
        }
      },
      "source": [
        "U, s, V = svds(Adj, k = 6)\n",
        "print('Adjacency matrix Shape',Adj.shape)\n",
        "print('U Shape',U.shape)\n",
        "print('V Shape',V.shape)\n",
        "print('s Shape',s.shape)"
      ],
      "execution_count": 0,
      "outputs": [
        {
          "output_type": "stream",
          "text": [
            "Adjacency matrix Shape (1780722, 1780722)\n",
            "U Shape (1780722, 6)\n",
            "V Shape (6, 1780722)\n",
            "s Shape (6,)\n"
          ],
          "name": "stdout"
        }
      ]
    },
    {
      "cell_type": "code",
      "metadata": {
        "id": "umm0T3Hj8r5Z",
        "colab_type": "code",
        "colab": {}
      },
      "source": [
        "\n",
        "    #===================================================================================================\n",
        "    \n",
        "df_final_train[['svd_u_s_1', 'svd_u_s_2','svd_u_s_3', 'svd_u_s_4', 'svd_u_s_5', 'svd_u_s_6']] = \\\n",
        "df_final_train.source_node.apply(lambda x: svd(x, U)).apply(pd.Series)\n",
        "    \n",
        "df_final_train[['svd_u_d_1', 'svd_u_d_2', 'svd_u_d_3', 'svd_u_d_4', 'svd_u_d_5','svd_u_d_6']] = \\\n",
        "df_final_train.destination_node.apply(lambda x: svd(x, U)).apply(pd.Series)\n",
        "    #===================================================================================================\n",
        "    \n",
        "df_final_train[['svd_v_s_1','svd_v_s_2', 'svd_v_s_3', 'svd_v_s_4', 'svd_v_s_5', 'svd_v_s_6',]] = \\\n",
        "df_final_train.source_node.apply(lambda x: svd(x, V.T)).apply(pd.Series)\n",
        "\n",
        "df_final_train[['svd_v_d_1', 'svd_v_d_2', 'svd_v_d_3', 'svd_v_d_4', 'svd_v_d_5','svd_v_d_6']] = \\\n",
        "df_final_train.destination_node.apply(lambda x: svd(x, V.T)).apply(pd.Series)\n",
        "    #===================================================================================================\n",
        "    \n",
        "df_final_test[['svd_u_s_1', 'svd_u_s_2','svd_u_s_3', 'svd_u_s_4', 'svd_u_s_5', 'svd_u_s_6']] = \\\n",
        "df_final_test.source_node.apply(lambda x: svd(x, U)).apply(pd.Series)\n",
        "    \n",
        "df_final_test[['svd_u_d_1', 'svd_u_d_2', 'svd_u_d_3', 'svd_u_d_4', 'svd_u_d_5','svd_u_d_6']] = \\\n",
        "df_final_test.destination_node.apply(lambda x: svd(x, U)).apply(pd.Series)\n",
        "\n",
        "    #===================================================================================================\n",
        "    \n",
        "df_final_test[['svd_v_s_1','svd_v_s_2', 'svd_v_s_3', 'svd_v_s_4', 'svd_v_s_5', 'svd_v_s_6',]] = \\\n",
        "df_final_test.source_node.apply(lambda x: svd(x, V.T)).apply(pd.Series)\n",
        "\n",
        "df_final_test[['svd_v_d_1', 'svd_v_d_2', 'svd_v_d_3', 'svd_v_d_4', 'svd_v_d_5','svd_v_d_6']] = \\\n",
        "df_final_test.destination_node.apply(lambda x: svd(x, V.T)).apply(pd.Series)\n",
        "    #===================================================================================================\n",
        "\n",
        "#     hdf = HDFStore('data/fea_sample/storage_sample_stage4.h5')\n",
        "#     hdf.put('train_df',df_final_train, format='table', data_columns=True)\n",
        "#     hdf.put('test_df',df_final_test, format='table', data_columns=True)\n",
        "#     hdf.close()"
      ],
      "execution_count": 0,
      "outputs": []
    },
    {
      "cell_type": "code",
      "metadata": {
        "id": "HP1hgS0P8r5d",
        "colab_type": "code",
        "outputId": "a3b6ad5b-8e0f-4daa-b7d6-23808839f247",
        "colab": {
          "base_uri": "https://localhost:8080/",
          "height": 309
        }
      },
      "source": [
        "df_final_train.head()"
      ],
      "execution_count": 0,
      "outputs": [
        {
          "output_type": "execute_result",
          "data": {
            "text/html": [
              "<div>\n",
              "<style scoped>\n",
              "    .dataframe tbody tr th:only-of-type {\n",
              "        vertical-align: middle;\n",
              "    }\n",
              "\n",
              "    .dataframe tbody tr th {\n",
              "        vertical-align: top;\n",
              "    }\n",
              "\n",
              "    .dataframe thead th {\n",
              "        text-align: right;\n",
              "    }\n",
              "</style>\n",
              "<table border=\"1\" class=\"dataframe\">\n",
              "  <thead>\n",
              "    <tr style=\"text-align: right;\">\n",
              "      <th></th>\n",
              "      <th>source_node</th>\n",
              "      <th>destination_node</th>\n",
              "      <th>indicator_link</th>\n",
              "      <th>jaccard_followers</th>\n",
              "      <th>jaccard_followees</th>\n",
              "      <th>cosine_followers</th>\n",
              "      <th>cosine_followees</th>\n",
              "      <th>num_followers_s</th>\n",
              "      <th>num_followers_d</th>\n",
              "      <th>num_followees_s</th>\n",
              "      <th>num_followees_d</th>\n",
              "      <th>inter_followers</th>\n",
              "      <th>inter_followees</th>\n",
              "      <th>adar_index</th>\n",
              "      <th>follows_back</th>\n",
              "      <th>same_comp</th>\n",
              "      <th>shortest_path</th>\n",
              "      <th>weight_in</th>\n",
              "      <th>weight_out</th>\n",
              "      <th>weight_f1</th>\n",
              "      <th>weight_f2</th>\n",
              "      <th>weight_f3</th>\n",
              "      <th>weight_f4</th>\n",
              "      <th>page_rank_s</th>\n",
              "      <th>page_rank_d</th>\n",
              "      <th>katz_s</th>\n",
              "      <th>katz_d</th>\n",
              "      <th>hubs_s</th>\n",
              "      <th>hubs_d</th>\n",
              "      <th>authorities_s</th>\n",
              "      <th>authorities_d</th>\n",
              "      <th>prefer_Attach_followers</th>\n",
              "      <th>prefer_Attach_followees</th>\n",
              "      <th>svd_u_s_1</th>\n",
              "      <th>svd_u_s_2</th>\n",
              "      <th>svd_u_s_3</th>\n",
              "      <th>svd_u_s_4</th>\n",
              "      <th>svd_u_s_5</th>\n",
              "      <th>svd_u_s_6</th>\n",
              "      <th>svd_u_d_1</th>\n",
              "      <th>svd_u_d_2</th>\n",
              "      <th>svd_u_d_3</th>\n",
              "      <th>svd_u_d_4</th>\n",
              "      <th>svd_u_d_5</th>\n",
              "      <th>svd_u_d_6</th>\n",
              "      <th>svd_v_s_1</th>\n",
              "      <th>svd_v_s_2</th>\n",
              "      <th>svd_v_s_3</th>\n",
              "      <th>svd_v_s_4</th>\n",
              "      <th>svd_v_s_5</th>\n",
              "      <th>svd_v_s_6</th>\n",
              "      <th>svd_v_d_1</th>\n",
              "      <th>svd_v_d_2</th>\n",
              "      <th>svd_v_d_3</th>\n",
              "      <th>svd_v_d_4</th>\n",
              "      <th>svd_v_d_5</th>\n",
              "      <th>svd_v_d_6</th>\n",
              "    </tr>\n",
              "  </thead>\n",
              "  <tbody>\n",
              "    <tr>\n",
              "      <th>0</th>\n",
              "      <td>273084</td>\n",
              "      <td>1505602</td>\n",
              "      <td>1</td>\n",
              "      <td>0.000000</td>\n",
              "      <td>0.000000</td>\n",
              "      <td>0.000000</td>\n",
              "      <td>0.00000</td>\n",
              "      <td>11</td>\n",
              "      <td>6</td>\n",
              "      <td>15</td>\n",
              "      <td>8</td>\n",
              "      <td>0</td>\n",
              "      <td>0</td>\n",
              "      <td>0.000000</td>\n",
              "      <td>0</td>\n",
              "      <td>1</td>\n",
              "      <td>4</td>\n",
              "      <td>0.377964</td>\n",
              "      <td>0.250000</td>\n",
              "      <td>0.627964</td>\n",
              "      <td>0.094491</td>\n",
              "      <td>1.005929</td>\n",
              "      <td>0.877964</td>\n",
              "      <td>2.045290e-06</td>\n",
              "      <td>3.459963e-07</td>\n",
              "      <td>0.000773</td>\n",
              "      <td>0.000756</td>\n",
              "      <td>1.943132e-13</td>\n",
              "      <td>1.941103e-13</td>\n",
              "      <td>9.226339e-16</td>\n",
              "      <td>2.231877e-15</td>\n",
              "      <td>66</td>\n",
              "      <td>120</td>\n",
              "      <td>-1.666333e-13</td>\n",
              "      <td>4.613822e-13</td>\n",
              "      <td>1.043041e-05</td>\n",
              "      <td>6.678030e-13</td>\n",
              "      <td>2.451106e-13</td>\n",
              "      <td>3.584945e-12</td>\n",
              "      <td>-2.038018e-11</td>\n",
              "      <td>5.397914e-13</td>\n",
              "      <td>1.068943e-06</td>\n",
              "      <td>1.192461e-12</td>\n",
              "      <td>2.279488e-12</td>\n",
              "      <td>3.581202e-12</td>\n",
              "      <td>-7.216151e-13</td>\n",
              "      <td>3.926264e-13</td>\n",
              "      <td>1.983700e-06</td>\n",
              "      <td>1.545089e-13</td>\n",
              "      <td>8.108438e-13</td>\n",
              "      <td>1.719704e-14</td>\n",
              "      <td>-1.355369e-12</td>\n",
              "      <td>4.675320e-13</td>\n",
              "      <td>1.128586e-06</td>\n",
              "      <td>6.616714e-14</td>\n",
              "      <td>9.771079e-13</td>\n",
              "      <td>4.160012e-14</td>\n",
              "    </tr>\n",
              "    <tr>\n",
              "      <th>1</th>\n",
              "      <td>546636</td>\n",
              "      <td>283651</td>\n",
              "      <td>1</td>\n",
              "      <td>0.000000</td>\n",
              "      <td>0.000000</td>\n",
              "      <td>0.000000</td>\n",
              "      <td>0.00000</td>\n",
              "      <td>4</td>\n",
              "      <td>4</td>\n",
              "      <td>3</td>\n",
              "      <td>9</td>\n",
              "      <td>0</td>\n",
              "      <td>0</td>\n",
              "      <td>0.000000</td>\n",
              "      <td>1</td>\n",
              "      <td>1</td>\n",
              "      <td>7</td>\n",
              "      <td>0.447214</td>\n",
              "      <td>0.500000</td>\n",
              "      <td>0.947214</td>\n",
              "      <td>0.223607</td>\n",
              "      <td>1.394427</td>\n",
              "      <td>1.447214</td>\n",
              "      <td>5.254600e-07</td>\n",
              "      <td>4.823673e-07</td>\n",
              "      <td>0.000746</td>\n",
              "      <td>0.000747</td>\n",
              "      <td>6.992918e-18</td>\n",
              "      <td>1.718237e-16</td>\n",
              "      <td>1.588886e-16</td>\n",
              "      <td>3.125732e-17</td>\n",
              "      <td>16</td>\n",
              "      <td>27</td>\n",
              "      <td>-4.294535e-14</td>\n",
              "      <td>5.225240e-12</td>\n",
              "      <td>4.070597e-13</td>\n",
              "      <td>1.157269e-14</td>\n",
              "      <td>3.565339e-14</td>\n",
              "      <td>1.291348e-16</td>\n",
              "      <td>-1.024905e-11</td>\n",
              "      <td>1.633155e-11</td>\n",
              "      <td>1.479535e-11</td>\n",
              "      <td>7.436574e-12</td>\n",
              "      <td>3.390846e-12</td>\n",
              "      <td>3.170023e-15</td>\n",
              "      <td>-2.895648e-13</td>\n",
              "      <td>1.769860e-13</td>\n",
              "      <td>9.854417e-12</td>\n",
              "      <td>3.115966e-13</td>\n",
              "      <td>1.348862e-12</td>\n",
              "      <td>2.961536e-15</td>\n",
              "      <td>-4.095193e-13</td>\n",
              "      <td>4.143093e-13</td>\n",
              "      <td>6.233152e-12</td>\n",
              "      <td>7.212227e-13</td>\n",
              "      <td>1.837750e-13</td>\n",
              "      <td>5.826093e-16</td>\n",
              "    </tr>\n",
              "    <tr>\n",
              "      <th>2</th>\n",
              "      <td>1059200</td>\n",
              "      <td>1664635</td>\n",
              "      <td>1</td>\n",
              "      <td>0.333333</td>\n",
              "      <td>0.578947</td>\n",
              "      <td>0.222718</td>\n",
              "      <td>0.73994</td>\n",
              "      <td>14</td>\n",
              "      <td>6</td>\n",
              "      <td>17</td>\n",
              "      <td>13</td>\n",
              "      <td>5</td>\n",
              "      <td>11</td>\n",
              "      <td>11.424889</td>\n",
              "      <td>1</td>\n",
              "      <td>1</td>\n",
              "      <td>2</td>\n",
              "      <td>0.377964</td>\n",
              "      <td>0.235702</td>\n",
              "      <td>0.613667</td>\n",
              "      <td>0.089087</td>\n",
              "      <td>0.991631</td>\n",
              "      <td>0.849369</td>\n",
              "      <td>1.085197e-06</td>\n",
              "      <td>3.825109e-07</td>\n",
              "      <td>0.000785</td>\n",
              "      <td>0.000754</td>\n",
              "      <td>1.791779e-17</td>\n",
              "      <td>1.799380e-17</td>\n",
              "      <td>1.414347e-17</td>\n",
              "      <td>5.376350e-19</td>\n",
              "      <td>84</td>\n",
              "      <td>221</td>\n",
              "      <td>-2.078943e-17</td>\n",
              "      <td>6.709027e-16</td>\n",
              "      <td>1.051139e-15</td>\n",
              "      <td>9.945716e-13</td>\n",
              "      <td>2.091685e-15</td>\n",
              "      <td>3.308249e-16</td>\n",
              "      <td>-2.284525e-17</td>\n",
              "      <td>6.707159e-16</td>\n",
              "      <td>1.060685e-15</td>\n",
              "      <td>9.955889e-13</td>\n",
              "      <td>2.151094e-15</td>\n",
              "      <td>3.323922e-16</td>\n",
              "      <td>-2.263675e-16</td>\n",
              "      <td>1.421757e-16</td>\n",
              "      <td>1.192485e-15</td>\n",
              "      <td>3.325415e-13</td>\n",
              "      <td>7.828722e-15</td>\n",
              "      <td>2.636437e-16</td>\n",
              "      <td>-1.021004e-18</td>\n",
              "      <td>3.012316e-17</td>\n",
              "      <td>4.625290e-17</td>\n",
              "      <td>4.257590e-14</td>\n",
              "      <td>7.681182e-17</td>\n",
              "      <td>1.002961e-17</td>\n",
              "    </tr>\n",
              "    <tr>\n",
              "      <th>3</th>\n",
              "      <td>1099490</td>\n",
              "      <td>664927</td>\n",
              "      <td>1</td>\n",
              "      <td>0.190476</td>\n",
              "      <td>0.100000</td>\n",
              "      <td>0.084327</td>\n",
              "      <td>0.18490</td>\n",
              "      <td>10</td>\n",
              "      <td>15</td>\n",
              "      <td>9</td>\n",
              "      <td>13</td>\n",
              "      <td>4</td>\n",
              "      <td>2</td>\n",
              "      <td>1.772964</td>\n",
              "      <td>1</td>\n",
              "      <td>1</td>\n",
              "      <td>2</td>\n",
              "      <td>0.250000</td>\n",
              "      <td>0.316228</td>\n",
              "      <td>0.566228</td>\n",
              "      <td>0.079057</td>\n",
              "      <td>0.816228</td>\n",
              "      <td>0.882456</td>\n",
              "      <td>1.029007e-06</td>\n",
              "      <td>1.070835e-06</td>\n",
              "      <td>0.000770</td>\n",
              "      <td>0.000792</td>\n",
              "      <td>4.069371e-16</td>\n",
              "      <td>1.669981e-15</td>\n",
              "      <td>2.134915e-15</td>\n",
              "      <td>1.056871e-14</td>\n",
              "      <td>150</td>\n",
              "      <td>117</td>\n",
              "      <td>-2.666987e-13</td>\n",
              "      <td>7.507318e-12</td>\n",
              "      <td>2.870107e-07</td>\n",
              "      <td>1.996837e-12</td>\n",
              "      <td>1.057447e-11</td>\n",
              "      <td>7.507641e-15</td>\n",
              "      <td>-5.011533e-13</td>\n",
              "      <td>1.001640e-12</td>\n",
              "      <td>2.588633e-06</td>\n",
              "      <td>3.120371e-12</td>\n",
              "      <td>1.080633e-11</td>\n",
              "      <td>3.081034e-14</td>\n",
              "      <td>-2.408339e-13</td>\n",
              "      <td>6.985826e-12</td>\n",
              "      <td>3.582105e-07</td>\n",
              "      <td>7.244082e-12</td>\n",
              "      <td>7.019879e-13</td>\n",
              "      <td>3.979285e-14</td>\n",
              "      <td>-1.784962e-12</td>\n",
              "      <td>1.119161e-11</td>\n",
              "      <td>2.336196e-06</td>\n",
              "      <td>1.581177e-11</td>\n",
              "      <td>1.296474e-12</td>\n",
              "      <td>1.969910e-13</td>\n",
              "    </tr>\n",
              "    <tr>\n",
              "      <th>4</th>\n",
              "      <td>137977</td>\n",
              "      <td>1745118</td>\n",
              "      <td>1</td>\n",
              "      <td>0.125000</td>\n",
              "      <td>0.000000</td>\n",
              "      <td>0.136083</td>\n",
              "      <td>0.00000</td>\n",
              "      <td>6</td>\n",
              "      <td>3</td>\n",
              "      <td>6</td>\n",
              "      <td>1</td>\n",
              "      <td>1</td>\n",
              "      <td>0</td>\n",
              "      <td>0.000000</td>\n",
              "      <td>0</td>\n",
              "      <td>1</td>\n",
              "      <td>2</td>\n",
              "      <td>0.500000</td>\n",
              "      <td>0.377964</td>\n",
              "      <td>0.877964</td>\n",
              "      <td>0.188982</td>\n",
              "      <td>1.377964</td>\n",
              "      <td>1.255929</td>\n",
              "      <td>8.132038e-07</td>\n",
              "      <td>4.440101e-07</td>\n",
              "      <td>0.000754</td>\n",
              "      <td>0.000743</td>\n",
              "      <td>2.353959e-21</td>\n",
              "      <td>1.921704e-20</td>\n",
              "      <td>1.189724e-17</td>\n",
              "      <td>1.936694e-21</td>\n",
              "      <td>18</td>\n",
              "      <td>6</td>\n",
              "      <td>-3.637926e-18</td>\n",
              "      <td>1.500414e-16</td>\n",
              "      <td>9.583991e-17</td>\n",
              "      <td>1.392194e-17</td>\n",
              "      <td>3.344254e-18</td>\n",
              "      <td>-5.074914e-20</td>\n",
              "      <td>6.285832e-22</td>\n",
              "      <td>2.236001e-17</td>\n",
              "      <td>3.557622e-18</td>\n",
              "      <td>1.470918e-18</td>\n",
              "      <td>5.613949e-19</td>\n",
              "      <td>6.492539e-19</td>\n",
              "      <td>-2.920966e-17</td>\n",
              "      <td>1.149702e-15</td>\n",
              "      <td>1.882646e-16</td>\n",
              "      <td>5.644831e-17</td>\n",
              "      <td>3.192655e-17</td>\n",
              "      <td>2.217581e-16</td>\n",
              "      <td>-1.709857e-19</td>\n",
              "      <td>8.852002e-18</td>\n",
              "      <td>1.709812e-17</td>\n",
              "      <td>6.126578e-18</td>\n",
              "      <td>1.271024e-18</td>\n",
              "      <td>3.328617e-20</td>\n",
              "    </tr>\n",
              "  </tbody>\n",
              "</table>\n",
              "</div>"
            ],
            "text/plain": [
              "   source_node  destination_node  ...     svd_v_d_5     svd_v_d_6\n",
              "0       273084           1505602  ...  9.771079e-13  4.160012e-14\n",
              "1       546636            283651  ...  1.837750e-13  5.826093e-16\n",
              "2      1059200           1664635  ...  7.681182e-17  1.002961e-17\n",
              "3      1099490            664927  ...  1.296474e-12  1.969910e-13\n",
              "4       137977           1745118  ...  1.271024e-18  3.328617e-20\n",
              "\n",
              "[5 rows x 57 columns]"
            ]
          },
          "metadata": {
            "tags": []
          },
          "execution_count": 99
        }
      ]
    },
    {
      "cell_type": "code",
      "metadata": {
        "id": "DYR0fqnz8r5f",
        "colab_type": "code",
        "outputId": "842f8e79-6fc8-4792-b004-680fcd4fa72c",
        "colab": {
          "base_uri": "https://localhost:8080/",
          "height": 272
        }
      },
      "source": [
        "df_final_train.columns"
      ],
      "execution_count": 0,
      "outputs": [
        {
          "output_type": "execute_result",
          "data": {
            "text/plain": [
              "Index(['source_node', 'destination_node', 'indicator_link',\n",
              "       'jaccard_followers', 'jaccard_followees', 'cosine_followers',\n",
              "       'cosine_followees', 'num_followers_s', 'num_followers_d',\n",
              "       'num_followees_s', 'num_followees_d', 'inter_followers',\n",
              "       'inter_followees', 'adar_index', 'follows_back', 'same_comp',\n",
              "       'shortest_path', 'weight_in', 'weight_out', 'weight_f1', 'weight_f2',\n",
              "       'weight_f3', 'weight_f4', 'page_rank_s', 'page_rank_d', 'katz_s',\n",
              "       'katz_d', 'hubs_s', 'hubs_d', 'authorities_s', 'authorities_d',\n",
              "       'prefer_Attach_followers', 'prefer_Attach_followees', 'svd_u_s_1',\n",
              "       'svd_u_s_2', 'svd_u_s_3', 'svd_u_s_4', 'svd_u_s_5', 'svd_u_s_6',\n",
              "       'svd_u_d_1', 'svd_u_d_2', 'svd_u_d_3', 'svd_u_d_4', 'svd_u_d_5',\n",
              "       'svd_u_d_6', 'svd_v_s_1', 'svd_v_s_2', 'svd_v_s_3', 'svd_v_s_4',\n",
              "       'svd_v_s_5', 'svd_v_s_6', 'svd_v_d_1', 'svd_v_d_2', 'svd_v_d_3',\n",
              "       'svd_v_d_4', 'svd_v_d_5', 'svd_v_d_6'],\n",
              "      dtype='object')"
            ]
          },
          "metadata": {
            "tags": []
          },
          "execution_count": 100
        }
      ]
    },
    {
      "cell_type": "markdown",
      "metadata": {
        "id": "oGYjCqCH8r5i",
        "colab_type": "text"
      },
      "source": [
        "### Adding feature svd_dot"
      ]
    },
    {
      "cell_type": "markdown",
      "metadata": {
        "id": "aiPHdMLT8r5i",
        "colab_type": "text"
      },
      "source": [
        " svd_dot is Dot product between sourse node svd and destination node svd features"
      ]
    },
    {
      "cell_type": "code",
      "metadata": {
        "id": "w0uXs96I8r5o",
        "colab_type": "code",
        "outputId": "25cf2c73-911a-4cee-9ad1-9256fcb57749",
        "colab": {
          "base_uri": "https://localhost:8080/",
          "height": 51
        }
      },
      "source": [
        "ss = df_final_train[['svd_u_s_1','svd_u_s_2','svd_u_s_3','svd_u_s_4','svd_u_s_5','svd_u_s_6']].values\n",
        "dd = df_final_train[['svd_u_d_1','svd_u_d_2','svd_u_d_3','svd_u_d_4','svd_u_d_5','svd_u_d_6']].values\n",
        "svd_u_dot_train = []\n",
        "for i in range(df_final_train.shape[0]):\n",
        "    res = np.dot(ss[i],dd[i])\n",
        "    svd_u_dot_train.append(res)\n",
        "\n",
        "ss = df_final_test[['svd_u_s_1','svd_u_s_2','svd_u_s_3','svd_u_s_4','svd_u_s_5','svd_u_s_6']].values\n",
        "dd = df_final_test[['svd_u_d_1','svd_u_d_2','svd_u_d_3','svd_u_d_4','svd_u_d_5','svd_u_d_6']].values\n",
        "svd_u_dot_test = []\n",
        "for i in range(df_final_test.shape[0]):\n",
        "    res = np.dot(ss[i],dd[i])\n",
        "    svd_u_dot_test.append(res)\n",
        "    \n",
        "print(\"svd_dot_train \",len(svd_u_dot_train))\n",
        "print(\"svd_dot_test \",len(svd_u_dot_test)) \n"
      ],
      "execution_count": 0,
      "outputs": [
        {
          "output_type": "stream",
          "text": [
            "svd_dot_train  100002\n",
            "svd_dot_test  50002\n"
          ],
          "name": "stdout"
        }
      ]
    },
    {
      "cell_type": "code",
      "metadata": {
        "id": "NwJxfYjajwXW",
        "colab_type": "code",
        "outputId": "e8425c7c-a61e-47bc-bc62-91fcd24b118a",
        "colab": {
          "base_uri": "https://localhost:8080/",
          "height": 51
        }
      },
      "source": [
        "ss = df_final_train[['svd_v_s_1','svd_v_s_2','svd_v_s_3','svd_v_s_4','svd_v_s_5','svd_v_s_6']].values\n",
        "dd = df_final_train[['svd_v_d_1','svd_v_d_2','svd_v_d_3','svd_v_d_4','svd_v_d_5','svd_v_d_6']].values\n",
        "svd_v_dot_train = []\n",
        "for i in range(df_final_train.shape[0]):\n",
        "    res = np.dot(ss[i],dd[i])\n",
        "    svd_v_dot_train.append(res)\n",
        "\n",
        "ss = df_final_test[['svd_v_s_1','svd_v_s_2','svd_v_s_3','svd_v_s_4','svd_v_s_5','svd_v_s_6']].values\n",
        "dd = df_final_test[['svd_v_d_1','svd_v_d_2','svd_v_d_3','svd_v_d_4','svd_v_d_5','svd_v_d_6']].values\n",
        "svd_v_dot_test = []\n",
        "for i in range(df_final_test.shape[0]):\n",
        "    res = np.dot(ss[i],dd[i])\n",
        "    svd_v_dot_test.append(res)\n",
        "    \n",
        "print(\"svd_dot_train \",len(svd_v_dot_train))\n",
        "print(\"svd_dot_test \",len(svd_v_dot_test))"
      ],
      "execution_count": 0,
      "outputs": [
        {
          "output_type": "stream",
          "text": [
            "svd_dot_train  100002\n",
            "svd_dot_test  50002\n"
          ],
          "name": "stdout"
        }
      ]
    },
    {
      "cell_type": "code",
      "metadata": {
        "id": "_1anL0X_pvNC",
        "colab_type": "code",
        "colab": {}
      },
      "source": [
        "df_final_train['svd_dot_train']=svd_v_dot_train"
      ],
      "execution_count": 0,
      "outputs": []
    },
    {
      "cell_type": "code",
      "metadata": {
        "id": "uxfX5XfvpZph",
        "colab_type": "code",
        "colab": {}
      },
      "source": [
        "df_final_test[\"svd_dot_train\"]=svd_v_dot_test"
      ],
      "execution_count": 0,
      "outputs": []
    },
    {
      "cell_type": "code",
      "metadata": {
        "id": "x_FmmLk78r5q",
        "colab_type": "code",
        "outputId": "cb52f9d7-ea60-42aa-e388-339a32d05eab",
        "colab": {
          "base_uri": "https://localhost:8080/",
          "height": 309
        }
      },
      "source": [
        "df_final_train.head()"
      ],
      "execution_count": 0,
      "outputs": [
        {
          "output_type": "execute_result",
          "data": {
            "text/html": [
              "<div>\n",
              "<style scoped>\n",
              "    .dataframe tbody tr th:only-of-type {\n",
              "        vertical-align: middle;\n",
              "    }\n",
              "\n",
              "    .dataframe tbody tr th {\n",
              "        vertical-align: top;\n",
              "    }\n",
              "\n",
              "    .dataframe thead th {\n",
              "        text-align: right;\n",
              "    }\n",
              "</style>\n",
              "<table border=\"1\" class=\"dataframe\">\n",
              "  <thead>\n",
              "    <tr style=\"text-align: right;\">\n",
              "      <th></th>\n",
              "      <th>source_node</th>\n",
              "      <th>destination_node</th>\n",
              "      <th>indicator_link</th>\n",
              "      <th>jaccard_followers</th>\n",
              "      <th>jaccard_followees</th>\n",
              "      <th>cosine_followers</th>\n",
              "      <th>cosine_followees</th>\n",
              "      <th>num_followers_s</th>\n",
              "      <th>num_followers_d</th>\n",
              "      <th>num_followees_s</th>\n",
              "      <th>num_followees_d</th>\n",
              "      <th>inter_followers</th>\n",
              "      <th>inter_followees</th>\n",
              "      <th>adar_index</th>\n",
              "      <th>follows_back</th>\n",
              "      <th>same_comp</th>\n",
              "      <th>shortest_path</th>\n",
              "      <th>weight_in</th>\n",
              "      <th>weight_out</th>\n",
              "      <th>weight_f1</th>\n",
              "      <th>weight_f2</th>\n",
              "      <th>weight_f3</th>\n",
              "      <th>weight_f4</th>\n",
              "      <th>page_rank_s</th>\n",
              "      <th>page_rank_d</th>\n",
              "      <th>katz_s</th>\n",
              "      <th>katz_d</th>\n",
              "      <th>hubs_s</th>\n",
              "      <th>hubs_d</th>\n",
              "      <th>authorities_s</th>\n",
              "      <th>authorities_d</th>\n",
              "      <th>prefer_Attach_followers</th>\n",
              "      <th>prefer_Attach_followees</th>\n",
              "      <th>svd_u_s_1</th>\n",
              "      <th>svd_u_s_2</th>\n",
              "      <th>svd_u_s_3</th>\n",
              "      <th>svd_u_s_4</th>\n",
              "      <th>svd_u_s_5</th>\n",
              "      <th>svd_u_s_6</th>\n",
              "      <th>svd_u_d_1</th>\n",
              "      <th>svd_u_d_2</th>\n",
              "      <th>svd_u_d_3</th>\n",
              "      <th>svd_u_d_4</th>\n",
              "      <th>svd_u_d_5</th>\n",
              "      <th>svd_u_d_6</th>\n",
              "      <th>svd_v_s_1</th>\n",
              "      <th>svd_v_s_2</th>\n",
              "      <th>svd_v_s_3</th>\n",
              "      <th>svd_v_s_4</th>\n",
              "      <th>svd_v_s_5</th>\n",
              "      <th>svd_v_s_6</th>\n",
              "      <th>svd_v_d_1</th>\n",
              "      <th>svd_v_d_2</th>\n",
              "      <th>svd_v_d_3</th>\n",
              "      <th>svd_v_d_4</th>\n",
              "      <th>svd_v_d_5</th>\n",
              "      <th>svd_v_d_6</th>\n",
              "      <th>svd_dot_train</th>\n",
              "    </tr>\n",
              "  </thead>\n",
              "  <tbody>\n",
              "    <tr>\n",
              "      <th>0</th>\n",
              "      <td>273084</td>\n",
              "      <td>1505602</td>\n",
              "      <td>1</td>\n",
              "      <td>0.000000</td>\n",
              "      <td>0.000000</td>\n",
              "      <td>0.000000</td>\n",
              "      <td>0.00000</td>\n",
              "      <td>11</td>\n",
              "      <td>6</td>\n",
              "      <td>15</td>\n",
              "      <td>8</td>\n",
              "      <td>0</td>\n",
              "      <td>0</td>\n",
              "      <td>0.000000</td>\n",
              "      <td>0</td>\n",
              "      <td>1</td>\n",
              "      <td>4</td>\n",
              "      <td>0.377964</td>\n",
              "      <td>0.250000</td>\n",
              "      <td>0.627964</td>\n",
              "      <td>0.094491</td>\n",
              "      <td>1.005929</td>\n",
              "      <td>0.877964</td>\n",
              "      <td>2.045290e-06</td>\n",
              "      <td>3.459963e-07</td>\n",
              "      <td>0.000773</td>\n",
              "      <td>0.000756</td>\n",
              "      <td>1.943132e-13</td>\n",
              "      <td>1.941103e-13</td>\n",
              "      <td>9.226339e-16</td>\n",
              "      <td>2.231877e-15</td>\n",
              "      <td>66</td>\n",
              "      <td>120</td>\n",
              "      <td>-1.666333e-13</td>\n",
              "      <td>4.613822e-13</td>\n",
              "      <td>1.043041e-05</td>\n",
              "      <td>6.678030e-13</td>\n",
              "      <td>2.451106e-13</td>\n",
              "      <td>3.584945e-12</td>\n",
              "      <td>-2.038018e-11</td>\n",
              "      <td>5.397914e-13</td>\n",
              "      <td>1.068943e-06</td>\n",
              "      <td>1.192461e-12</td>\n",
              "      <td>2.279488e-12</td>\n",
              "      <td>3.581202e-12</td>\n",
              "      <td>-7.216151e-13</td>\n",
              "      <td>3.926264e-13</td>\n",
              "      <td>1.983700e-06</td>\n",
              "      <td>1.545089e-13</td>\n",
              "      <td>8.108438e-13</td>\n",
              "      <td>1.719704e-14</td>\n",
              "      <td>-1.355369e-12</td>\n",
              "      <td>4.675320e-13</td>\n",
              "      <td>1.128586e-06</td>\n",
              "      <td>6.616714e-14</td>\n",
              "      <td>9.771079e-13</td>\n",
              "      <td>4.160012e-14</td>\n",
              "      <td>2.238777e-12</td>\n",
              "    </tr>\n",
              "    <tr>\n",
              "      <th>1</th>\n",
              "      <td>546636</td>\n",
              "      <td>283651</td>\n",
              "      <td>1</td>\n",
              "      <td>0.000000</td>\n",
              "      <td>0.000000</td>\n",
              "      <td>0.000000</td>\n",
              "      <td>0.00000</td>\n",
              "      <td>4</td>\n",
              "      <td>4</td>\n",
              "      <td>3</td>\n",
              "      <td>9</td>\n",
              "      <td>0</td>\n",
              "      <td>0</td>\n",
              "      <td>0.000000</td>\n",
              "      <td>1</td>\n",
              "      <td>1</td>\n",
              "      <td>7</td>\n",
              "      <td>0.447214</td>\n",
              "      <td>0.500000</td>\n",
              "      <td>0.947214</td>\n",
              "      <td>0.223607</td>\n",
              "      <td>1.394427</td>\n",
              "      <td>1.447214</td>\n",
              "      <td>5.254600e-07</td>\n",
              "      <td>4.823673e-07</td>\n",
              "      <td>0.000746</td>\n",
              "      <td>0.000747</td>\n",
              "      <td>6.992918e-18</td>\n",
              "      <td>1.718237e-16</td>\n",
              "      <td>1.588886e-16</td>\n",
              "      <td>3.125732e-17</td>\n",
              "      <td>16</td>\n",
              "      <td>27</td>\n",
              "      <td>-4.294535e-14</td>\n",
              "      <td>5.225240e-12</td>\n",
              "      <td>4.070597e-13</td>\n",
              "      <td>1.157269e-14</td>\n",
              "      <td>3.565339e-14</td>\n",
              "      <td>1.291348e-16</td>\n",
              "      <td>-1.024905e-11</td>\n",
              "      <td>1.633155e-11</td>\n",
              "      <td>1.479535e-11</td>\n",
              "      <td>7.436574e-12</td>\n",
              "      <td>3.390846e-12</td>\n",
              "      <td>3.170023e-15</td>\n",
              "      <td>-2.895648e-13</td>\n",
              "      <td>1.769860e-13</td>\n",
              "      <td>9.854417e-12</td>\n",
              "      <td>3.115966e-13</td>\n",
              "      <td>1.348862e-12</td>\n",
              "      <td>2.961536e-15</td>\n",
              "      <td>-4.095193e-13</td>\n",
              "      <td>4.143093e-13</td>\n",
              "      <td>6.233152e-12</td>\n",
              "      <td>7.212227e-13</td>\n",
              "      <td>1.837750e-13</td>\n",
              "      <td>5.826093e-16</td>\n",
              "      <td>6.208861e-23</td>\n",
              "    </tr>\n",
              "    <tr>\n",
              "      <th>2</th>\n",
              "      <td>1059200</td>\n",
              "      <td>1664635</td>\n",
              "      <td>1</td>\n",
              "      <td>0.333333</td>\n",
              "      <td>0.578947</td>\n",
              "      <td>0.222718</td>\n",
              "      <td>0.73994</td>\n",
              "      <td>14</td>\n",
              "      <td>6</td>\n",
              "      <td>17</td>\n",
              "      <td>13</td>\n",
              "      <td>5</td>\n",
              "      <td>11</td>\n",
              "      <td>11.424889</td>\n",
              "      <td>1</td>\n",
              "      <td>1</td>\n",
              "      <td>2</td>\n",
              "      <td>0.377964</td>\n",
              "      <td>0.235702</td>\n",
              "      <td>0.613667</td>\n",
              "      <td>0.089087</td>\n",
              "      <td>0.991631</td>\n",
              "      <td>0.849369</td>\n",
              "      <td>1.085197e-06</td>\n",
              "      <td>3.825109e-07</td>\n",
              "      <td>0.000785</td>\n",
              "      <td>0.000754</td>\n",
              "      <td>1.791779e-17</td>\n",
              "      <td>1.799380e-17</td>\n",
              "      <td>1.414347e-17</td>\n",
              "      <td>5.376350e-19</td>\n",
              "      <td>84</td>\n",
              "      <td>221</td>\n",
              "      <td>-2.078943e-17</td>\n",
              "      <td>6.709027e-16</td>\n",
              "      <td>1.051139e-15</td>\n",
              "      <td>9.945716e-13</td>\n",
              "      <td>2.091685e-15</td>\n",
              "      <td>3.308249e-16</td>\n",
              "      <td>-2.284525e-17</td>\n",
              "      <td>6.707159e-16</td>\n",
              "      <td>1.060685e-15</td>\n",
              "      <td>9.955889e-13</td>\n",
              "      <td>2.151094e-15</td>\n",
              "      <td>3.323922e-16</td>\n",
              "      <td>-2.263675e-16</td>\n",
              "      <td>1.421757e-16</td>\n",
              "      <td>1.192485e-15</td>\n",
              "      <td>3.325415e-13</td>\n",
              "      <td>7.828722e-15</td>\n",
              "      <td>2.636437e-16</td>\n",
              "      <td>-1.021004e-18</td>\n",
              "      <td>3.012316e-17</td>\n",
              "      <td>4.625290e-17</td>\n",
              "      <td>4.257590e-14</td>\n",
              "      <td>7.681182e-17</td>\n",
              "      <td>1.002961e-17</td>\n",
              "      <td>1.415892e-26</td>\n",
              "    </tr>\n",
              "    <tr>\n",
              "      <th>3</th>\n",
              "      <td>1099490</td>\n",
              "      <td>664927</td>\n",
              "      <td>1</td>\n",
              "      <td>0.190476</td>\n",
              "      <td>0.100000</td>\n",
              "      <td>0.084327</td>\n",
              "      <td>0.18490</td>\n",
              "      <td>10</td>\n",
              "      <td>15</td>\n",
              "      <td>9</td>\n",
              "      <td>13</td>\n",
              "      <td>4</td>\n",
              "      <td>2</td>\n",
              "      <td>1.772964</td>\n",
              "      <td>1</td>\n",
              "      <td>1</td>\n",
              "      <td>2</td>\n",
              "      <td>0.250000</td>\n",
              "      <td>0.316228</td>\n",
              "      <td>0.566228</td>\n",
              "      <td>0.079057</td>\n",
              "      <td>0.816228</td>\n",
              "      <td>0.882456</td>\n",
              "      <td>1.029007e-06</td>\n",
              "      <td>1.070835e-06</td>\n",
              "      <td>0.000770</td>\n",
              "      <td>0.000792</td>\n",
              "      <td>4.069371e-16</td>\n",
              "      <td>1.669981e-15</td>\n",
              "      <td>2.134915e-15</td>\n",
              "      <td>1.056871e-14</td>\n",
              "      <td>150</td>\n",
              "      <td>117</td>\n",
              "      <td>-2.666987e-13</td>\n",
              "      <td>7.507318e-12</td>\n",
              "      <td>2.870107e-07</td>\n",
              "      <td>1.996837e-12</td>\n",
              "      <td>1.057447e-11</td>\n",
              "      <td>7.507641e-15</td>\n",
              "      <td>-5.011533e-13</td>\n",
              "      <td>1.001640e-12</td>\n",
              "      <td>2.588633e-06</td>\n",
              "      <td>3.120371e-12</td>\n",
              "      <td>1.080633e-11</td>\n",
              "      <td>3.081034e-14</td>\n",
              "      <td>-2.408339e-13</td>\n",
              "      <td>6.985826e-12</td>\n",
              "      <td>3.582105e-07</td>\n",
              "      <td>7.244082e-12</td>\n",
              "      <td>7.019879e-13</td>\n",
              "      <td>3.979285e-14</td>\n",
              "      <td>-1.784962e-12</td>\n",
              "      <td>1.119161e-11</td>\n",
              "      <td>2.336196e-06</td>\n",
              "      <td>1.581177e-11</td>\n",
              "      <td>1.296474e-12</td>\n",
              "      <td>1.969910e-13</td>\n",
              "      <td>8.368500e-13</td>\n",
              "    </tr>\n",
              "    <tr>\n",
              "      <th>4</th>\n",
              "      <td>137977</td>\n",
              "      <td>1745118</td>\n",
              "      <td>1</td>\n",
              "      <td>0.125000</td>\n",
              "      <td>0.000000</td>\n",
              "      <td>0.136083</td>\n",
              "      <td>0.00000</td>\n",
              "      <td>6</td>\n",
              "      <td>3</td>\n",
              "      <td>6</td>\n",
              "      <td>1</td>\n",
              "      <td>1</td>\n",
              "      <td>0</td>\n",
              "      <td>0.000000</td>\n",
              "      <td>0</td>\n",
              "      <td>1</td>\n",
              "      <td>2</td>\n",
              "      <td>0.500000</td>\n",
              "      <td>0.377964</td>\n",
              "      <td>0.877964</td>\n",
              "      <td>0.188982</td>\n",
              "      <td>1.377964</td>\n",
              "      <td>1.255929</td>\n",
              "      <td>8.132038e-07</td>\n",
              "      <td>4.440101e-07</td>\n",
              "      <td>0.000754</td>\n",
              "      <td>0.000743</td>\n",
              "      <td>2.353959e-21</td>\n",
              "      <td>1.921704e-20</td>\n",
              "      <td>1.189724e-17</td>\n",
              "      <td>1.936694e-21</td>\n",
              "      <td>18</td>\n",
              "      <td>6</td>\n",
              "      <td>-3.637926e-18</td>\n",
              "      <td>1.500414e-16</td>\n",
              "      <td>9.583991e-17</td>\n",
              "      <td>1.392194e-17</td>\n",
              "      <td>3.344254e-18</td>\n",
              "      <td>-5.074914e-20</td>\n",
              "      <td>6.285832e-22</td>\n",
              "      <td>2.236001e-17</td>\n",
              "      <td>3.557622e-18</td>\n",
              "      <td>1.470918e-18</td>\n",
              "      <td>5.613949e-19</td>\n",
              "      <td>6.492539e-19</td>\n",
              "      <td>-2.920966e-17</td>\n",
              "      <td>1.149702e-15</td>\n",
              "      <td>1.882646e-16</td>\n",
              "      <td>5.644831e-17</td>\n",
              "      <td>3.192655e-17</td>\n",
              "      <td>2.217581e-16</td>\n",
              "      <td>-1.709857e-19</td>\n",
              "      <td>8.852002e-18</td>\n",
              "      <td>1.709812e-17</td>\n",
              "      <td>6.126578e-18</td>\n",
              "      <td>1.271024e-18</td>\n",
              "      <td>3.328617e-20</td>\n",
              "      <td>1.379492e-32</td>\n",
              "    </tr>\n",
              "  </tbody>\n",
              "</table>\n",
              "</div>"
            ],
            "text/plain": [
              "   source_node  destination_node  ...     svd_v_d_6  svd_dot_train\n",
              "0       273084           1505602  ...  4.160012e-14   2.238777e-12\n",
              "1       546636            283651  ...  5.826093e-16   6.208861e-23\n",
              "2      1059200           1664635  ...  1.002961e-17   1.415892e-26\n",
              "3      1099490            664927  ...  1.969910e-13   8.368500e-13\n",
              "4       137977           1745118  ...  3.328617e-20   1.379492e-32\n",
              "\n",
              "[5 rows x 58 columns]"
            ]
          },
          "metadata": {
            "tags": []
          },
          "execution_count": 109
        }
      ]
    },
    {
      "cell_type": "code",
      "metadata": {
        "id": "_xzwTivm8r5s",
        "colab_type": "code",
        "colab": {}
      },
      "source": [
        "\n",
        "hdf = HDFStore('/content/drive/My Drive/Colab Notebooks/storage_sample_stage4.h5')\n",
        "hdf.put('/content/drive/My Drive/Colab Notebooks/train_df',df_final_train, format='table', data_columns=True)\n",
        "hdf.put('/content/drive/My Drive/Colab Notebooks/test_df',df_final_test, format='table', data_columns=True)\n",
        "hdf.close()"
      ],
      "execution_count": 0,
      "outputs": []
    },
    {
      "cell_type": "code",
      "metadata": {
        "id": "TcfclIfi8r5t",
        "colab_type": "code",
        "colab": {}
      },
      "source": [
        "#Importing Libraries\n",
        "# please do go through this python notebook: \n",
        "import warnings\n",
        "warnings.filterwarnings(\"ignore\")\n",
        "\n",
        "import csv\n",
        "import pandas as pd#pandas to create small dataframes \n",
        "import datetime #Convert to unix time\n",
        "import time #Convert to unix time\n",
        "# if numpy is not installed already : pip3 install numpy\n",
        "import numpy as np#Do aritmetic operations on arrays\n",
        "# matplotlib: used to plot graphs\n",
        "import matplotlib\n",
        "import matplotlib.pylab as plt\n",
        "import seaborn as sns#Plots\n",
        "from matplotlib import rcParams#Size of plots  \n",
        "from sklearn.cluster import MiniBatchKMeans, KMeans#Clustering\n",
        "import math\n",
        "import pickle\n",
        "import os\n",
        "# to install xgboost: pip3 install xgboost\n",
        "import xgboost as xgb\n",
        "\n",
        "import warnings\n",
        "import networkx as nx\n",
        "import pdb\n",
        "import pickle\n",
        "from pandas import HDFStore,DataFrame\n",
        "from pandas import read_hdf\n",
        "from scipy.sparse.linalg import svds, eigs\n",
        "import gc\n",
        "from tqdm import tqdm\n",
        "from sklearn.ensemble import RandomForestClassifier\n",
        "from sklearn.metrics import f1_score"
      ],
      "execution_count": 0,
      "outputs": []
    },
    {
      "cell_type": "code",
      "metadata": {
        "id": "I0gzJmCq8r5u",
        "colab_type": "code",
        "outputId": "ea69bf0e-f776-4e74-9a8b-a7b5397e07c9",
        "colab": {
          "base_uri": "https://localhost:8080/",
          "height": 272
        }
      },
      "source": [
        "df_final_train.columns"
      ],
      "execution_count": 0,
      "outputs": [
        {
          "output_type": "execute_result",
          "data": {
            "text/plain": [
              "Index(['source_node', 'destination_node', 'indicator_link',\n",
              "       'jaccard_followers', 'jaccard_followees', 'cosine_followers',\n",
              "       'cosine_followees', 'num_followers_s', 'num_followers_d',\n",
              "       'num_followees_s', 'num_followees_d', 'inter_followers',\n",
              "       'inter_followees', 'adar_index', 'follows_back', 'same_comp',\n",
              "       'shortest_path', 'weight_in', 'weight_out', 'weight_f1', 'weight_f2',\n",
              "       'weight_f3', 'weight_f4', 'page_rank_s', 'page_rank_d', 'katz_s',\n",
              "       'katz_d', 'hubs_s', 'hubs_d', 'authorities_s', 'authorities_d',\n",
              "       'prefer_Attach_followers', 'prefer_Attach_followees', 'svd_u_s_1',\n",
              "       'svd_u_s_2', 'svd_u_s_3', 'svd_u_s_4', 'svd_u_s_5', 'svd_u_s_6',\n",
              "       'svd_u_d_1', 'svd_u_d_2', 'svd_u_d_3', 'svd_u_d_4', 'svd_u_d_5',\n",
              "       'svd_u_d_6', 'svd_v_s_1', 'svd_v_s_2', 'svd_v_s_3', 'svd_v_s_4',\n",
              "       'svd_v_s_5', 'svd_v_s_6', 'svd_v_d_1', 'svd_v_d_2', 'svd_v_d_3',\n",
              "       'svd_v_d_4', 'svd_v_d_5', 'svd_v_d_6', 'svd_dot_train'],\n",
              "      dtype='object')"
            ]
          },
          "metadata": {
            "tags": []
          },
          "execution_count": 112
        }
      ]
    },
    {
      "cell_type": "code",
      "metadata": {
        "id": "OY4dvEJO8r5w",
        "colab_type": "code",
        "colab": {}
      },
      "source": [
        "y_train = df_final_train.indicator_link\n",
        "y_test = df_final_test.indicator_link"
      ],
      "execution_count": 0,
      "outputs": []
    },
    {
      "cell_type": "code",
      "metadata": {
        "id": "q9xJmaRw8r50",
        "colab_type": "code",
        "colab": {}
      },
      "source": [
        "df_final_train.drop(['source_node', 'destination_node','indicator_link'],axis=1,inplace=True)\n",
        "df_final_test.drop(['source_node', 'destination_node','indicator_link'],axis=1,inplace=True)"
      ],
      "execution_count": 0,
      "outputs": []
    },
    {
      "cell_type": "code",
      "metadata": {
        "id": "QYjp2Hme8r52",
        "colab_type": "code",
        "outputId": "da6b00a7-92dd-430e-837b-835ce627dc07",
        "colab": {
          "base_uri": "https://localhost:8080/",
          "height": 397
        }
      },
      "source": [
        "estimators = [10,50,100,250,450]\n",
        "train_scores = []\n",
        "test_scores = []\n",
        "for i in estimators:\n",
        "    clf = RandomForestClassifier(bootstrap=True, class_weight=None, criterion='gini',\n",
        "            max_depth=5, max_features='auto', max_leaf_nodes=None,\n",
        "            min_impurity_decrease=0.0, min_impurity_split=None,\n",
        "            min_samples_leaf=52, min_samples_split=120,\n",
        "            min_weight_fraction_leaf=0.0, n_estimators=i, n_jobs=-1,random_state=25,verbose=0,warm_start=False)\n",
        "    clf.fit(df_final_train,y_train)\n",
        "    train_sc = f1_score(y_train,clf.predict(df_final_train))\n",
        "    test_sc = f1_score(y_test,clf.predict(df_final_test))\n",
        "    test_scores.append(test_sc)\n",
        "    train_scores.append(train_sc)\n",
        "    print('Estimators = ',i,'Train Score',train_sc,'test Score',test_sc)\n",
        "plt.plot(estimators,train_scores,label='Train Score')\n",
        "plt.plot(estimators,test_scores,label='Test Score')\n",
        "plt.xlabel('Estimators')\n",
        "plt.ylabel('Score')\n",
        "plt.title('Estimators vs score at depth of 5')"
      ],
      "execution_count": 0,
      "outputs": [
        {
          "output_type": "stream",
          "text": [
            "Estimators =  10 Train Score 0.8941048384514393 test Score 0.8730430263528292\n",
            "Estimators =  50 Train Score 0.9183497251647958 test Score 0.9011635340749264\n",
            "Estimators =  100 Train Score 0.9201747752289724 test Score 0.9137252425754037\n",
            "Estimators =  250 Train Score 0.9193148381672972 test Score 0.913054467332238\n",
            "Estimators =  450 Train Score 0.9200864837633032 test Score 0.9136306268405553\n"
          ],
          "name": "stdout"
        },
        {
          "output_type": "execute_result",
          "data": {
            "text/plain": [
              "Text(0.5, 1.0, 'Estimators vs score at depth of 5')"
            ]
          },
          "metadata": {
            "tags": []
          },
          "execution_count": 115
        },
        {
          "output_type": "display_data",
          "data": {
            "image/png": "[encoded data removed]",
            "text/plain": [
              "<Figure size 432x288 with 1 Axes>"
            ]
          },
          "metadata": {
            "tags": []
          }
        }
      ]
    },
    {
      "cell_type": "code",
      "metadata": {
        "id": "HSBzr7km8r57",
        "colab_type": "code",
        "outputId": "6f263801-0bcf-4916-b6d4-e45d3b1f24bb",
        "colab": {
          "base_uri": "https://localhost:8080/",
          "height": 448
        }
      },
      "source": [
        "depths = [3,9,11,15,20,35,50,70,130]\n",
        "train_scores = []\n",
        "test_scores = []\n",
        "for i in depths:\n",
        "    clf = RandomForestClassifier(bootstrap=True, class_weight=None, criterion='gini',\n",
        "            max_depth=i, max_features='auto', max_leaf_nodes=None,\n",
        "            min_impurity_decrease=0.0, min_impurity_split=None,\n",
        "            min_samples_leaf=52, min_samples_split=120,\n",
        "            min_weight_fraction_leaf=0.0, n_estimators=115, n_jobs=-1,random_state=25,verbose=0,warm_start=False)\n",
        "    clf.fit(df_final_train,y_train)\n",
        "    train_sc = f1_score(y_train,clf.predict(df_final_train))\n",
        "    test_sc = f1_score(y_test,clf.predict(df_final_test))\n",
        "    test_scores.append(test_sc)\n",
        "    train_scores.append(train_sc)\n",
        "    print('depth = ',i,'Train Score',train_sc,'test Score',test_sc)\n",
        "plt.plot(depths,train_scores,label='Train Score')\n",
        "plt.plot(depths,test_scores,label='Test Score')\n",
        "plt.xlabel('Depth')\n",
        "plt.ylabel('Score')\n",
        "plt.title('Depth vs score at depth of 5 at estimators = 115')\n",
        "plt.show()"
      ],
      "execution_count": 0,
      "outputs": [
        {
          "output_type": "stream",
          "text": [
            "depth =  3 Train Score 0.8720407487693145 test Score 0.8507685970123365\n",
            "depth =  9 Train Score 0.9602487276309308 test Score 0.921496791681667\n",
            "depth =  11 Train Score 0.9623789510282132 test Score 0.921434310118821\n",
            "depth =  15 Train Score 0.9632888597855448 test Score 0.9190416569403476\n",
            "depth =  20 Train Score 0.964657559440488 test Score 0.9224717675421901\n",
            "depth =  35 Train Score 0.9644473966583209 test Score 0.922227627487891\n",
            "depth =  50 Train Score 0.9644473966583209 test Score 0.922227627487891\n",
            "depth =  70 Train Score 0.9644473966583209 test Score 0.922227627487891\n",
            "depth =  130 Train Score 0.9644473966583209 test Score 0.922227627487891\n"
          ],
          "name": "stdout"
        },
        {
          "output_type": "display_data",
          "data": {
            "image/png": "[encoded data removed]",
            "text/plain": [
              "<Figure size 432x288 with 1 Axes>"
            ]
          },
          "metadata": {
            "tags": []
          }
        }
      ]
    },
    {
      "cell_type": "code",
      "metadata": {
        "id": "unBoFBKn8r59",
        "colab_type": "code",
        "outputId": "04434ea7-3403-48c6-9749-b996a92c2790",
        "colab": {
          "base_uri": "https://localhost:8080/",
          "height": 51
        }
      },
      "source": [
        "from sklearn.metrics import f1_score\n",
        "from sklearn.ensemble import RandomForestClassifier\n",
        "from sklearn.metrics import f1_score\n",
        "from sklearn.model_selection import RandomizedSearchCV\n",
        "from scipy.stats import randint as sp_randint\n",
        "from scipy.stats import uniform\n",
        "\n",
        "param_dist = {\"n_estimators\":sp_randint(105,125),\n",
        "              \"max_depth\": sp_randint(10,15),\n",
        "              \"min_samples_split\": sp_randint(110,190),\n",
        "              \"min_samples_leaf\": sp_randint(25,65)}\n",
        "\n",
        "clf = RandomForestClassifier(random_state=25,n_jobs=-1)\n",
        "\n",
        "rf_random = RandomizedSearchCV(clf, param_distributions=param_dist,\n",
        "                                   n_iter=5,cv=10,scoring='f1',random_state=25,return_train_score=True)\n",
        "\n",
        "rf_random.fit(df_final_train,y_train)\n",
        "print('mean test scores',rf_random.cv_results_['mean_test_score'])\n",
        "print('mean train scores',rf_random.cv_results_['mean_train_score'])"
      ],
      "execution_count": 0,
      "outputs": [
        {
          "output_type": "stream",
          "text": [
            "mean test scores [0.96330067 0.96291153 0.96156077 0.9626299  0.96390902]\n",
            "mean train scores [0.96425099 0.96376756 0.96229912 0.96359762 0.96528315]\n"
          ],
          "name": "stdout"
        }
      ]
    },
    {
      "cell_type": "code",
      "metadata": {
        "id": "h0bB7Spj8r5-",
        "colab_type": "code",
        "outputId": "25528dad-e687-4416-b0c5-34b04907437d",
        "colab": {
          "base_uri": "https://localhost:8080/",
          "height": 153
        }
      },
      "source": [
        "print(rf_random.best_estimator_)"
      ],
      "execution_count": 0,
      "outputs": [
        {
          "output_type": "stream",
          "text": [
            "RandomForestClassifier(bootstrap=True, ccp_alpha=0.0, class_weight=None,\n",
            "                       criterion='gini', max_depth=14, max_features='auto',\n",
            "                       max_leaf_nodes=None, max_samples=None,\n",
            "                       min_impurity_decrease=0.0, min_impurity_split=None,\n",
            "                       min_samples_leaf=28, min_samples_split=111,\n",
            "                       min_weight_fraction_leaf=0.0, n_estimators=121,\n",
            "                       n_jobs=-1, oob_score=False, random_state=25, verbose=0,\n",
            "                       warm_start=False)\n"
          ],
          "name": "stdout"
        }
      ]
    },
    {
      "cell_type": "code",
      "metadata": {
        "id": "u8-u38f38r6A",
        "colab_type": "code",
        "colab": {}
      },
      "source": [
        "clf=RandomForestClassifier(bootstrap=True, class_weight=None, criterion='gini',\n",
        "            max_depth=14, max_features='auto', max_leaf_nodes=None,\n",
        "            min_impurity_decrease=0.0, min_impurity_split=None,\n",
        "            min_samples_leaf=28, min_samples_split=111,\n",
        "            min_weight_fraction_leaf=0.0, n_estimators=121, n_jobs=-1,\n",
        "            oob_score=False, random_state=25, verbose=0, warm_start=False)\n"
      ],
      "execution_count": 0,
      "outputs": []
    },
    {
      "cell_type": "code",
      "metadata": {
        "id": "kYfebdZx8r6B",
        "colab_type": "code",
        "colab": {}
      },
      "source": [
        "clf.fit(df_final_train,y_train)\n",
        "y_train_pred = clf.predict(df_final_train)\n",
        "y_test_pred = clf.predict(df_final_test)"
      ],
      "execution_count": 0,
      "outputs": []
    },
    {
      "cell_type": "code",
      "metadata": {
        "id": "gdiJ--3K8r6D",
        "colab_type": "code",
        "outputId": "f111dd43-dd22-4068-8507-158d11a32bb7",
        "colab": {
          "base_uri": "https://localhost:8080/",
          "height": 51
        }
      },
      "source": [
        "from sklearn.metrics import f1_score\n",
        "print('Train f1 score',f1_score(y_train,y_train_pred))\n",
        "print('Test f1 score',f1_score(y_test,y_test_pred))"
      ],
      "execution_count": 0,
      "outputs": [
        {
          "output_type": "stream",
          "text": [
            "Train f1 score 0.9655031555728028\n",
            "Test f1 score 0.9237759134422349\n"
          ],
          "name": "stdout"
        }
      ]
    },
    {
      "cell_type": "code",
      "metadata": {
        "id": "JcphS2D78r6E",
        "colab_type": "code",
        "colab": {}
      },
      "source": [
        "from sklearn.metrics import confusion_matrix\n",
        "def plot_confusion_matrix(test_y, predict_y):\n",
        "    C = confusion_matrix(test_y, predict_y)\n",
        "    \n",
        "    A =(((C.T)/(C.sum(axis=1))).T)\n",
        "    \n",
        "    B =(C/C.sum(axis=0))\n",
        "    plt.figure(figsize=(20,4))\n",
        "    \n",
        "    labels = [0,1]\n",
        "    # representing A in heatmap format\n",
        "    cmap=sns.light_palette(\"blue\")\n",
        "    plt.subplot(1, 3, 1)\n",
        "    sns.heatmap(C, annot=True, cmap=cmap, fmt=\".3f\", xticklabels=labels, yticklabels=labels)\n",
        "    plt.xlabel('Predicted Class')\n",
        "    plt.ylabel('Original Class')\n",
        "    plt.title(\"Confusion matrix\")\n",
        "    \n",
        "    plt.subplot(1, 3, 2)\n",
        "    sns.heatmap(B, annot=True, cmap=cmap, fmt=\".3f\", xticklabels=labels, yticklabels=labels)\n",
        "    plt.xlabel('Predicted Class')\n",
        "    plt.ylabel('Original Class')\n",
        "    plt.title(\"Precision matrix\")\n",
        "    \n",
        "    plt.subplot(1, 3, 3)\n",
        "    # representing B in heatmap format\n",
        "    sns.heatmap(A, annot=True, cmap=cmap, fmt=\".3f\", xticklabels=labels, yticklabels=labels)\n",
        "    plt.xlabel('Predicted Class')\n",
        "    plt.ylabel('Original Class')\n",
        "    plt.title(\"Recall matrix\")\n",
        "    \n",
        "    plt.show()"
      ],
      "execution_count": 0,
      "outputs": []
    },
    {
      "cell_type": "code",
      "metadata": {
        "id": "k4GGjSL_8r6G",
        "colab_type": "code",
        "outputId": "d21df0c1-2490-479d-a756-1b3242cfaa76",
        "colab": {
          "base_uri": "https://localhost:8080/",
          "height": 607
        }
      },
      "source": [
        "print('Train confusion_matrix')\n",
        "plot_confusion_matrix(y_train,y_train_pred)\n",
        "print('Test confusion_matrix')\n",
        "plot_confusion_matrix(y_test,y_test_pred)"
      ],
      "execution_count": 0,
      "outputs": [
        {
          "output_type": "stream",
          "text": [
            "Train confusion_matrix\n"
          ],
          "name": "stdout"
        },
        {
          "output_type": "display_data",
          "data": {
            "image/png": "[encoded data removed]",
            "text/plain": [
              "<Figure size 1440x288 with 6 Axes>"
            ]
          },
          "metadata": {
            "tags": []
          }
        },
        {
          "output_type": "stream",
          "text": [
            "Test confusion_matrix\n"
          ],
          "name": "stdout"
        },
        {
          "output_type": "display_data",
          "data": {
            "image/png": "[encoded data removed]",
            "text/plain": [
              "<Figure size 1440x288 with 6 Axes>"
            ]
          },
          "metadata": {
            "tags": []
          }
        }
      ]
    },
    {
      "cell_type": "code",
      "metadata": {
        "id": "vK1ydOpt8r6I",
        "colab_type": "code",
        "outputId": "f554303c-4527-4a14-8d79-8b1530929704",
        "colab": {
          "base_uri": "https://localhost:8080/",
          "height": 295
        }
      },
      "source": [
        "from sklearn.metrics import roc_curve, auc\n",
        "fpr,tpr,ths = roc_curve(y_test,y_test_pred)\n",
        "auc_sc = auc(fpr, tpr)\n",
        "plt.plot(fpr, tpr, color='navy',label='ROC curve (area = %0.2f)' % auc_sc)\n",
        "plt.xlabel('False Positive Rate')\n",
        "plt.ylabel('True Positive Rate')\n",
        "plt.title('Receiver operating characteristic with test data')\n",
        "plt.legend()\n",
        "plt.show()"
      ],
      "execution_count": 0,
      "outputs": [
        {
          "output_type": "display_data",
          "data": {
            "image/png": "[encoded data removed]",
            "text/plain": [
              "<Figure size 432x288 with 1 Axes>"
            ]
          },
          "metadata": {
            "tags": []
          }
        }
      ]
    },
    {
      "cell_type": "code",
      "metadata": {
        "id": "Q2ZWLEcW8r6K",
        "colab_type": "code",
        "outputId": "406d2649-40cb-40d6-9a0e-138609407aa6",
        "colab": {
          "base_uri": "https://localhost:8080/",
          "height": 730
        }
      },
      "source": [
        "features = df_final_train.columns\n",
        "importances = clf.feature_importances_\n",
        "indices = (np.argsort(importances))[-25:]\n",
        "plt.figure(figsize=(10,12))\n",
        "plt.title('Feature Importances')\n",
        "plt.barh(range(len(indices)), importances[indices], color='r', align='center')\n",
        "plt.yticks(range(len(indices)), [features[i] for i in indices])\n",
        "plt.xlabel('Relative Importance')\n",
        "plt.show()"
      ],
      "execution_count": 0,
      "outputs": [
        {
          "output_type": "display_data",
          "data": {
            "image/png": "[encoded data removed]",
            "text/plain": [
              "<Figure size 720x864 with 1 Axes>"
            ]
          },
          "metadata": {
            "tags": []
          }
        }
      ]
    },
    {
      "cell_type": "markdown",
      "metadata": {
        "id": "03AFHetF8r6N",
        "colab_type": "text"
      },
      "source": [
        "### Applying XGBOOST "
      ]
    },
    {
      "cell_type": "code",
      "metadata": {
        "id": "XVI_p57X8r6N",
        "colab_type": "code",
        "outputId": "6d076907-d4f6-404b-cf93-899a2dbadc7c",
        "colab": {
          "base_uri": "https://localhost:8080/",
          "height": 170
        }
      },
      "source": [
        "\n",
        "from xgboost import XGBClassifier\n",
        "from sklearn.model_selection import GridSearchCV\n",
        "\n",
        "\n",
        "base_learners = [20,40,60,80,100,120]\n",
        "depths=[1,5,10,50,100,500,1000]\n",
        "param_grid={'n_estimators': base_learners, 'max_depth':depths}\n",
        "clf = XGBClassifier(booster='gbtree')\n",
        "model=RandomizedSearchCV(clf,param_grid , cv= 3, scoring='f1',return_train_score=True,verbose=10,n_jobs=-1)\n",
        "model.fit(df_final_train,y_train)\n",
        "print('optimal depth : ',model.best_estimator_.max_depth)\n",
        "print('optimal n_estimator : ',model.best_estimator_.n_estimators)"
      ],
      "execution_count": 0,
      "outputs": [
        {
          "output_type": "stream",
          "text": [
            "Fitting 3 folds for each of 10 candidates, totalling 30 fits\n"
          ],
          "name": "stdout"
        },
        {
          "output_type": "stream",
          "text": [
            "[Parallel(n_jobs=-1)]: Using backend LokyBackend with 4 concurrent workers.\n",
            "[Parallel(n_jobs=-1)]: Done   5 tasks      | elapsed:   51.4s\n",
            "[Parallel(n_jobs=-1)]: Done  10 tasks      | elapsed:  5.9min\n",
            "[Parallel(n_jobs=-1)]: Done  17 tasks      | elapsed: 11.4min\n",
            "[Parallel(n_jobs=-1)]: Done  27 out of  30 | elapsed: 20.0min remaining:  2.2min\n",
            "[Parallel(n_jobs=-1)]: Done  30 out of  30 | elapsed: 22.8min finished\n"
          ],
          "name": "stderr"
        },
        {
          "output_type": "stream",
          "text": [
            "optimal depth :  500\n",
            "optimal n_estimator :  100\n"
          ],
          "name": "stdout"
        }
      ]
    },
    {
      "cell_type": "code",
      "metadata": {
        "id": "UDYXekAc8r6U",
        "colab_type": "code",
        "outputId": "d52acec4-7831-4718-b60a-b49964acd3c1",
        "colab": {
          "base_uri": "https://localhost:8080/",
          "height": 136
        }
      },
      "source": [
        "print(model.best_estimator_)"
      ],
      "execution_count": 0,
      "outputs": [
        {
          "output_type": "stream",
          "text": [
            "XGBClassifier(base_score=0.5, booster='gbtree', colsample_bylevel=1,\n",
            "              colsample_bynode=1, colsample_bytree=1, gamma=0,\n",
            "              learning_rate=0.1, max_delta_step=0, max_depth=500,\n",
            "              min_child_weight=1, missing=None, n_estimators=100, n_jobs=1,\n",
            "              nthread=None, objective='binary:logistic', random_state=0,\n",
            "              reg_alpha=0, reg_lambda=1, scale_pos_weight=1, seed=None,\n",
            "              silent=None, subsample=1, verbosity=1)\n"
          ],
          "name": "stdout"
        }
      ]
    },
    {
      "cell_type": "code",
      "metadata": {
        "id": "YZ3DSt1M8r6W",
        "colab_type": "code",
        "colab": {}
      },
      "source": [
        "clf=XGBClassifier(base_score=0.5, booster='gbtree', colsample_bylevel=1,\n",
        "              colsample_bynode=1, colsample_bytree=1, gamma=0,\n",
        "              learning_rate=0.1, max_delta_step=0, max_depth=500,\n",
        "              min_child_weight=1, missing=None, n_estimators=100, n_jobs=1,\n",
        "              nthread=None, objective='binary:logistic', random_state=0,\n",
        "              reg_alpha=0, reg_lambda=1, scale_pos_weight=1, seed=None,\n",
        "              silent=None, subsample=1, verbosity=1)"
      ],
      "execution_count": 0,
      "outputs": []
    },
    {
      "cell_type": "code",
      "metadata": {
        "id": "XdyCnKY_8r6Y",
        "colab_type": "code",
        "outputId": "edd88b0f-3f84-4aff-dd7b-1b801a49ddbc",
        "colab": {
          "base_uri": "https://localhost:8080/",
          "height": 51
        }
      },
      "source": [
        "from sklearn.metrics import f1_score\n",
        "print('Train f1 score',f1_score(y_train,y_train_pred))\n",
        "print('Test f1 score',f1_score(y_test,y_test_pred))"
      ],
      "execution_count": 0,
      "outputs": [
        {
          "output_type": "stream",
          "text": [
            "Train f1 score 0.9655031555728028\n",
            "Test f1 score 0.9237759134422349\n"
          ],
          "name": "stdout"
        }
      ]
    },
    {
      "cell_type": "code",
      "metadata": {
        "id": "wziGX8sJ8r6c",
        "colab_type": "code",
        "outputId": "4d359d2a-ba2a-47ea-dddc-bedf84fa772b",
        "colab": {
          "base_uri": "https://localhost:8080/",
          "height": 607
        }
      },
      "source": [
        "print('Train confusion_matrix')\n",
        "plot_confusion_matrix(y_train,y_train_pred)\n",
        "print('Test confusion_matrix')\n",
        "plot_confusion_matrix(y_test,y_test_pred)"
      ],
      "execution_count": 0,
      "outputs": [
        {
          "output_type": "stream",
          "text": [
            "Train confusion_matrix\n"
          ],
          "name": "stdout"
        },
        {
          "output_type": "display_data",
          "data": {
            "image/png": "[encoded data removed]",
            "text/plain": [
              "<Figure size 1440x288 with 6 Axes>"
            ]
          },
          "metadata": {
            "tags": []
          }
        },
        {
          "output_type": "stream",
          "text": [
            "Test confusion_matrix\n"
          ],
          "name": "stdout"
        },
        {
          "output_type": "display_data",
          "data": {
            "image/png": "[encoded data removed]",
            "text/plain": [
              "<Figure size 1440x288 with 6 Axes>"
            ]
          },
          "metadata": {
            "tags": []
          }
        }
      ]
    },
    {
      "cell_type": "code",
      "metadata": {
        "id": "7VypXB8v8r6f",
        "colab_type": "code",
        "outputId": "407f38f2-9132-4fd2-9ecc-c2621f637128",
        "colab": {
          "base_uri": "https://localhost:8080/",
          "height": 295
        }
      },
      "source": [
        "from sklearn.metrics import roc_curve, auc\n",
        "fpr,tpr,ths = roc_curve(y_test,y_test_pred)\n",
        "auc_sc = auc(fpr, tpr)\n",
        "plt.plot(fpr, tpr, color='navy',label='ROC curve (area = %0.2f)' % auc_sc)\n",
        "plt.xlabel('False Positive Rate')\n",
        "plt.ylabel('True Positive Rate')\n",
        "plt.title('Receiver operating characteristic with test data')\n",
        "plt.legend()\n",
        "plt.show()"
      ],
      "execution_count": 0,
      "outputs": [
        {
          "output_type": "display_data",
          "data": {
            "image/png": "[encoded data removed]",
            "text/plain": [
              "<Figure size 432x288 with 1 Axes>"
            ]
          },
          "metadata": {
            "tags": []
          }
        }
      ]
    },
    {
      "cell_type": "code",
      "metadata": {
        "id": "_UibrZ-qBYy-",
        "colab_type": "code",
        "colab": {}
      },
      "source": [
        "clf.fit(df_final_train,y_train)\n",
        "y_train_pred = clf.predict(df_final_train)\n",
        "y_test_pred = clf.predict(df_final_test)"
      ],
      "execution_count": 0,
      "outputs": []
    },
    {
      "cell_type": "code",
      "metadata": {
        "id": "LkW4Tjw88r6j",
        "colab_type": "code",
        "outputId": "ea515788-26e7-4f54-cb95-635540a05610",
        "colab": {
          "base_uri": "https://localhost:8080/",
          "height": 730
        }
      },
      "source": [
        "features = df_final_train.columns\n",
        "importances = clf.feature_importances_\n",
        "indices = (np.argsort(importances))[-25:]\n",
        "plt.figure(figsize=(10,12))\n",
        "plt.title('Feature Importances')\n",
        "plt.barh(range(len(indices)), importances[indices], color='r', align='center')\n",
        "plt.yticks(range(len(indices)), [features[i] for i in indices])\n",
        "plt.xlabel('Relative Importance')\n",
        "plt.show()"
      ],
      "execution_count": 0,
      "outputs": [
        {
          "output_type": "display_data",
          "data": {
            "image/png": "[encoded data removed]",
            "text/plain": [
              "<Figure size 720x864 with 1 Axes>"
            ]
          },
          "metadata": {
            "tags": []
          }
        }
      ]
    },
    {
      "cell_type": "markdown",
      "metadata": {
        "id": "sKC7bYLt8r6s",
        "colab_type": "text"
      },
      "source": [
        "### Procedure and Observation"
      ]
    },
    {
      "cell_type": "code",
      "metadata": {
        "id": "SO4i_str8r6s",
        "colab_type": "code",
        "outputId": "ac273103-180e-4d7c-bbc7-eb61dd48f9e4",
        "colab": {
          "base_uri": "https://localhost:8080/",
          "height": 119
        }
      },
      "source": [
        "from prettytable import PrettyTable\n",
        "x = PrettyTable()\n",
        "\n",
        "\n",
        "x.field_names = [ \"Model\", \"Hyperparameters(max_depth,n_estimators)\" , \"Train F1\",\"Test F1\"] \n",
        "x.add_row([ \"RF\",\"(14,121)\", 0.96,0.92]) \n",
        "x.add_row([ \"XGBOOST\", \"(500,100)\", 0.96,0.92])\n",
        "print(x)"
      ],
      "execution_count": 0,
      "outputs": [
        {
          "output_type": "stream",
          "text": [
            "+---------+-----------------------------------------+----------+---------+\n",
            "|  Model  | Hyperparameters(max_depth,n_estimators) | Train F1 | Test F1 |\n",
            "+---------+-----------------------------------------+----------+---------+\n",
            "|    RF   |                 (14,121)                |   0.96   |   0.92  |\n",
            "| XGBOOST |                (500,100)                |   0.96   |   0.92  |\n",
            "+---------+-----------------------------------------+----------+---------+\n"
          ],
          "name": "stdout"
        }
      ]
    },
    {
      "cell_type": "markdown",
      "metadata": {
        "id": "QwAtci4C8r6x",
        "colab_type": "text"
      },
      "source": [
        ""
      ]
    },
    {
      "cell_type": "code",
      "metadata": {
        "id": "39o4_3dA8r6y",
        "colab_type": "code",
        "colab": {}
      },
      "source": [
        ""
      ],
      "execution_count": 0,
      "outputs": []
    }
  ]
}